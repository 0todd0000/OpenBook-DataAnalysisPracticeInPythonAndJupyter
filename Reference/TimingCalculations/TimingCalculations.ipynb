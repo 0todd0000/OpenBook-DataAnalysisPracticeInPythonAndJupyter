{
 "cells": [
  {
   "cell_type": "markdown",
   "metadata": {},
   "source": [
    "# <span style=\"color:#54B1FF\">Reference:</span> &nbsp; <span style=\"color:#1B3EA9\"><b>Timing Calculations</b></span>\n",
    "\n",
    "<br>\n",
    "\n",
    "Python calculations can be timed using the `time.time` function:"
   ]
  },
  {
   "cell_type": "code",
   "execution_count": 1,
   "metadata": {},
   "outputs": [
    {
     "name": "stdout",
     "output_type": "stream",
     "text": [
      "Time difference (s):  3.0994415283203125e-05\n",
      "Time difference (ms):  0.030994415283203125\n"
     ]
    }
   ],
   "source": [
    "import time\n",
    "\n",
    "t0 = time.time()\n",
    "a  = 1 + 5\n",
    "t1 = time.time()\n",
    "\n",
    "print('Time difference (s): ', t1-t0)\n",
    "print('Time difference (ms): ', 1000*(t1-t0))"
   ]
  },
  {
   "cell_type": "markdown",
   "metadata": {},
   "source": [
    "<br> \n",
    "\n",
    "Note that the default unit of time is seconds, and that the time required for this simple calculation is much smaller than 1 ms.\n",
    "\n",
    "Let's next consider some slighly more complex functions `np.corrcoef` and `scipy.stats.linregress`:"
   ]
  },
  {
   "cell_type": "code",
   "execution_count": 2,
   "metadata": {},
   "outputs": [],
   "source": [
    "import numpy as np\n",
    "from scipy import stats"
   ]
  },
  {
   "cell_type": "code",
   "execution_count": 3,
   "metadata": {},
   "outputs": [
    {
     "name": "stdout",
     "output_type": "stream",
     "text": [
      "(np.corrcoef)      time = 2.19393 ms\n",
      "(stats.linregress) time = 0.44107 ms\n"
     ]
    }
   ],
   "source": [
    "np.random.seed(0)\n",
    "n   = 50\n",
    "x   = np.linspace(0, 1, n)\n",
    "y   = (-3 * x + 5) + (0.5 * np.random.randn(n))\n",
    "\n",
    "t0  = time.time()\n",
    "r0  = np.corrcoef(x, y)[0,1]\n",
    "t1  = time.time()\n",
    "\n",
    "r1  = stats.linregress(x, y).rvalue\n",
    "t2  = time.time()\n",
    "\n",
    "print('(np.corrcoef)      time = %.5f ms' %(1000*(t1-t0)))\n",
    "print('(stats.linregress) time = %.5f ms' %(1000*(t2-t1)))"
   ]
  },
  {
   "cell_type": "markdown",
   "metadata": {},
   "source": [
    "<br>\n",
    "\n",
    "Notes:\n",
    "\n",
    "* These calculations require much more time than the simple addition calculation above.\n",
    "* `stats.linregress` takes slighly longer to calculate than *np.corrcoef*. One reason is that `stats.linregress` calculates not only the correlation coefficient, but also other quantities including slope, intercept and p value.\n",
    "\n",
    "<br>\n",
    "\n",
    "Using calculation timing like this is one way to gain insight into your code, and especially to find computational bottlenecks where faster code or functions could make a difference."
   ]
  }
 ],
 "metadata": {
  "kernelspec": {
   "display_name": "Python 3",
   "language": "python",
   "name": "python3"
  },
  "language_info": {
   "codemirror_mode": {
    "name": "ipython",
    "version": 3
   },
   "file_extension": ".py",
   "mimetype": "text/x-python",
   "name": "python",
   "nbconvert_exporter": "python",
   "pygments_lexer": "ipython3",
   "version": "3.8.3"
  }
 },
 "nbformat": 4,
 "nbformat_minor": 4
}
