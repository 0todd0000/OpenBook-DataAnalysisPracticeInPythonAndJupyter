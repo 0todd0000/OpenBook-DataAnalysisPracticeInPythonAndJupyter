{
 "cells": [
  {
   "cell_type": "markdown",
   "metadata": {},
   "source": [
    "# <span style=\"color:#54B1FF\">Machine Learning III:</span> &nbsp; <span style=\"color:#1B3EA9\"><b>Regression (Overview)</b></span>\n",
    "\n",
    "<br>\n",
    "\n",
    "In the previous two chapters we considered **classification** and **clustering** algorithms, which aim to separate observations into two or more groups by predicting a discrete label (e.g. \"0\", \"1\", \"2\"). The goal of these  **Regression** problems, on the other hand, aim to predict the value of a continuous variable.\n",
    "\n",
    "In other words, in the two previous chapters the machine learning algorithm output was a predicted value *y*, where *y* was a [categorical variable](https://en.wikipedia.org/wiki/Categorical_variable), and we used the term \"labels\" to refer to the different values of that variable. In this chapter, we will consider the case where *y* is a [continuous variable](https://en.wikipedia.org/wiki/Continuous_or_discrete_variable#Continuous_variable). The term \"label\" is not appropriate when *y* is continuous because *y* has an infinite number of possible values.\n",
    "\n",
    "This chapter considers two types of machine learning regression algorithms:\n",
    "* Nearest Neighbors (NN) Regression\n",
    "* Support Vector Machine (SVM) Regression\n",
    "\n",
    "A wide variety of other regression algorithms exist, including some that we discussed in early chapters. A summary of regression possibilities in **sklearn** is described in its [supervised learning documentation](https://scikit-learn.org/stable/supervised_learning.html#supervised-learning).\n",
    "\n",
    "<br>"
   ]
  }
 ],
 "metadata": {
  "kernelspec": {
   "display_name": "Python 3",
   "language": "python",
   "name": "python3"
  },
  "language_info": {
   "codemirror_mode": {
    "name": "ipython",
    "version": 3
   },
   "file_extension": ".py",
   "mimetype": "text/x-python",
   "name": "python",
   "nbconvert_exporter": "python",
   "pygments_lexer": "ipython3",
   "version": "3.8.3"
  }
 },
 "nbformat": 4,
 "nbformat_minor": 4
}
