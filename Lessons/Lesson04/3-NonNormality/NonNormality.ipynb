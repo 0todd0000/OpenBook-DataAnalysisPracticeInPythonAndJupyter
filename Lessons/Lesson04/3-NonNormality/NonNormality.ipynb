{
 "cells": [
  {
   "cell_type": "markdown",
   "metadata": {},
   "source": [
    "# <span style=\"color:#54B1FF\">Describing data:</span> &nbsp; <span style=\"color:#1B3EA9\"><b>Non-normality</b></span>\n",
    "\n",
    "<br>\n",
    "\n",
    "Two metrics that characterize data distributions, and non-normality in particular, are:\n",
    "\n",
    "* [Skewness](https://en.wikipedia.org/wiki/Skewness)\n",
    "* [Kurtosis](https://en.wikipedia.org/wiki/Kurtosis)\n",
    "\n",
    "They can be calculated using `scipy.stats` as follows:"
   ]
  },
  {
   "cell_type": "code",
   "execution_count": 1,
   "metadata": {},
   "outputs": [],
   "source": [
    "import numpy as np\n",
    "from matplotlib import pyplot as plt\n",
    "from scipy import stats"
   ]
  },
  {
   "cell_type": "code",
   "execution_count": 2,
   "metadata": {},
   "outputs": [
    {
     "name": "stdout",
     "output_type": "stream",
     "text": [
      "Skewness     =  6.377152681835063\n",
      "Kurtosis     =  56.18322479935651\n"
     ]
    }
   ],
   "source": [
    "filenameCSV = 'num_friends.csv' \n",
    "n = np.loadtxt(filenameCSV, delimiter=',')  # 204 integer values\n",
    "\n",
    "z0 = stats.skew(n)\n",
    "z1 = stats.kurtosis(n)\n",
    "\n",
    "print(\"Skewness     = \", z0)\n",
    "print(\"Kurtosis     = \", z1)"
   ]
  },
  {
   "cell_type": "markdown",
   "metadata": {},
   "source": [
    "<br>\n",
    "<br>\n",
    "\n",
    "Note that these values are large compared the values for normal distributions (whose skewness and kurtosis are zero by definition)."
   ]
  },
  {
   "cell_type": "code",
   "execution_count": 3,
   "metadata": {},
   "outputs": [
    {
     "name": "stdout",
     "output_type": "stream",
     "text": [
      "Skewness     =  0.005171839713550013\n",
      "Kurtosis     =  -0.3783545566331328\n"
     ]
    }
   ],
   "source": [
    "np.random.seed(0)\n",
    "x = np.random.randn(100)\n",
    "\n",
    "z0 = stats.skew(x)\n",
    "z1 = stats.kurtosis(x)\n",
    "\n",
    "print(\"Skewness     = \", z0)\n",
    "print(\"Kurtosis     = \", z1)"
   ]
  },
  {
   "cell_type": "markdown",
   "metadata": {},
   "source": [
    "<br>\n",
    "<br>\n",
    "\n",
    "Let's visualize the histograms of these data:"
   ]
  },
  {
   "cell_type": "code",
   "execution_count": 4,
   "metadata": {},
   "outputs": [
    {
     "data": {
      "image/png": "[encoded data removed]",
      "text/plain": [
       "<Figure size 720x216 with 2 Axes>"
      ]
     },
     "metadata": {
      "needs_background": "light"
     },
     "output_type": "display_data"
    }
   ],
   "source": [
    "fig,ax = plt.subplots(1, 2, figsize=(10,3))\n",
    "\n",
    "ax[0].hist(n, range=(0,40), bins=15)\n",
    "ax[1].hist(x, range=(-3,3), bins=15)\n",
    "\n",
    "ax[0].set_title('num_friends.csv')\n",
    "ax[1].set_title('Standard normal distribution')\n",
    "\n",
    "plt.show()"
   ]
  },
  {
   "cell_type": "markdown",
   "metadata": {},
   "source": [
    "Note that the standard normal distribution is roughly bell-shaped, and that the `num_friends` dataset is skewed away from normality.\n",
    "\n",
    "Note that skewness and kurtosis estimates tend to approach zero as the sample size increases (when the true distribution is normal):"
   ]
  },
  {
   "cell_type": "code",
   "execution_count": 5,
   "metadata": {},
   "outputs": [
    {
     "name": "stdout",
     "output_type": "stream",
     "text": [
      "Sample size, Skewness, Kurtosis\n",
      "10 -0.05309450487507253 -0.982036296214218\n",
      "100 0.06610208807869354 -0.5743242549181669\n",
      "1000 0.05184951100433574 0.07110485704498526\n",
      "100000 -0.007920936747479932 0.0323919667137873\n"
     ]
    }
   ],
   "source": [
    "\n",
    "np.random.seed(0)\n",
    "\n",
    "x0 = np.random.randn(10)\n",
    "x1 = np.random.randn(100)\n",
    "x2 = np.random.randn(1000)\n",
    "x3 = np.random.randn(100000)\n",
    "\n",
    "s0 = stats.skew(x0)\n",
    "s1 = stats.skew(x1)\n",
    "s2 = stats.skew(x2)\n",
    "s3 = stats.skew(x3)\n",
    "\n",
    "k0 = stats.kurtosis(x0)\n",
    "k1 = stats.kurtosis(x1)\n",
    "k2 = stats.kurtosis(x2)\n",
    "k3 = stats.kurtosis(x3)\n",
    "\n",
    "print('Sample size, Skewness, Kurtosis')\n",
    "print( x0.size, s0, k0 )\n",
    "print( x1.size, s1, k1 )\n",
    "print( x2.size, s2, k2 )\n",
    "print( x3.size, s3, k3 )\n",
    "\n"
   ]
  }
 ],
 "metadata": {
  "kernelspec": {
   "display_name": "Python 3",
   "language": "python",
   "name": "python3"
  },
  "language_info": {
   "codemirror_mode": {
    "name": "ipython",
    "version": 3
   },
   "file_extension": ".py",
   "mimetype": "text/x-python",
   "name": "python",
   "nbconvert_exporter": "python",
   "pygments_lexer": "ipython3",
   "version": "3.8.3"
  }
 },
 "nbformat": 4,
 "nbformat_minor": 4
}
