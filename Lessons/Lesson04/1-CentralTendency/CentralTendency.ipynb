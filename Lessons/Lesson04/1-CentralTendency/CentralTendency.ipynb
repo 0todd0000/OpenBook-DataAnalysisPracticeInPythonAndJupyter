{
 "cells": [
  {
   "cell_type": "markdown",
   "metadata": {},
   "source": [
    "# <span style=\"color:#54B1FF\">Describing data:</span> &nbsp; <span style=\"color:#1B3EA9\"><b>Central Tendency</b></span>\n",
    "\n",
    "<br>"
   ]
  },
  {
   "cell_type": "code",
   "execution_count": 1,
   "metadata": {},
   "outputs": [],
   "source": [
    "import numpy as np\n",
    "from matplotlib import pyplot as plt\n",
    "from scipy import stats"
   ]
  },
  {
   "cell_type": "markdown",
   "metadata": {},
   "source": [
    "___\n",
    "\n",
    "### Loading CSV data\n",
    "\n",
    "[CSV](https://en.wikipedia.org/wiki/Comma-separated_values) means \"comma-separated values\", and is a common ASCII file format. NumPy can be conveniently used to read CSV data files as shown in the Python cell below. Run this code to ensure that you can read the example CSV files without errors.\n",
    "\n",
    "**NOTE!** Ensure that the CSV data files (`num_friends.csv` and `random100x3.csv`) are in the **same directory** as this notebook."
   ]
  },
  {
   "cell_type": "code",
   "execution_count": 2,
   "metadata": {},
   "outputs": [
    {
     "name": "stdout",
     "output_type": "stream",
     "text": [
      "(204,)\n",
      "\n",
      "[100.  49.  41.  40.  25.  21.  21.  19.  19.  18.  18.  16.  15.  15.\n",
      "  15.  15.  14.  14.  13.  13.  13.  13.  12.  12.  11.  10.  10.  10.\n",
      "  10.  10.  10.  10.  10.  10.  10.  10.  10.  10.  10.  10.   9.   9.\n",
      "   9.   9.   9.   9.   9.   9.   9.   9.   9.   9.   9.   9.   9.   9.\n",
      "   9.   9.   8.   8.   8.   8.   8.   8.   8.   8.   8.   8.   8.   8.\n",
      "   8.   7.   7.   7.   7.   7.   7.   7.   7.   7.   7.   7.   7.   7.\n",
      "   7.   7.   6.   6.   6.   6.   6.   6.   6.   6.   6.   6.   6.   6.\n",
      "   6.   6.   6.   6.   6.   6.   6.   6.   6.   6.   5.   5.   5.   5.\n",
      "   5.   5.   5.   5.   5.   5.   5.   5.   5.   5.   5.   5.   5.   4.\n",
      "   4.   4.   4.   4.   4.   4.   4.   4.   4.   4.   4.   4.   4.   4.\n",
      "   4.   4.   4.   4.   4.   3.   3.   3.   3.   3.   3.   3.   3.   3.\n",
      "   3.   3.   3.   3.   3.   3.   3.   3.   3.   3.   3.   2.   2.   2.\n",
      "   2.   2.   2.   2.   2.   2.   2.   2.   2.   2.   2.   2.   2.   2.\n",
      "   1.   1.   1.   1.   1.   1.   1.   1.   1.   1.   1.   1.   1.   1.\n",
      "   1.   1.   1.   1.   1.   1.   1.   1.]\n"
     ]
    }
   ],
   "source": [
    "# Dataset source:\n",
    "# https://github.com/joelgrus/data-science-from-scratch/blob/master/first-edition/code-python3/stats.py\n",
    "\n",
    "filenameCSV = 'num_friends.csv' \n",
    "n = np.loadtxt(filenameCSV, delimiter=',')  # 204 integer values\n",
    "\n",
    "print(n.shape)\n",
    "print()\n",
    "print(n)"
   ]
  },
  {
   "cell_type": "code",
   "execution_count": 3,
   "metadata": {},
   "outputs": [
    {
     "name": "stdout",
     "output_type": "stream",
     "text": [
      "(100, 3)\n"
     ]
    }
   ],
   "source": [
    "filenameCSV = 'random100x3.csv'\n",
    "a = np.loadtxt(filenameCSV, delimiter=',')  # (100 x 3) array\n",
    "print( a.shape )"
   ]
  },
  {
   "cell_type": "markdown",
   "metadata": {},
   "source": [
    "For 2D arrays like this, individual columns can be accessed using [array slicing](https://docs.scipy.org/doc/numpy/reference/arrays.indexing.html) like this:"
   ]
  },
  {
   "cell_type": "code",
   "execution_count": 4,
   "metadata": {},
   "outputs": [
    {
     "name": "stdout",
     "output_type": "stream",
     "text": [
      "(100,)\n",
      "(100,)\n",
      "(100,)\n"
     ]
    }
   ],
   "source": [
    "col0 = a[:,0] # first column\n",
    "col1 = a[:,1] # second column\n",
    "col2 = a[:,2] # third column\n",
    "\n",
    "print( col0.shape )\n",
    "print( col1.shape )\n",
    "print( col2.shape )"
   ]
  },
  {
   "cell_type": "markdown",
   "metadata": {},
   "source": [
    "Note that each column is a 100-element 1D array.\n",
    "\n",
    "**TRICK!**\n",
    "\n",
    "If you know the number of columns, you can access all columns in a single command like this:"
   ]
  },
  {
   "cell_type": "code",
   "execution_count": 5,
   "metadata": {},
   "outputs": [
    {
     "name": "stdout",
     "output_type": "stream",
     "text": [
      "(100,)\n",
      "(100,)\n",
      "(100,)\n"
     ]
    }
   ],
   "source": [
    "x0,x1,x2 = a.T\n",
    "\n",
    "print( x0.shape )\n",
    "print( x1.shape )\n",
    "print( x2.shape )"
   ]
  },
  {
   "cell_type": "markdown",
   "metadata": {},
   "source": [
    "To understand how and why this works, first note that the first row of a 2D array can be retrieved as follows:"
   ]
  },
  {
   "cell_type": "code",
   "execution_count": 6,
   "metadata": {},
   "outputs": [
    {
     "name": "stdout",
     "output_type": "stream",
     "text": [
      "[-0.3674   4.65363  8.40898]\n",
      "[-0.3674   4.65363  8.40898]\n"
     ]
    }
   ],
   "source": [
    "row0 = a[0,:]\n",
    "print(row0)\n",
    "\n",
    "row0 = a[0]  # equivalent to \"a[0,:]\"\"\n",
    "print(row0)"
   ]
  },
  {
   "cell_type": "markdown",
   "metadata": {},
   "source": [
    "Also note that you can assign multiple values to separate variables like this:"
   ]
  },
  {
   "cell_type": "code",
   "execution_count": 7,
   "metadata": {},
   "outputs": [
    {
     "name": "stdout",
     "output_type": "stream",
     "text": [
      "89\n",
      "10\n",
      "5\n"
     ]
    }
   ],
   "source": [
    "y0,y1,y2 = np.array([ 89, 10, 5 ])\n",
    "\n",
    "print(y0)\n",
    "print(y1)\n",
    "print(y2)"
   ]
  },
  {
   "cell_type": "markdown",
   "metadata": {},
   "source": [
    "Last, note that `a.T` returns the [transpose](https://en.wikipedia.org/wiki/Transpose) of `a`. "
   ]
  },
  {
   "cell_type": "code",
   "execution_count": 8,
   "metadata": {},
   "outputs": [
    {
     "name": "stdout",
     "output_type": "stream",
     "text": [
      "(100, 3)\n",
      "(3, 100)\n"
     ]
    }
   ],
   "source": [
    "print( a.shape )\n",
    "print( a.T.shape )"
   ]
  },
  {
   "cell_type": "markdown",
   "metadata": {},
   "source": [
    "Therefore the command `x0,x1,x2 = a.T` first transposes `a` (into a 3 x 100 array), then assigns the three rows of `a.T` to the variables `x0`, `x1` and `x2`."
   ]
  },
  {
   "cell_type": "markdown",
   "metadata": {},
   "source": [
    "___\n",
    "\n",
    "### Visualizing data distributions\n",
    "\n",
    "Before running analyses, always check the data distribution. There are a variety of ways to do this. The best way depends on the dataset, and also on your personal preference as a data analysist. The three main ways are:\n",
    "\n",
    "* Raw data plot\n",
    "* Histogram\n",
    "* Boxplot (or \"box & whiskers\" plot)\n",
    "\n",
    "These visualizations can be generated as follows:"
   ]
  },
  {
   "cell_type": "code",
   "execution_count": 9,
   "metadata": {},
   "outputs": [
    {
     "data": {
      "image/png": "[encoded data removed]",
      "text/plain": [
       "<Figure size 432x288 with 1 Axes>"
      ]
     },
     "metadata": {
      "needs_background": "light"
     },
     "output_type": "display_data"
    }
   ],
   "source": [
    "filenameCSV = 'num_friends.csv'\n",
    "n = np.loadtxt(filenameCSV, delimiter=',', dtype=int)  # 204 integer values\n",
    "\n",
    "plt.figure()\n",
    "plt.plot(n, '.') # raw data plot (for scalar data)\n",
    "plt.show()"
   ]
  },
  {
   "cell_type": "code",
   "execution_count": 10,
   "metadata": {},
   "outputs": [
    {
     "data": {
      "image/png": "[encoded data removed]",
      "text/plain": [
       "<Figure size 432x288 with 1 Axes>"
      ]
     },
     "metadata": {
      "needs_background": "light"
     },
     "output_type": "display_data"
    }
   ],
   "source": [
    "plt.figure()\n",
    "plt.hist(n, bins=21)  # histogram with 21 bars\n",
    "plt.show()"
   ]
  },
  {
   "cell_type": "code",
   "execution_count": 11,
   "metadata": {},
   "outputs": [
    {
     "data": {
      "image/png": "[encoded data removed]",
      "text/plain": [
       "<Figure size 432x288 with 1 Axes>"
      ]
     },
     "metadata": {
      "needs_background": "light"
     },
     "output_type": "display_data"
    }
   ],
   "source": [
    "plt.figure()\n",
    "plt.boxplot(n) # default box plot\n",
    "plt.show()"
   ]
  },
  {
   "cell_type": "markdown",
   "metadata": {},
   "source": [
    "Boxplots (by default) depict:\n",
    "\n",
    "* Median  (colored horizontal line)\n",
    "* Upper and lower [quartiles](https://en.wikipedia.org/wiki/Quartile)  (horizontal black lines)\n",
    "* Range (\"T\"-shaped whiskers);  outliers excluded by default\n",
    "* Outliers (dots)\n",
    "\n",
    "Useful links:\n",
    "* [Boxplot documentation](https://matplotlib.org/3.1.1/api/_as_gen/matplotlib.pyplot.boxplot.html)\n",
    "* [Boxplot option demo](https://matplotlib.org/3.1.1/gallery/statistics/boxplot_demo.html)"
   ]
  },
  {
   "cell_type": "markdown",
   "metadata": {},
   "source": [
    "___\n",
    "\n",
    "### Central tendency (using numpy and scipy.stats)\n",
    "\n",
    "The main [central tendency](https://en.wikipedia.org/wiki/Central_tendency) variables are:\n",
    "\n",
    "* Mean (arithmetic average)\n",
    "* Median (50th percentile)\n",
    "* Mode (most common value)\n",
    "\n",
    "They can be calculated using NumPy and Scipy as follows:"
   ]
  },
  {
   "cell_type": "code",
   "execution_count": 12,
   "metadata": {},
   "outputs": [
    {
     "name": "stdout",
     "output_type": "stream",
     "text": [
      "Mean        =  7.333333333333333\n",
      "Median      =  6.0\n",
      "Mode result =  ModeResult(mode=array([1]), count=array([22]))\n",
      "Mode        =  [1]\n"
     ]
    }
   ],
   "source": [
    "x0     = np.mean( n )\n",
    "x1     = np.median( n )\n",
    "result = stats.mode( n ) # mode(s) and count(s)\n",
    "x2     = result.mode\n",
    "\n",
    "print(\"Mean        = \", x0)\n",
    "print(\"Median      = \", x1)\n",
    "print(\"Mode result = \", result)\n",
    "print(\"Mode        = \", x2)"
   ]
  },
  {
   "cell_type": "markdown",
   "metadata": {},
   "source": [
    "___\n",
    "\n",
    "### Adding reference lines to figures\n",
    "\n",
    "Sometimes it is useful to add reference lines to figures to aid with data visualization.\n",
    "\n",
    "Here is an example that uses vertical lines to help visualize the mean and median:"
   ]
  },
  {
   "cell_type": "code",
   "execution_count": 13,
   "metadata": {},
   "outputs": [
    {
     "data": {
      "image/png": "[encoded data removed]",
      "text/plain": [
       "<Figure size 432x288 with 1 Axes>"
      ]
     },
     "metadata": {
      "needs_background": "light"
     },
     "output_type": "display_data"
    }
   ],
   "source": [
    "plt.figure()\n",
    "plt.hist(n, bins=21, color='0.7')  # histogram with 21 bars\n",
    "plt.axvline( np.mean(n) , color=(1,0,0), label='Mean' )\n",
    "plt.axvline( np.median(n) , color='0.2', label='Median' )\n",
    "plt.legend()\n",
    "plt.show()"
   ]
  },
  {
   "cell_type": "markdown",
   "metadata": {},
   "source": [
    "___\n",
    "\n",
    "### Central tendency (using Python without numpy/scipy)\n",
    "\n",
    "This section will repeat the central tendency analyses above, but will use neither `numpy` nor `scipy`.\n",
    "\n",
    "This section is not necessary to know, but may be useful for improving your Python programming skills."
   ]
  },
  {
   "cell_type": "code",
   "execution_count": 14,
   "metadata": {},
   "outputs": [
    {
     "name": "stdout",
     "output_type": "stream",
     "text": [
      "Mean        =  7.333333333333333\n",
      "Median      =  6.0\n",
      "Mode        =  [6, 1]\n"
     ]
    }
   ],
   "source": [
    "from collections import Counter\n",
    "\n",
    "\n",
    "def my_mean(x):\n",
    "    '''\n",
    "    Calculate mean (without using NumPy)\n",
    "    '''\n",
    "    n  = len( x )  # number of elements\n",
    "    s  = sum( x )  # sum of all elments\n",
    "    return s / n\n",
    "\n",
    "\n",
    "def my_median(x):\n",
    "    '''\n",
    "    Calculate median (without using NumPy)\n",
    "    '''\n",
    "    n        = len(x)\n",
    "    sorted_x = sorted(x)\n",
    "    midpoint = n // 2\n",
    "\n",
    "    if n % 2 == 1:  # if odd, return the middle value\n",
    "        md   = sorted_x[midpoint]\n",
    "    else:           # if even, return the average of the middle values\n",
    "        lo   = midpoint - 1\n",
    "        hi   = midpoint\n",
    "        return (sorted_x[lo] + sorted_x[hi]) / 2\n",
    "    return md\n",
    "\n",
    "def my_mode(x):\n",
    "    '''\n",
    "    Calculate mode (without using NumPy)\n",
    "    '''\n",
    "    counts    = Counter(x)\n",
    "    max_count = max( counts.values() )\n",
    "    md        = [xx for xx,count in counts.items() if (count==max_count)]\n",
    "    return md\n",
    "\n",
    "\n",
    "\n",
    "\n",
    "# Load data as a list:\n",
    "filenameCSV = 'num_friends.csv' \n",
    "n  = np.loadtxt(filenameCSV, delimiter=',', dtype=int)  # 204 integer values\n",
    "x  = list(n) # convert array to a list (so that no more NumPy commands will be used)\n",
    "\n",
    "\n",
    "\n",
    "x0 = my_mean( x )\n",
    "x1 = my_median( x )\n",
    "x2 = my_mode( x )\n",
    "\n",
    "\n",
    "print(\"Mean        = \", x0)\n",
    "print(\"Median      = \", x1)\n",
    "print(\"Mode        = \", x2)"
   ]
  }
 ],
 "metadata": {
  "kernelspec": {
   "display_name": "Python 3",
   "language": "python",
   "name": "python3"
  },
  "language_info": {
   "codemirror_mode": {
    "name": "ipython",
    "version": 3
   },
   "file_extension": ".py",
   "mimetype": "text/x-python",
   "name": "python",
   "nbconvert_exporter": "python",
   "pygments_lexer": "ipython3",
   "version": "3.8.3"
  }
 },
 "nbformat": 4,
 "nbformat_minor": 4
}
