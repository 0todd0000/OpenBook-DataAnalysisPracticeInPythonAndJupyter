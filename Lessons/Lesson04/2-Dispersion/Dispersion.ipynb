{
 "cells": [
  {
   "cell_type": "markdown",
   "metadata": {},
   "source": [
    "# <span style=\"color:#54B1FF\">Describing data:</span> &nbsp; <span style=\"color:#1B3EA9\"><b>Dispersion</b></span>\n",
    "\n",
    "<br>\n",
    "\n",
    "\n",
    "The main [dispersion](https://en.wikipedia.org/wiki/Statistical_dispersion) variables are:\n",
    "\n",
    "* Minimum\n",
    "* Maximum\n",
    "* Range (Maximum - Minimum)\n",
    "* [Percentiles](https://en.wikipedia.org/wiki/Percentile) (especially: 25th, 75th and inter-quartile range)\n",
    "* [Variance](https://en.wikipedia.org/wiki/Variance)\n",
    "* [Standard deviation](https://en.wikipedia.org/wiki/Standard_deviation) (SD)\n",
    "\n",
    "They can be computed using NumPy as follows:"
   ]
  },
  {
   "cell_type": "code",
   "execution_count": 1,
   "metadata": {},
   "outputs": [],
   "source": [
    "import numpy as np\n",
    "from matplotlib import pyplot as plt\n",
    "from scipy import stats"
   ]
  },
  {
   "cell_type": "code",
   "execution_count": 2,
   "metadata": {},
   "outputs": [
    {
     "name": "stdout",
     "output_type": "stream",
     "text": [
      "Minimum              =  1.0\n",
      "Maximum              =  100.0\n",
      "Range                =  99.0\n",
      "25th percentile      =  3.0\n",
      "75th percentile      =  9.0\n",
      "Inter-quartile range =  6.0\n",
      "Variance             =  81.14379084967321\n",
      "Standard deviation   =  9.007984838446012\n"
     ]
    }
   ],
   "source": [
    "filenameCSV = 'num_friends.csv'\n",
    "n = np.loadtxt(filenameCSV, delimiter=',')  # 204 integer values\n",
    "\n",
    "\n",
    "y0 = np.min( n )  # minimum\n",
    "y1 = np.max( n )  # maximum\n",
    "y2 = y1 - y0      # range\n",
    "y3 = np.percentile( n, 25 ) # 25th percentile (i.e., lower quartile)\n",
    "y4 = np.percentile( n, 75 ) # 75th percentile (i.e., upper quartile)\n",
    "y5 = y4 - y3 # inter-quartile range\n",
    "y6 = np.var( n ) # variance\n",
    "y7 = np.std( n ) # standard deviation\n",
    "\n",
    "\n",
    "print(\"Minimum              = \", y0)\n",
    "print(\"Maximum              = \", y1)\n",
    "print(\"Range                = \", y2)\n",
    "print(\"25th percentile      = \", y3)\n",
    "print(\"75th percentile      = \", y4)\n",
    "print(\"Inter-quartile range = \", y5)\n",
    "print(\"Variance             = \", y6)\n",
    "print(\"Standard deviation   = \", y7)"
   ]
  },
  {
   "cell_type": "markdown",
   "metadata": {},
   "source": [
    "Note that variance is equivalent to the the squared SD:"
   ]
  },
  {
   "cell_type": "code",
   "execution_count": 3,
   "metadata": {},
   "outputs": [
    {
     "name": "stdout",
     "output_type": "stream",
     "text": [
      "Variance     =  81.14379084967321\n",
      "Squared SD   =  81.14379084967322\n"
     ]
    }
   ],
   "source": [
    "print(\"Variance     = \", y6)\n",
    "print(\"Squared SD   = \", y7**2)"
   ]
  },
  {
   "cell_type": "markdown",
   "metadata": {},
   "source": [
    "<br> \n",
    "\n",
    "___\n",
    "\n",
    "### Counting array elements using Boolean arrays\n",
    "\n",
    "Another common way to describe data dispersion is to count the number of array elements that meet a specific criterion.\n",
    "\n",
    "For example:\n",
    "\n",
    "* How many values of \"4\" exist in the array?\n",
    "* How many array values are greater than 10?\n",
    "* What is the proprtion of array values are greater than 10?\n",
    "\n",
    "These questions can be answered using **Boolean arrays**.\n",
    "* A \"[boolean](https://en.wikipedia.org/wiki/Boolean_data_type)\" is a variable that has only two possible values: True or False (i.e., 1 or 0).\n",
    "* A \"boolean array\" is an array that contains only True and/or False values (i.e., 1 or 0)\n",
    "\n",
    "Here is an example boolean array:"
   ]
  },
  {
   "cell_type": "code",
   "execution_count": 4,
   "metadata": {},
   "outputs": [
    {
     "name": "stdout",
     "output_type": "stream",
     "text": [
      "[ True  True False False False]\n"
     ]
    }
   ],
   "source": [
    "b = np.array( [True, True, False, False, False] )\n",
    "print(b)"
   ]
  },
  {
   "cell_type": "markdown",
   "metadata": {},
   "source": [
    "How many True values are there?\n",
    "\n",
    "Since `True` has a value of 1, we can use `sum` to count the number of `True` values."
   ]
  },
  {
   "cell_type": "code",
   "execution_count": 5,
   "metadata": {},
   "outputs": [
    {
     "name": "stdout",
     "output_type": "stream",
     "text": [
      "2  values are True\n",
      "2  values are True\n",
      "2  values are True\n"
     ]
    }
   ],
   "source": [
    "n = sum(b)\n",
    "print(n, ' values are True')\n",
    "\n",
    "# or\n",
    "\n",
    "n = np.sum(b)\n",
    "print(n, ' values are True')\n",
    "\n",
    "# or\n",
    "\n",
    "n = b.sum()\n",
    "print(n, ' values are True')\n"
   ]
  },
  {
   "cell_type": "markdown",
   "metadata": {},
   "source": [
    "What is the proportion of values that are True?  Two are true, and there are five values, so the proportion should be 0.4.\n",
    "\n",
    "This can be calculated as the average of all array values:"
   ]
  },
  {
   "cell_type": "code",
   "execution_count": 6,
   "metadata": {},
   "outputs": [
    {
     "name": "stdout",
     "output_type": "stream",
     "text": [
      "Proprtion of True values:  0.4\n",
      "Proprtion of True values:  0.4\n",
      "Proprtion of True values:  0.4\n",
      "Proprtion of True values:  0.4\n"
     ]
    }
   ],
   "source": [
    "p = sum( b ) / len( b )\n",
    "print('Proprtion of True values: ', p)\n",
    "\n",
    "# or\n",
    "\n",
    "p = np.sum( b ) / b.size\n",
    "print('Proprtion of True values: ', p)\n",
    "\n",
    "# or\n",
    "\n",
    "p = np.mean( b )\n",
    "print('Proprtion of True values: ', p)\n",
    "\n",
    "# or\n",
    "\n",
    "p = b.mean()\n",
    "print('Proprtion of True values: ', p)"
   ]
  },
  {
   "cell_type": "markdown",
   "metadata": {},
   "source": [
    "<br> \n",
    "\n",
    "Let's now answer the following questions for the `num_friends` dataset.\n",
    "\n",
    "* How many values of \"4\" exist in the array?\n",
    "* How many array values are greater than 10?\n",
    "* What is the proprtion of array values are greater than 10?"
   ]
  },
  {
   "cell_type": "code",
   "execution_count": 7,
   "metadata": {},
   "outputs": [
    {
     "name": "stdout",
     "output_type": "stream",
     "text": [
      "20 values are equal to 4\n",
      "25 values are greater than 10\n",
      "12.254901960784313 % of all values are greater than 10\n"
     ]
    }
   ],
   "source": [
    "filenameCSV = 'num_friends.csv' \n",
    "n = np.loadtxt(filenameCSV, delimiter=',')  # 204 integer values\n",
    "\n",
    "\n",
    "n0 = ( n==4 ).sum()\n",
    "n1 = ( n>10 ).sum()\n",
    "n2 = ( n>10 ).mean()\n",
    "\n",
    "print(n0, 'values are equal to 4')\n",
    "print(n1, 'values are greater than 10')\n",
    "print(n2*100, '% of all values are greater than 10')"
   ]
  }
 ],
 "metadata": {
  "kernelspec": {
   "display_name": "Python 3",
   "language": "python",
   "name": "python3"
  },
  "language_info": {
   "codemirror_mode": {
    "name": "ipython",
    "version": 3
   },
   "file_extension": ".py",
   "mimetype": "text/x-python",
   "name": "python",
   "nbconvert_exporter": "python",
   "pygments_lexer": "ipython3",
   "version": "3.8.3"
  }
 },
 "nbformat": 4,
 "nbformat_minor": 4
}
