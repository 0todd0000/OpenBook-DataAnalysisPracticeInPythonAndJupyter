{
 "cells": [
  {
   "cell_type": "markdown",
   "metadata": {},
   "source": [
    "# <span style=\"color:#54B1FF\">Preprocessing:</span> &nbsp; <span style=\"color:#1B3EA9\"><b>Label Encoding</b></span>\n",
    "\n",
    "<br>\n",
    "\n",
    "**Encoding** refers to the process of transforming arbitrary data into **integer values**.\n",
    "\n",
    "The easiest way to understand encoding is to start with category labels.\n",
    "\n",
    "<br>"
   ]
  },
  {
   "cell_type": "markdown",
   "metadata": {},
   "source": [
    "<br>\n",
    "\n",
    "___\n",
    "\n",
    "## Encoding labels\n",
    "\n",
    "In the **Classification** problems in an early chapter we considered **labels** that had integer values, like this: \n",
    "\n",
    "<br>"
   ]
  },
  {
   "cell_type": "code",
   "execution_count": 1,
   "metadata": {},
   "outputs": [],
   "source": [
    "\n",
    "import numpy as np\n",
    "from matplotlib import pyplot as plt\n",
    "from sklearn import preprocessing\n"
   ]
  },
  {
   "cell_type": "code",
   "execution_count": 2,
   "metadata": {},
   "outputs": [
    {
     "data": {
      "image/png": "[encoded data removed]",
      "text/plain": [
       "<Figure size 432x432 with 1 Axes>"
      ]
     },
     "metadata": {
      "needs_background": "light"
     },
     "output_type": "display_data"
    }
   ],
   "source": [
    "\n",
    "x = np.array([\n",
    "    [1, 0],\n",
    "    [2, 4],\n",
    "    [3, 2],\n",
    "    [12, 0],\n",
    "    [13, 2],\n",
    "    [14, 1],\n",
    "    [7, 8],\n",
    "    [10, 7],\n",
    "    [8, 9],\n",
    "])\n",
    "\n",
    "\n",
    "labels = np.array([0, 0, 0,    1, 1, 1,    2, 2, 2])  \n",
    "\n",
    "x0     = x[labels==0]\n",
    "x1     = x[labels==1]\n",
    "x2     = x[labels==2]\n",
    "\n",
    "\n",
    "plt.figure(figsize=(6,6))\n",
    "ax     = plt.axes()\n",
    "colors = ['b','r','g']\n",
    "ax.scatter( x0[:,0], x0[:,1], color=colors[0], s=200, label='Label = 0' )\n",
    "ax.scatter( x1[:,0], x1[:,1], color=colors[1], s=200, label='Label = 1' )\n",
    "ax.scatter( x2[:,0], x2[:,1], color=colors[2], s=200, label='Label = 2' )\n",
    "ax.set_xlabel('Feature 0', size=14)\n",
    "ax.set_ylabel('Feature 1', size=14)\n",
    "ax.axis('equal')\n",
    "ax.legend()\n",
    "plt.show()"
   ]
  },
  {
   "cell_type": "markdown",
   "metadata": {},
   "source": [
    "<br>\n",
    "<br>\n",
    "\n",
    "Using an **encoding** procedure, we could instead use more meaningful labels, like this:\n",
    "\n",
    "<br>\n",
    "<br>"
   ]
  },
  {
   "cell_type": "code",
   "execution_count": 3,
   "metadata": {},
   "outputs": [],
   "source": [
    "\n",
    "labels  = ['a', 'a', 'a',   'b', 'b', 'b',    'c', 'c', 'c' ]\n"
   ]
  },
  {
   "cell_type": "markdown",
   "metadata": {},
   "source": [
    "<br>\n",
    "\n",
    "These labels could then be encoded as follows:\n",
    "\n",
    "<br>"
   ]
  },
  {
   "cell_type": "code",
   "execution_count": 4,
   "metadata": {},
   "outputs": [
    {
     "name": "stdout",
     "output_type": "stream",
     "text": [
      "[[0. 0. 0. 1. 1. 1. 2. 2. 2.]]\n"
     ]
    }
   ],
   "source": [
    "\n",
    "ulabels = [ ['a'], ['b'], ['c'] ]\n",
    "\n",
    "encoder = preprocessing.OrdinalEncoder()\n",
    "\n",
    "encoder.fit( ulabels )\n",
    "\n",
    "elabels = encoder.transform( np.array([labels]).T ).T\n",
    "\n",
    "print( elabels )\n"
   ]
  },
  {
   "cell_type": "markdown",
   "metadata": {},
   "source": [
    "<br>\n",
    "<br>\n",
    "\n",
    "Note that the original labels have now been encoded as integers.\n",
    "\n",
    "<br>"
   ]
  },
  {
   "cell_type": "markdown",
   "metadata": {},
   "source": [
    "<br>\n",
    "\n",
    "___\n",
    "\n",
    "## Encoding features\n",
    "\n",
    "Encoding can be applied to feature data as well. Let's imagine that we have a CSV file containing a variety of features, and that many of those features are labeled using text, like in the table below.\n",
    "\n",
    "\n",
    "<br>"
   ]
  },
  {
   "cell_type": "markdown",
   "metadata": {},
   "source": [
    "| Student | Country   | Programming Language | Engineering? |\n",
    "| ------------- | ------------- |:-------------:|:-------------:|\n",
    "| 1 | Australia     | Python | Yes |\n",
    "| 2 | Canada        | Java | Yes |\n",
    "| 3 | Canada         | Python      | No |\n",
    "| 4 | Japan         | Java      | Yes |\n",
    "| 5 | Japan         | Java      | No |"
   ]
  },
  {
   "cell_type": "markdown",
   "metadata": {},
   "source": [
    "<br>\n",
    "<br>\n",
    "\n",
    "First, note the counts of **unique** values in each column:\n",
    "\n",
    "* Country = 3 (Australia, Canada, Japan)\n",
    "* Programming language = 2 (Python, Java)\n",
    "* Engineering = 2  (Yes, No)\n",
    "\n",
    "How can we encode these data into integers?\n",
    "\n",
    "The easiest way is to use the `OrdinalEncoder`\n",
    "\n",
    "<br>"
   ]
  },
  {
   "cell_type": "code",
   "execution_count": 5,
   "metadata": {},
   "outputs": [
    {
     "name": "stdout",
     "output_type": "stream",
     "text": [
      "[[0. 2. 2.]\n",
      " [1. 1. 2.]\n",
      " [1. 2. 1.]\n",
      " [2. 1. 2.]\n",
      " [2. 1. 1.]]\n"
     ]
    }
   ],
   "source": [
    "\n",
    "x       = [['Canada', 'Python', 'Yes'], ['Japan', 'Java', 'No'], ['Australia', '', '']]\n",
    "\n",
    "encoder = preprocessing.OrdinalEncoder()\n",
    "encoder.fit(x)\n",
    "\n",
    "\n",
    "table   = [\n",
    "    ['Australia', 'Python', 'Yes'],\n",
    "    ['Canada', 'Java', 'Yes'],\n",
    "    ['Canada', 'Python', 'No'],\n",
    "    ['Japan', 'Java', 'Yes'],\n",
    "    ['Japan', 'Java', 'No'],\n",
    "]\n",
    "\n",
    "etable = encoder.transform( table )\n",
    "\n",
    "print( etable )\n"
   ]
  },
  {
   "cell_type": "markdown",
   "metadata": {},
   "source": [
    "<br>\n",
    "<br>\n",
    "\n",
    "Notes:\n",
    "\n",
    "* There are three possible integers (0, 1 or 2) in the encoded table data.\n",
    "* All integers refer to alphabetically ordered labels.\n",
    "* The first column corresponds to \"Country\".\n",
    "    * Australia=0, Canada=1, Japan=2\n",
    "* The second column correspond to \"Programming Language\"\n",
    "    * (Nothing)=0, Java=1, Python=2\n",
    "* The third column corresponds to \"Engineering\".\n",
    "    * (Nothing)=0, No=1, Yes=2\n",
    "\n",
    "\n",
    "\n",
    "\n",
    "<br>\n",
    "<br>\n",
    "\n",
    "\n",
    "More complex encoding is also possible.\n",
    "\n",
    "For details on different ways to use integer encoders, refer to [sklearn's encoding documentation](https://scikit-learn.org/stable/modules/preprocessing.html#encoding-categorical-features).\n"
   ]
  },
  {
   "cell_type": "markdown",
   "metadata": {},
   "source": [
    "<br>\n",
    "<br>\n",
    "\n",
    "___\n",
    "\n",
    "## Summary\n",
    "\n",
    "* This chapter has considered a variety of **preprocessing** routines.\n",
    "* Preprocessing is often necessary to transform data into a form that either (a) a machine learning algorithm requires, or (b) will help to optimize machine learning performance.\n",
    "\n",
    "<br>\n",
    "\n",
    "For more details on a variety of preprocessing routines, refer to [sklearn's preprocessing documentation](https://scikit-learn.org/stable/modules/preprocessing.html)."
   ]
  }
 ],
 "metadata": {
  "kernelspec": {
   "display_name": "Python 3",
   "language": "python",
   "name": "python3"
  },
  "language_info": {
   "codemirror_mode": {
    "name": "ipython",
    "version": 3
   },
   "file_extension": ".py",
   "mimetype": "text/x-python",
   "name": "python",
   "nbconvert_exporter": "python",
   "pygments_lexer": "ipython3",
   "version": "3.8.3"
  }
 },
 "nbformat": 4,
 "nbformat_minor": 4
}
