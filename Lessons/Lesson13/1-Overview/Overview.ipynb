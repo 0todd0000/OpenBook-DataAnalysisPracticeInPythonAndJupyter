{
 "cells": [
  {
   "cell_type": "markdown",
   "metadata": {},
   "source": [
    "# <span style=\"color:#54B1FF\">Machine Learning IV:</span> &nbsp; <span style=\"color:#1B3EA9\"><b>Preprocessing (Overview)</b></span>\n",
    "\n",
    "<br>\n",
    "\n",
    "This chapter considers how appropriate **preprocessing** can help to improve machine learning (ML) results.  **Preprocessing** refers to a variety of data processing steps that occur *before* the data are submitted to an ML routine like K-Nearest Neighbors.\n",
    "\n",
    "Preprocessing routines can be very important because certain ML algorithms are optimized for data with particular characteristics. As a simple example, an ML routine might work best when all features are transformed to the range -1 to +1. To optimize ML performance, it is essential to both:\n",
    "\n",
    "* Understand the data format for which specific ML routines are optimized:\n",
    "* Understand which preprocessing routines can be used to transform the data into the expected format.\n",
    "\n",
    "<br>\n",
    "<br>\n",
    "\n",
    "The preprocessing procedures considered in this chapter are:\n",
    "\n",
    "* Variance scaling\n",
    "* Mapping\n",
    "* Normalization\n",
    "* Encoding\n",
    "\n",
    "<br>\n",
    "\n",
    "A variety of other preprocessing routines also exist; please refer to [sklearn's preprocessing documentation](https://scikit-learn.org/stable/modules/preprocessing.html#preprocessing).\n"
   ]
  }
 ],
 "metadata": {
  "kernelspec": {
   "display_name": "Python 3",
   "language": "python",
   "name": "python3"
  },
  "language_info": {
   "codemirror_mode": {
    "name": "ipython",
    "version": 3
   },
   "file_extension": ".py",
   "mimetype": "text/x-python",
   "name": "python",
   "nbconvert_exporter": "python",
   "pygments_lexer": "ipython3",
   "version": "3.8.3"
  }
 },
 "nbformat": 4,
 "nbformat_minor": 4
}
