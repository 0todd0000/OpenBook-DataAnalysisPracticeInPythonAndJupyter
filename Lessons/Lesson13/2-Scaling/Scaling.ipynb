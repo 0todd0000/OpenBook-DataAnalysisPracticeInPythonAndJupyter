{
 "cells": [
  {
   "cell_type": "markdown",
   "metadata": {},
   "source": [
    "# <span style=\"color:#54B1FF\">Preprocessing:</span> &nbsp; <span style=\"color:#1B3EA9\"><b>Scaling</b></span>\n",
    "\n",
    "<br>\n",
    "\n",
    "**Scaling** refers to the transformation of a range of data. For example, if the data originally range from 100 to 1000, one could scale them to a range of 0 to 1. This type of scaling is important for some machine learning (ML) algorithms, which expect data to lie within a certain range of values.\n",
    "\n",
    "As a practical example to demonstrate the importance of scaling, consider a self-driving car that uses streaming video as an input feature to a machine learning self-driving algorithm.  Imagine that pixel brightness values in the **training set** range from 100 (road) to 255 (bright sun). If the machine learning goal is to follow white markings on the road, the algorithm will likely need to find pixels with a brightness value of about 125. If these data were scaled to the range 0 (minimum brightness) to +1 (maximum brightness) the white-line target brightness value would be about 0.16.\n",
    "\n",
    "Now imagine that car is on the road in real-life, and using a real-time video stream as the **test set**. Imagine that the camera malfunctions, and that a few video pixels return values of 10,000. If you scale these new data to a range of 0 to +1, the new white-line target brightness value would be about 0.003. This would almost certainly disrput the self-driving algorithm, and possibly result in a crash or worse.\n",
    "\n",
    "This example, while simple, demonstrates the importance of being able to **apply a specific processing procedure to the test set**, regardless of the nature of the test set.\n",
    "\n",
    "We shall first consider simple data scaling, then we will consider how to apply a specific scaling to the test set.\n",
    "\n",
    "<br>"
   ]
  },
  {
   "cell_type": "code",
   "execution_count": 1,
   "metadata": {},
   "outputs": [],
   "source": [
    "\n",
    "import numpy as np\n",
    "from matplotlib import pyplot as plt\n",
    "from sklearn import preprocessing\n",
    "\n"
   ]
  },
  {
   "cell_type": "markdown",
   "metadata": {},
   "source": [
    "<br>\n",
    "<br>\n",
    "\n",
    "___\n",
    "\n",
    "## Scaling basics\n",
    "\n"
   ]
  },
  {
   "cell_type": "code",
   "execution_count": 2,
   "metadata": {},
   "outputs": [
    {
     "name": "stdout",
     "output_type": "stream",
     "text": [
      "[[ 104.88135039  571.51893664 1060.27633761]\n",
      " [ 104.4883183   542.36547993 1064.58941131]\n",
      " [  93.75872113  589.17730008 1096.36627605]\n",
      " [  88.34415188  579.17250381 1052.88949198]\n",
      " [ 106.80445611  592.55966383 1007.10360582]\n",
      " [  58.71292997  502.02183974 1083.26198455]\n",
      " [ 127.81567509  587.00121482 1097.86183422]\n",
      " [ 129.91585642  546.14793623 1078.05291763]]\n"
     ]
    }
   ],
   "source": [
    "\n",
    "np.random.seed(0)\n",
    "\n",
    "x    = [50, 500, 1000] + 100 * np.random.rand(8, 3)\n",
    "\n",
    "print( x )\n"
   ]
  },
  {
   "cell_type": "code",
   "execution_count": 3,
   "metadata": {},
   "outputs": [
    {
     "name": "stdout",
     "output_type": "stream",
     "text": [
      "[[ 0.1431378   0.2648207  -0.2647958 ]\n",
      " [ 0.12463907 -0.72837546 -0.10778448]\n",
      " [-0.38036788  0.86640351  1.04900711]\n",
      " [-0.6352139   0.52556142 -0.53370342]\n",
      " [ 0.23365209  0.98163344 -2.20047352]\n",
      " [-2.02985836 -2.10279732  0.571964  ]\n",
      " [ 1.22258127  0.79226893  1.10345078]\n",
      " [ 1.32142992 -0.59951523  0.38233533]]\n"
     ]
    }
   ],
   "source": [
    "\n",
    "x_scaled = preprocessing.scale(x)\n",
    "\n",
    "print( x_scaled )\n"
   ]
  },
  {
   "cell_type": "markdown",
   "metadata": {},
   "source": [
    "<br>\n",
    "After scaling, the mean and variance of each feature are 0 and 1, respectively, just like the Standard Normal distribution:\n",
    "\n",
    "<br>"
   ]
  },
  {
   "cell_type": "code",
   "execution_count": 4,
   "metadata": {},
   "outputs": [
    {
     "name": "stdout",
     "output_type": "stream",
     "text": [
      "[-0. -0. -0.]\n",
      "[1. 1. 1.]\n"
     ]
    }
   ],
   "source": [
    "\n",
    "print( np.around( x_scaled.mean(axis=0) , 5 ) )\n",
    "\n",
    "print( x_scaled.std(axis=0) )\n"
   ]
  },
  {
   "cell_type": "markdown",
   "metadata": {},
   "source": [
    "<br>\n",
    "\n",
    "However, this does NOT mean that the data are now normally distributed. Note that the code above uses `np.random.rand` (i.e., the uniform distribution) and not `np.random.randn` (i.e., the standard normal distribution).\n",
    "\n",
    "This can be seen more clearly for a dataset with many more observations, let's try 1000 observations:\n",
    "\n",
    "<br>"
   ]
  },
  {
   "cell_type": "code",
   "execution_count": 5,
   "metadata": {},
   "outputs": [
    {
     "name": "stdout",
     "output_type": "stream",
     "text": [
      "[-0. -0.  0.]\n",
      "[1. 1. 1.]\n"
     ]
    },
    {
     "data": {
      "image/png": "[encoded data removed]",
      "text/plain": [
       "<Figure size 432x288 with 1 Axes>"
      ]
     },
     "metadata": {
      "needs_background": "light"
     },
     "output_type": "display_data"
    }
   ],
   "source": [
    "\n",
    "x    = [50, 500, 1000] + 100 * np.random.rand(1000, 3)\n",
    "x_scaled = preprocessing.scale(x)\n",
    "\n",
    "print( np.around( x_scaled.mean(axis=0) , 5 ) )\n",
    "print( x_scaled.std(axis=0) )\n",
    "\n",
    "plt.figure()\n",
    "plt.hist( x_scaled[:,0] )\n",
    "plt.show()\n"
   ]
  },
  {
   "cell_type": "markdown",
   "metadata": {},
   "source": [
    "<br>\n",
    "\n",
    "Even though the data now have a mean of zero and a standard deviation of 1, they are clearly **not** normally distributed.\n",
    "\n",
    "<br>\n"
   ]
  },
  {
   "cell_type": "markdown",
   "metadata": {},
   "source": [
    "<br>\n",
    "<br>\n",
    "\n",
    "___\n",
    "\n",
    "## Scaling training and test sets \n",
    "\n",
    "As mentioned at the top of this notebook, it can occasionally be important to scale the **test set** data in exactly the same manner in which the **training set** was scaled.\n",
    "\n",
    "**sklearn** provides a variety of tools to ensure that preprocessing routines are applied equivalently to the training and test sets. Below is an example.\n",
    "\n",
    "<br>\n",
    "\n",
    "First let's define one training set and one test set:\n",
    "\n",
    "<br>"
   ]
  },
  {
   "cell_type": "code",
   "execution_count": 6,
   "metadata": {},
   "outputs": [
    {
     "name": "stdout",
     "output_type": "stream",
     "text": [
      "[[0.97861834 0.79915856]\n",
      " [0.46147936 0.78052918]\n",
      " [0.11827443 0.63992102]]\n"
     ]
    }
   ],
   "source": [
    "\n",
    "np.random.seed(0)\n",
    "\n",
    "x_train  = np.random.rand(10, 2)\n",
    "x_test   = np.random.rand(3, 2)\n",
    "\n",
    "print( x_test )\n"
   ]
  },
  {
   "cell_type": "markdown",
   "metadata": {},
   "source": [
    "<br>\n",
    "\n",
    "One could separately scaled the training and test sets like this:\n",
    "\n",
    "<br>"
   ]
  },
  {
   "cell_type": "code",
   "execution_count": 7,
   "metadata": {},
   "outputs": [
    {
     "name": "stdout",
     "output_type": "stream",
     "text": [
      "[[ 1.29846443  0.83408861]\n",
      " [-0.16395642  0.57200683]\n",
      " [-1.13450801 -1.40609544]]\n"
     ]
    }
   ],
   "source": [
    "x_train_scaled  = preprocessing.scale(x_train)\n",
    "x_test_scaled   = preprocessing.scale(x_test)\n",
    "\n",
    "print( x_test_scaled )"
   ]
  },
  {
   "cell_type": "markdown",
   "metadata": {},
   "source": [
    "<br>\n",
    "\n",
    "Or one could scale the training set, then use the results to scale the test set, like this:\n",
    "\n",
    "<br>\n"
   ]
  },
  {
   "cell_type": "code",
   "execution_count": 8,
   "metadata": {},
   "outputs": [
    {
     "name": "stdout",
     "output_type": "stream",
     "text": [
      "[[ 1.60475663  0.62226019]\n",
      " [-0.20700717  0.54824228]\n",
      " [-1.40940402 -0.0104192 ]]\n"
     ]
    }
   ],
   "source": [
    "\n",
    "scaler        = preprocessing.StandardScaler()\n",
    "scaler.fit(x_train)\n",
    "\n",
    "x_test_scaled = scaler.transform( x_test )\n",
    "\n",
    "print( x_test_scaled )\n"
   ]
  },
  {
   "cell_type": "markdown",
   "metadata": {},
   "source": [
    "<br>\n",
    "\n",
    "These results are not very different from using `preprocessing.scale`.\n",
    "\n",
    "(Note that `scaler` means \"an object that scales data\", and not \"scalar\".)\n",
    "\n",
    "\n",
    "<br>\n",
    "<br>\n",
    "\n",
    "If the `preprocessing.scale` and `preprocessing.StandardScaler` approaches have produced similar results, why does this matter?\n",
    "\n",
    "It matters because the test_set might not always behave as expected. For example, similar to the self-driving car example above, imagine that one of the **test set** features is strange, with values much higher than the expected maximum of 1:\n",
    "\n",
    "<br>"
   ]
  },
  {
   "cell_type": "code",
   "execution_count": 9,
   "metadata": {},
   "outputs": [
    {
     "name": "stdout",
     "output_type": "stream",
     "text": [
      "[[ 0.97861834 10.79915856]\n",
      " [ 0.46147936 10.78052918]\n",
      " [ 0.11827443 10.63992102]]\n"
     ]
    }
   ],
   "source": [
    "\n",
    "x_test[:,1] += 10\n",
    "\n",
    "print( x_test )\n"
   ]
  },
  {
   "cell_type": "markdown",
   "metadata": {},
   "source": [
    "<br>\n",
    "\n",
    "Now there will be a much bigger difference between the two methods of scaling:\n",
    "\n",
    "<br>"
   ]
  },
  {
   "cell_type": "code",
   "execution_count": 10,
   "metadata": {},
   "outputs": [
    {
     "name": "stdout",
     "output_type": "stream",
     "text": [
      "[[ 1.29846443  0.83408861]\n",
      " [-0.16395642  0.57200683]\n",
      " [-1.13450801 -1.40609544]]\n",
      "\n",
      "[[ 1.60475663 40.35405773]\n",
      " [-0.20700717 40.28003983]\n",
      " [-1.40940402 39.72137835]]\n"
     ]
    }
   ],
   "source": [
    "\n",
    "x_test_scaled_0   = preprocessing.scale(x_test)\n",
    "x_test_scaled_1   = scaler.transform( x_test )\n",
    "\n",
    "print( x_test_scaled_0 )\n",
    "print()\n",
    "print( x_test_scaled_1 )"
   ]
  },
  {
   "cell_type": "markdown",
   "metadata": {},
   "source": [
    "<br>\n",
    "\n",
    "Note that `scaler` has kept the good feature (the first column of data) exactly like before, despite the corrputed second feature.\n",
    "\n",
    "In contrast, `preprocessing.scale` has distorted both features.\n",
    "\n",
    "While this example is simple, it illustrates an important point:\n",
    "\n",
    "When applying various data preprocessing routines, you must understand and justify how those preprocessing routines should be applied to the test set."
   ]
  }
 ],
 "metadata": {
  "kernelspec": {
   "display_name": "Python 3",
   "language": "python",
   "name": "python3"
  },
  "language_info": {
   "codemirror_mode": {
    "name": "ipython",
    "version": 3
   },
   "file_extension": ".py",
   "mimetype": "text/x-python",
   "name": "python",
   "nbconvert_exporter": "python",
   "pygments_lexer": "ipython3",
   "version": "3.8.3"
  }
 },
 "nbformat": 4,
 "nbformat_minor": 4
}
