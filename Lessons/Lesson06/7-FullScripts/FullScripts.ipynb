{
 "cells": [
  {
   "cell_type": "markdown",
   "metadata": {},
   "source": [
    "# <span style=\"color:#54B1FF\">Exploring Data:</span> &nbsp; <span style=\"color:#1B3EA9\"><b>Full Scripts</b></span>\n",
    "\n",
    "<br>\n",
    "\n",
    "Scripts are [text files](https://en.wikipedia.org/wiki/Text_file) which contain executable commands. Python scripts are saved as text files with the extension `.py`. When programs become complex, it can become more convenient to store them in one or more scripts.\n",
    "\n",
    "In the folder in which this notebook is saved, you will find two scripts called **script1_parse.py** and **script2_analyse.py**. These two scripts implement the key functionality and analyses from the previous notebooks in this Lesson.\n",
    "\n",
    "⭐ It is **almost always best** to separate your code into **parsing** and **analysis**. You can do this using separate scripts, as discussed in this notebook, or you can do this using separate notebooks, as demonstrated in earlier notebooks from this lesson.\n",
    "\n",
    "If you choose to save your code in Python scripts, note that they can be executed from a Jupyter notebook using the `%run` command, like this:\n",
    "\n",
    "<br>"
   ]
  },
  {
   "cell_type": "code",
   "execution_count": 1,
   "metadata": {},
   "outputs": [
    {
     "name": "stdout",
     "output_type": "stream",
     "text": [
      "parsed_data.csv successfully written.\n"
     ]
    }
   ],
   "source": [
    "%run script1_parse.py"
   ]
  },
  {
   "cell_type": "markdown",
   "metadata": {},
   "source": [
    "<br>\n",
    "\n",
    "The `%run` command has executed **all** commands in the script. If you look at the details of the script you will see that it parses all five HTML pages, then saves the results in a CSV file, which you will find written in the directory in which this notebook is saved.\n",
    "\n",
    "Let's run the next script:\n",
    "\n",
    "<br>"
   ]
  },
  {
   "cell_type": "code",
   "execution_count": 2,
   "metadata": {},
   "outputs": [
    {
     "name": "stdout",
     "output_type": "stream",
     "text": [
      "Central tendency measures:\n",
      "    Mean        =  3687.17\n",
      "    Median      =  2667.0\n",
      "    Mode        =  [5374]\n",
      "\n",
      "Dispersion measures:\n",
      "    Minimum              =  269\n",
      "    Maximum              =  18498\n",
      "    Range                =  18229\n",
      "    25th percentile      =  1797.5\n",
      "    75th percentile      =  5094.0\n",
      "    Inter-quartile range =  3296.5\n",
      "    Variance             =  8080831.351100006\n",
      "    Standard deviation   =  2842.6803110972583\n",
      "\n",
      "Non-normality measures:\n",
      "    Skewness     = 1.9431730084032617\n",
      "    Kurtosis     = 5.371752531923347\n",
      "\n"
     ]
    },
    {
     "data": {
      "image/png": "[encoded data removed]",
      "text/plain": [
       "<Figure size 720x216 with 3 Axes>"
      ]
     },
     "metadata": {
      "needs_background": "light"
     },
     "output_type": "display_data"
    }
   ],
   "source": [
    "%run script2_analyse.py"
   ]
  },
  {
   "cell_type": "markdown",
   "metadata": {},
   "source": [
    "<br>\n",
    "\n",
    "The figure above was generated by the commands in the script, and Jupyter has automatically embedded the figure in this notebook.\n",
    "\n",
    "⭐ Note that, after running a script using the `%run` command, all of the script's variables are available to use in this notebook. For example:\n",
    "\n",
    "<br>"
   ]
  },
  {
   "cell_type": "code",
   "execution_count": 3,
   "metadata": {},
   "outputs": [
    {
     "name": "stdout",
     "output_type": "stream",
     "text": [
      "0       1075\n",
      "1       1790\n",
      "2       2379\n",
      "3       2364\n",
      "4        960\n",
      "       ...  \n",
      "195      989\n",
      "196      838\n",
      "197     3698\n",
      "198      956\n",
      "199    14047\n",
      "Name: Price, Length: 200, dtype: int64\n"
     ]
    }
   ],
   "source": [
    "print( price )"
   ]
  },
  {
   "cell_type": "markdown",
   "metadata": {},
   "source": [
    "<br>\n",
    "\n",
    "The variable `price` is specified in **script2_analyse.py**, and is now available for use in this notebook.\n",
    "\n",
    "Also note that functions defined in scripts are also available for use in this notebook. For example, we could use the `parse_page` function that is defined in **script1_parse.py** like this:\n",
    "\n",
    "<br>"
   ]
  },
  {
   "cell_type": "code",
   "execution_count": 4,
   "metadata": {},
   "outputs": [
    {
     "name": "stdout",
     "output_type": "stream",
     "text": [
      "[1075, 1790, 2379, 2364, 960, 1219, 8491, 3205, 4729, 3033, 2352, 1581, 1801, 5374, 4325, 4526, 7192, 14542, 960, 834, 5388, 2385, 5136, 5408, 5374, 1076, 11060, 5900, 2567, 5152, 5374, 5374, 2153, 4531, 836, 4182, 1089, 1766, 5981, 4194]\n"
     ]
    }
   ],
   "source": [
    "dir0      = os.path.abspath('')                  # directory in which this notebook is saved\n",
    "fnameHTML = os.path.join(dirData, 'page1.html')  # an HTML data file\n",
    "a,b,c     = parse_page( fnameHTML )              # parse results (title, pages, price)\n",
    "\n",
    "print(c)"
   ]
  },
  {
   "cell_type": "markdown",
   "metadata": {},
   "source": [
    "<br>\n",
    "\n",
    "___\n",
    "\n",
    "### Summary\n",
    "\n",
    "To keep your notebooks concise, it can sometimes be convenient to save complex or long sequences of commands in scripts (i.e., `.py` files), and to use the `%run` command to call the script.\n",
    "\n",
    "This approach hides the Python code details from the notebook reader, and allows them to focus on bigger issues, like the results of analysis.\n",
    "\n",
    "Using scripts vs. using notebooks is your choice as a data analyst. If you are preparing Python code for yourself, either is fine. If you are preparing Python code for your boss, for a customer, or as a course project submission, it is usually best to hide the Python code details in scripts, so that the reader can focus on the main findings.\n"
   ]
  }
 ],
 "metadata": {
  "kernelspec": {
   "display_name": "Python 3",
   "language": "python",
   "name": "python3"
  },
  "language_info": {
   "codemirror_mode": {
    "name": "ipython",
    "version": 3
   },
   "file_extension": ".py",
   "mimetype": "text/x-python",
   "name": "python",
   "nbconvert_exporter": "python",
   "pygments_lexer": "ipython3",
   "version": "3.8.3"
  }
 },
 "nbformat": 4,
 "nbformat_minor": 4
}
