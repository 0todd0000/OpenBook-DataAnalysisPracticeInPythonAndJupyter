{
 "cells": [
  {
   "cell_type": "markdown",
   "metadata": {},
   "source": [
    "# <span style=\"color:#54B1FF\">Exploring Data:</span> &nbsp; <span style=\"color:#1B3EA9\"><b>Dataset Description</b></span>\n",
    "\n",
    "<br>\n",
    "\n",
    "This lesson aims to work with relatively large, relatively numerous, imperfectly formatted data files. The main purpose is to explore various complications that exist in real-world data files. We will use real-world HTML files as an example. \n",
    "\n",
    "\n",
    "<br>"
   ]
  },
  {
   "cell_type": "markdown",
   "metadata": {},
   "source": [
    "___\n",
    "\n",
    "## Data files\n",
    "\n",
    "* All data files for this dataset are available in this lesson's `Data` folder.\n",
    "    * This folder contains five HTML files (page1.html, page2.html, etc.)\n",
    "    * This folder also contains a README.txt (this describes the source of data).\n",
    "\n",
    "\n",
    "* Each HTML file contains search results from [kakaku.com](https://kakaku.com) for \"*python*\" in the category \"和書\" (Western books)\n",
    "* An example URL, containing similar HTML results, is:\n",
    "    * https://kakaku.com/book/ss_0010_0001/0028/python/search_itemlist.aspx?ssi_kw=python&ssi_page=5"
   ]
  },
  {
   "cell_type": "markdown",
   "metadata": {},
   "source": [
    "___\n",
    "\n",
    "## Example page\n",
    "\n",
    "The first three search resutls from `page1.html` are depicted in the figure below.\n",
    "\n",
    "<br>\n",
    "\n",
    "<br>\n",
    "<img src=\"img/ss0.png\" alt=\"screenshot\" width=700 />\n",
    "<br>"
   ]
  },
  {
   "cell_type": "markdown",
   "metadata": {},
   "source": [
    "<br>\n",
    "\n",
    "The goal of this lesson is to parse all five HTML pages, extracting three pieces of information for each book:\n",
    "\n",
    "1. title\n",
    "2. number of pages\n",
    "3. price\n",
    "\n",
    "<br> \n",
    "\n",
    "There are 40 books per page, so we will extract a total of 200 titles, 200 page counts, and 200 prices.\n",
    "\n",
    "In the image above, note that the page count is written in light grey font, following \"ページ\".\n",
    "\n",
    "<br>\n",
    "\n",
    "In order to extract the desired information, we need to **parse** each HTML file.\n",
    "\n",
    "As a reminder:\n",
    "\n",
    "**parse** = \"to analyze or separate (input, for example) into more easily processed components\" (source: [wordnik.com](https://www.wordnik.com/words/parse))\n",
    "\n",
    "<br>\n",
    "\n",
    "The other notebooks in this lesson demonstrate how to parse these data files, then analyze the extracted data."
   ]
  }
 ],
 "metadata": {
  "kernelspec": {
   "display_name": "Python 3",
   "language": "python",
   "name": "python3"
  },
  "language_info": {
   "codemirror_mode": {
    "name": "ipython",
    "version": 3
   },
   "file_extension": ".py",
   "mimetype": "text/x-python",
   "name": "python",
   "nbconvert_exporter": "python",
   "pygments_lexer": "ipython3",
   "version": "3.8.3"
  }
 },
 "nbformat": 4,
 "nbformat_minor": 4
}
