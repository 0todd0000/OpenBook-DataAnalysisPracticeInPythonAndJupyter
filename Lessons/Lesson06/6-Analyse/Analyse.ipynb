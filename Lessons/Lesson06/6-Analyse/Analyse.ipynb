{
 "cells": [
  {
   "cell_type": "markdown",
   "metadata": {},
   "source": [
    "# <span style=\"color:#54B1FF\">Exploring Data:</span> &nbsp; <span style=\"color:#1B3EA9\"><b>Analysis</b></span>\n",
    "\n",
    "<br>\n",
    "\n",
    "In the previous notebooks in this lesson, data were parsed from a series of HTML files, and the results were saved in a CSV file called **parsed_data.csv**. This file has been copied in the same directory in which this notebook is saved.\n",
    "\n",
    "In this notebook, we will run some preliminary analyses using some of the techniques we considered in previous lessons.\n",
    "\n",
    "Let's first import the packages we'll need for this notebook, then let's read the parsed data.\n",
    "\n",
    "<br>"
   ]
  },
  {
   "cell_type": "code",
   "execution_count": 1,
   "metadata": {},
   "outputs": [],
   "source": [
    "import os\n",
    "import numpy as np\n",
    "from scipy import stats\n",
    "from matplotlib import pyplot as plt\n",
    "import pandas as pd"
   ]
  },
  {
   "cell_type": "code",
   "execution_count": 2,
   "metadata": {},
   "outputs": [],
   "source": [
    "dir0     = os.path.abspath('')              # directory in which this notebook is saved\n",
    "fnameCSV = os.path.join( dir0, 'parsed_data.csv' )\n",
    "df       = pd.read_csv(fnameCSV)\n",
    "title    = df['Title']\n",
    "pages    = df['Pages']\n",
    "price    = df['Price']"
   ]
  },
  {
   "cell_type": "markdown",
   "metadata": {},
   "source": [
    "<br>\n",
    "\n",
    "Let's next visualize the distribution of book prices.\n",
    "\n",
    "<br>"
   ]
  },
  {
   "cell_type": "code",
   "execution_count": 3,
   "metadata": {},
   "outputs": [
    {
     "data": {
      "image/png": "[encoded data removed]",
      "text/plain": [
       "<Figure size 432x288 with 1 Axes>"
      ]
     },
     "metadata": {
      "needs_background": "light"
     },
     "output_type": "display_data"
    }
   ],
   "source": [
    "plt.figure()\n",
    "plt.hist( price )\n",
    "plt.xlabel( 'Price (¥)' )\n",
    "plt.ylabel( 'Count' )\n",
    "plt.show()"
   ]
  },
  {
   "cell_type": "markdown",
   "metadata": {},
   "source": [
    "<br>\n",
    "\n",
    "It looks like most book prices are less than ¥2500, and that the average price is less than ¥5000, but let's summarize this distribution more objectively, using the **central tendency**, **dispersion** and **non normality** metrics we considered in Lesson 04.\n",
    "\n",
    "<br>"
   ]
  },
  {
   "cell_type": "markdown",
   "metadata": {},
   "source": [
    "___\n",
    "\n",
    "## Central tendency"
   ]
  },
  {
   "cell_type": "code",
   "execution_count": 4,
   "metadata": {},
   "outputs": [
    {
     "name": "stdout",
     "output_type": "stream",
     "text": [
      "Mean        =  3687.17\n",
      "Median      =  2667.0\n",
      "Mode        =  [5374]\n"
     ]
    }
   ],
   "source": [
    "x0     = np.mean( price )\n",
    "x1     = np.median( price )\n",
    "x2     = stats.mode( price ).mode\n",
    "\n",
    "print(\"Mean        = \", x0)\n",
    "print(\"Median      = \", x1)\n",
    "print(\"Mode        = \", x2)"
   ]
  },
  {
   "cell_type": "markdown",
   "metadata": {},
   "source": [
    "<br>\n",
    "\n",
    "These results indicate relatively large differences amongst the mean, median and mode. This is usually a good sign that the data are non-normally distributed, and thus that the median (and possibly mode) are better indicators of central tendency than the mean.\n",
    "\n",
    "To check, let's look at the mode result a little more carefully.\n",
    "\n",
    "<br>"
   ]
  },
  {
   "cell_type": "code",
   "execution_count": 5,
   "metadata": {},
   "outputs": [
    {
     "name": "stdout",
     "output_type": "stream",
     "text": [
      "ModeResult(mode=array([5374]), count=array([9]))\n"
     ]
    }
   ],
   "source": [
    "print( stats.mode( price ) )"
   ]
  },
  {
   "cell_type": "markdown",
   "metadata": {},
   "source": [
    "<br>\n",
    "\n",
    "This result implies that, while the most common price is ¥5374, only 9 of the 200 books have this price. This means that the mode is probably not very representative of the distributions. Had 100 books, or even 50 books had this price, the mode would be more representative of the distribution, but in this case it would also become closer to the median and mean. For this dataset, the median is therefore probably the best indicator of central tendency.\n",
    "\n",
    "<br>"
   ]
  },
  {
   "cell_type": "markdown",
   "metadata": {},
   "source": [
    "___\n",
    "\n",
    "## Dispersion\n",
    "\n"
   ]
  },
  {
   "cell_type": "code",
   "execution_count": 6,
   "metadata": {},
   "outputs": [
    {
     "name": "stdout",
     "output_type": "stream",
     "text": [
      "Minimum              =  269\n",
      "Maximum              =  18498\n",
      "Range                =  18229\n",
      "25th percentile      =  1797.5\n",
      "75th percentile      =  5094.0\n",
      "Inter-quartile range =  3296.5\n",
      "Variance             =  8080831.351100006\n",
      "Standard deviation   =  2842.6803110972583\n"
     ]
    }
   ],
   "source": [
    "x  = price\n",
    "\n",
    "y0 = np.min( x )  # minimum\n",
    "y1 = np.max( x )  # maximum\n",
    "y2 = y1 - y0      # range\n",
    "y3 = np.percentile( x, 25 ) # 25th percentile (i.e., lower quartile)\n",
    "y4 = np.percentile( x, 75 ) # 75th percentile (i.e., upper quartile)\n",
    "y5 = y4 - y3 # inter-quartile range\n",
    "y6 = np.var( x ) # variance\n",
    "y7 = np.std( x ) # standard deviation\n",
    "\n",
    "\n",
    "print(\"Minimum              = \", y0)\n",
    "print(\"Maximum              = \", y1)\n",
    "print(\"Range                = \", y2)\n",
    "print(\"25th percentile      = \", y3)\n",
    "print(\"75th percentile      = \", y4)\n",
    "print(\"Inter-quartile range = \", y5)\n",
    "print(\"Variance             = \", y6)\n",
    "print(\"Standard deviation   = \", y7)"
   ]
  },
  {
   "cell_type": "markdown",
   "metadata": {},
   "source": [
    "<br>\n",
    "\n",
    "From these results we can see that there is a very large range in book prices (of more than ¥18,000), but that that 50% of the books lie within a range of about ¥3300 (i.e., between the lower and upper quartiles). Additionally, the standard deviation is relatively large, implying relative broad dispersion of prices.\n",
    "\n",
    "<br>"
   ]
  },
  {
   "cell_type": "markdown",
   "metadata": {},
   "source": [
    "___\n",
    "\n",
    "## Nonnormality"
   ]
  },
  {
   "cell_type": "code",
   "execution_count": 7,
   "metadata": {},
   "outputs": [
    {
     "name": "stdout",
     "output_type": "stream",
     "text": [
      "Skewness     = 1.9431730084032617\n",
      "Kurtosis     = 5.371752531923347\n"
     ]
    }
   ],
   "source": [
    "z0 = stats.skew(x)\n",
    "z1 = stats.kurtosis(x)\n",
    "\n",
    "print( f\"Skewness     = {z0}\")\n",
    "print( f\"Kurtosis     = {z1}\")"
   ]
  },
  {
   "cell_type": "markdown",
   "metadata": {},
   "source": [
    "<br>\n",
    "\n",
    "Recall that, when the distribution is normal, skewness and kurtosis values are expected to approach zero. Since both values are considerably greater than zero, they imply that the data is not normally distributed. This gives use further evidence that the median is a better indicator of central tendency than the mean. This also gives us evidence that dispersion measures like the IQR (inter-quartile range) are better than variance and standard deviation, which are characteristics of normal distributions.\n",
    "\n",
    "Now that we have summarized the basic distribution characteristics, let's check whether our main outcome variable (price) is correlated with the books' page counts.\n",
    "\n",
    "<br>"
   ]
  },
  {
   "cell_type": "markdown",
   "metadata": {},
   "source": [
    "___\n",
    "\n",
    "## Correlation"
   ]
  },
  {
   "cell_type": "code",
   "execution_count": 8,
   "metadata": {},
   "outputs": [
    {
     "name": "stdout",
     "output_type": "stream",
     "text": [
      "Correlation coefficient: 0.366\n"
     ]
    },
    {
     "data": {
      "image/png": "[encoded data removed]",
      "text/plain": [
       "<Figure size 432x288 with 1 Axes>"
      ]
     },
     "metadata": {
      "needs_background": "light"
     },
     "output_type": "display_data"
    }
   ],
   "source": [
    "x   = pages\n",
    "y   = price\n",
    "r   = np.corrcoef(x, y)[0,1]\n",
    "print( 'Correlation coefficient: %0.3f' %r )\n",
    "\n",
    "plt.figure()\n",
    "plt.scatter(x, y)\n",
    "plt.xlabel('Page count')\n",
    "plt.ylabel('Price (¥)')\n",
    "plt.show()"
   ]
  },
  {
   "cell_type": "markdown",
   "metadata": {},
   "source": [
    "<br>\n",
    "\n",
    "This correlation value is relatively weak.  However, recall that we assigned `pages` values of -1 to book entries that were missing page counts. Let's therefore exclude these books from our analysis.\n",
    "\n",
    "<br>"
   ]
  },
  {
   "cell_type": "code",
   "execution_count": 9,
   "metadata": {},
   "outputs": [
    {
     "name": "stdout",
     "output_type": "stream",
     "text": [
      "Correlation coefficient: 0.509\n"
     ]
    },
    {
     "data": {
      "image/png": "[encoded data removed]",
      "text/plain": [
       "<Figure size 432x288 with 1 Axes>"
      ]
     },
     "metadata": {
      "needs_background": "light"
     },
     "output_type": "display_data"
    }
   ],
   "source": [
    "i   = pages > 0\n",
    "x   = pages[i]\n",
    "y   = price[i]\n",
    "r   = np.corrcoef(x, y)[0,1]\n",
    "print( 'Correlation coefficient: %0.3f' %r )\n",
    "\n",
    "plt.figure()\n",
    "plt.scatter(x, y)\n",
    "plt.xlabel('Page count')\n",
    "plt.ylabel('Price (¥)')\n",
    "plt.show()"
   ]
  },
  {
   "cell_type": "markdown",
   "metadata": {},
   "source": [
    "<br>\n",
    "\n",
    "We can see that, by excluding the books without page count values, we have increased the correlation coefficient substantially. The correlation strength is still relatively weak, but we have removed an important dataset peculiarity that gave an incorrect impression of the true correlation strength.\n",
    "\n",
    "Let's last add a regression line to this correlation analysis.\n",
    "\n",
    "<br>"
   ]
  },
  {
   "cell_type": "code",
   "execution_count": 10,
   "metadata": {},
   "outputs": [
    {
     "data": {
      "image/png": "[encoded data removed]",
      "text/plain": [
       "<Figure size 432x288 with 1 Axes>"
      ]
     },
     "metadata": {
      "needs_background": "light"
     },
     "output_type": "display_data"
    }
   ],
   "source": [
    "# Calculate regression line:\n",
    "a,b    = np.polyfit(x, y, deg=1)\n",
    "x0,x1  = min(x), max(x)\n",
    "y0,y1  = a*x0 + b, a*x1 + b\n",
    "\n",
    "\n",
    "plt.figure()\n",
    "plt.scatter(x, y, label='Data')\n",
    "plt.text(600, 8000, 'r = %.3f' %r, color='r')\n",
    "plt.plot([x0,x1], [y0,y1], color='r', label='Regression line')\n",
    "plt.legend()\n",
    "plt.xlabel('Page count')\n",
    "plt.ylabel('Price (¥)')\n",
    "plt.show()"
   ]
  },
  {
   "cell_type": "markdown",
   "metadata": {},
   "source": [
    "<br>\n",
    "\n",
    "This completes our preliminary analysis of this dataset. In the next notebook we'll summarize this entire lesson using two scripts: **parse** and **analyze**.\n",
    "\n",
    "In subsequent lessons we'll study more advanced analysis techniques that should generally be applied after the preliminary analysis techniques that we've considered up until this point."
   ]
  }
 ],
 "metadata": {
  "kernelspec": {
   "display_name": "Python 3",
   "language": "python",
   "name": "python3"
  },
  "language_info": {
   "codemirror_mode": {
    "name": "ipython",
    "version": 3
   },
   "file_extension": ".py",
   "mimetype": "text/x-python",
   "name": "python",
   "nbconvert_exporter": "python",
   "pygments_lexer": "ipython3",
   "version": "3.8.3"
  }
 },
 "nbformat": 4,
 "nbformat_minor": 4
}
