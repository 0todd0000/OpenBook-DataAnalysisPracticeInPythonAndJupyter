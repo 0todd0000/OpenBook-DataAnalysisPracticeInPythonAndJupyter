{
 "cells": [
  {
   "cell_type": "markdown",
   "metadata": {},
   "source": [
    "# <span style=\"color:#54B1FF\">Exploring Data:</span> &nbsp; <span style=\"color:#1B3EA9\"><b>Parsing an Entry</b></span>\n",
    "\n",
    "<br>\n",
    "\n",
    "The word \"entry\" implies one unit of data. For this example, \"one entry\" means \"one book\".\n",
    "\n",
    "<br>\n",
    "\n",
    "Let's first import the modules that we'll need. Let's also specify the directory in which the data are saved."
   ]
  },
  {
   "cell_type": "code",
   "execution_count": 1,
   "metadata": {},
   "outputs": [],
   "source": [
    "import os\n",
    "import lxml.html\n",
    "\n",
    "dir0       = os.path.abspath('')              # directory in which this notebook is saved\n",
    "dirLesson  = os.path.dirname( dir0 )          # Lesson directory\n",
    "dirData    = os.path.join(dirLesson, 'Data')  # Data directory\n"
   ]
  },
  {
   "cell_type": "markdown",
   "metadata": {},
   "source": [
    "___\n",
    "\n",
    "## HTML code for a single entry\n",
    "<br>\n",
    "\n",
    "Let's open the first HTML file in a **text editor** (e.g. Notepad), and find where the data are stored for the first entry. The easiest way to do this is to search the text file for a word in the title, for example \"Django\".  This search will take us to a spot in the file as depicted below.\n",
    "\n",
    "<br>\n",
    "<img src=\"img/ss1.png\" alt=\"screenshot\" width=700 />\n",
    "<br>\n",
    "\n",
    "Note that, near the bottom of this image, on Line 459, there is a `<span>` tag that contans the title of the first book: <span style=\"color:red\">\"Django: Django , Web framework for Python\"</span>.\n",
    "\n",
    "Note also that the class of this `<span>` tag is `\"name\"`.\n",
    "\n",
    "We can use this information to parse the HTML file, as demonstrated below."
   ]
  },
  {
   "cell_type": "markdown",
   "metadata": {},
   "source": [
    "___\n",
    "\n",
    "# Parsing book titles\n",
    "\n",
    "If we look at the HTML file in a browser, we can see that there are 40 books.\n",
    "\n",
    "We therefore want to find an HTML element that repeats 40 times.\n",
    "\n",
    "In the image above we see that the book titles are stored in a tag called `<span>` with the class `name`.\n",
    "\n",
    "Let's see if this `<span class=\"name\">` tag repeats 40 times.  The most convenient way to do this is to use the `find_class` function of a parsed HTML tree, like this:\n",
    "\n",
    "<br>"
   ]
  },
  {
   "cell_type": "code",
   "execution_count": 2,
   "metadata": {},
   "outputs": [
    {
     "name": "stdout",
     "output_type": "stream",
     "text": [
      "40\n"
     ]
    }
   ],
   "source": [
    "fnameHTML  = os.path.join(dirData, 'page1.html')\n",
    "tree       = lxml.html.parse(fnameHTML)\n",
    "body       = tree.find('body') \n",
    "name_nodes = body.find_class('name')\n",
    "\n",
    "print( len(name_nodes) )   # number of name nodes"
   ]
  },
  {
   "cell_type": "markdown",
   "metadata": {},
   "source": [
    "We have found 40 name nodes! This implies that all of the book titles are specified in individual `<span class=\"name\">` tags. You can verify this by using your text editor to search the HTML file for `<span class=\"name\">`.\n",
    "\n",
    "Let's check the text stored in the first `<span class=\"name\">` tag:"
   ]
  },
  {
   "cell_type": "code",
   "execution_count": 3,
   "metadata": {},
   "outputs": [
    {
     "name": "stdout",
     "output_type": "stream",
     "text": [
      "Django: Django , Web framework for Python\n"
     ]
    }
   ],
   "source": [
    "name  = name_nodes[0].text\n",
    "\n",
    "print( name )"
   ]
  },
  {
   "cell_type": "markdown",
   "metadata": {},
   "source": [
    "<br>\n",
    "\n",
    "Excellent!  We have extracted the title of the first book.\n",
    "\n",
    "<br>"
   ]
  },
  {
   "cell_type": "markdown",
   "metadata": {},
   "source": [
    "___\n",
    "\n",
    "# Parsing book prices\n",
    "\n",
    "How about the book price?\n",
    "\n",
    "If you look a few lines further in the file, you will see the following:\n",
    "\n",
    "<br>\n",
    "<img src=\"img/ss2.png\" alt=\"screenshot\" width=700 />\n",
    "<br>\n",
    "\n",
    "Note that the price is saved on Line 471, in the text field of a `<span>` tag with the class: `\"itemCatPrice\"`.\n",
    "\n",
    "We can retrieve all `\"itemCatPrice\"` nodes like this:\n",
    "\n",
    "<br>"
   ]
  },
  {
   "cell_type": "code",
   "execution_count": 4,
   "metadata": {},
   "outputs": [
    {
     "name": "stdout",
     "output_type": "stream",
     "text": [
      "50\n"
     ]
    }
   ],
   "source": [
    "price_nodes = body.find_class('itemCatPrice')\n",
    "\n",
    "print( len(price_nodes) )   # number of name nodes"
   ]
  },
  {
   "cell_type": "markdown",
   "metadata": {},
   "source": [
    "<br>\n",
    "\n",
    "Oh no!  There are 50 prices, but only 40 titles!  What has happened?\n",
    "\n",
    "If you look near the top of the page you'll see a horizontal preview bar with prices indicated.\n",
    "\n",
    "<br>\n",
    "<br>\n",
    "<img src=\"img/ss3.png\" alt=\"screenshot\" width=700 />\n",
    "<br>\n",
    "<br>\n",
    "\n",
    "If you search (from the beginning of the HTML source code) for the first instance of `itemCatPrice`, you'll find that it appears in a section called the `sponsorShopArea`.\n",
    "\n",
    "\n",
    "<br>\n",
    "<img src=\"img/ss4.png\" alt=\"screenshot\" width=700 />\n",
    "<br>\n",
    "\n",
    "Let's check how many `itemCatPrice` items appear inside this section.\n",
    "\n",
    "<br>"
   ]
  },
  {
   "cell_type": "code",
   "execution_count": 5,
   "metadata": {},
   "outputs": [
    {
     "name": "stdout",
     "output_type": "stream",
     "text": [
      "10\n"
     ]
    }
   ],
   "source": [
    "shop_area = body.find_class('sponsorShopArea is-grid is-imgSmall')[0]\n",
    "\n",
    "nodes     = shop_area.find_class('itemCatPrice')\n",
    "\n",
    "print( len(nodes) )"
   ]
  },
  {
   "cell_type": "markdown",
   "metadata": {},
   "source": [
    "<br>\n",
    "\n",
    "OK! There are 10 `itemCatPrice` nodes in this section, which means that the other 40 nodes must be in a different section.\n",
    "\n",
    "If we keep searching the HTML source code for the 11th instance of `itemCatPrice`, we'll find (on Line 450) that it lies in a section called `itemCatBox`.\n",
    "\n",
    "<br>\n",
    "<img src=\"img/ss5.png\" alt=\"screenshot\" width=700 />\n",
    "<br>\n",
    "\n",
    "<br>\n",
    "\n",
    "Let's check how many `itemCatPrice` items appear inside this `itemCatBox` section.\n",
    "\n",
    "<br>"
   ]
  },
  {
   "cell_type": "code",
   "execution_count": 6,
   "metadata": {},
   "outputs": [
    {
     "name": "stdout",
     "output_type": "stream",
     "text": [
      "40\n"
     ]
    }
   ],
   "source": [
    "box   = body.find_class('itemCatBox')[0]\n",
    "\n",
    "nodes = box.find_class('itemCatPrice')\n",
    "\n",
    "print( len(nodes) )"
   ]
  },
  {
   "cell_type": "markdown",
   "metadata": {},
   "source": [
    "<br>\n",
    "\n",
    "Excellent! We have found the 40 instances we were looking for.\n",
    "\n",
    "Although we've already found the book name nodes, let's check if we can also find them inside the `itemCatBox` section.\n",
    "\n",
    "<br>"
   ]
  },
  {
   "cell_type": "code",
   "execution_count": 7,
   "metadata": {},
   "outputs": [
    {
     "name": "stdout",
     "output_type": "stream",
     "text": [
      "40\n"
     ]
    }
   ],
   "source": [
    "nodes = box.find_class('name')\n",
    "\n",
    "print( len(nodes) )"
   ]
  },
  {
   "cell_type": "markdown",
   "metadata": {},
   "source": [
    "<br>\n",
    "\n",
    "Excellent again!  We used `body.find_class` above, but that was only good for the `'name'` nodes, and not for the `'itemCatPrice'` nodes.  We now know that we can use `box.find_class` for both. For consistencey let's summarize using only `box.find_class`:\n",
    "\n",
    "<br>"
   ]
  },
  {
   "cell_type": "code",
   "execution_count": 8,
   "metadata": {},
   "outputs": [
    {
     "name": "stdout",
     "output_type": "stream",
     "text": [
      "40\n",
      "40\n"
     ]
    }
   ],
   "source": [
    "fnameHTML   = os.path.join(dirData, 'page1.html')\n",
    "tree        = lxml.html.parse(fnameHTML)\n",
    "body        = tree.find('body') \n",
    "box         = body.find_class('itemCatBox')[0]\n",
    "name_nodes  = box.find_class('name')\n",
    "price_nodes = box.find_class('itemCatPrice')\n",
    "\n",
    "print( len(name_nodes) )    # number of name nodes\n",
    "print( len(price_nodes) )   # number of price nodes"
   ]
  },
  {
   "cell_type": "markdown",
   "metadata": {},
   "source": [
    "<br>\n",
    "\n",
    "Last, let's extract the name and price for a single book.\n",
    "\n",
    "<br>"
   ]
  },
  {
   "cell_type": "code",
   "execution_count": 9,
   "metadata": {},
   "outputs": [
    {
     "name": "stdout",
     "output_type": "stream",
     "text": [
      "Django: Django , Web framework for Python\n",
      "￥1,075\n"
     ]
    }
   ],
   "source": [
    "name_node   = name_nodes[0]\n",
    "price_node  = price_nodes[0]\n",
    "\n",
    "print(name_node.text)\n",
    "print(price_node.text)"
   ]
  },
  {
   "cell_type": "markdown",
   "metadata": {},
   "source": [
    "<br>\n",
    "\n",
    "Good, this matches the first entry in the HTML page (see first screenshot above).\n",
    "\n",
    "However, since we'll later want to work with the numbers, it would be more convenient to save the price as `1075` than as `¥1,075`. To do this we can do the following:\n",
    "\n",
    "* Ignore the first character (which will always be `¥`)\n",
    "* Remove all `,` characters\n",
    "* Convert the string object to an integer object\n",
    "\n",
    "This can be achieved in Python like this:\n",
    "\n",
    "<br>"
   ]
  },
  {
   "cell_type": "code",
   "execution_count": 10,
   "metadata": {},
   "outputs": [
    {
     "name": "stdout",
     "output_type": "stream",
     "text": [
      "￥1,075 <class 'str'>\n",
      "1,075 <class 'str'>\n",
      "1075 <class 'str'>\n",
      "1075 <class 'int'>\n"
     ]
    }
   ],
   "source": [
    "s0  = price_node.text       # original string\n",
    "s1  = s0[1:]                # discard the first character\n",
    "s2  = s1.replace(',', '')   # replace all \",\" characters with empty characters\n",
    "x   = int( s2 )             # convert the resulting string to an integer\n",
    "\n",
    "print( s0, type(s0) )\n",
    "print( s1, type(s1) )\n",
    "print( s2, type(s2) )\n",
    "print( x, type(x) )"
   ]
  },
  {
   "cell_type": "markdown",
   "metadata": {},
   "source": [
    "We could instead achieve the same result on a single line:"
   ]
  },
  {
   "cell_type": "code",
   "execution_count": 11,
   "metadata": {},
   "outputs": [
    {
     "name": "stdout",
     "output_type": "stream",
     "text": [
      "1075\n"
     ]
    }
   ],
   "source": [
    "x  = int( price_node.text[1:].replace(',', '') )\n",
    "\n",
    "print( x )"
   ]
  },
  {
   "cell_type": "markdown",
   "metadata": {},
   "source": [
    "<br>\n",
    "\n",
    "Excellent!\n",
    "\n",
    "How about the number of pages for each book?\n",
    "\n",
    "<br>"
   ]
  },
  {
   "cell_type": "markdown",
   "metadata": {},
   "source": [
    "___\n",
    "\n",
    "# Parsing number of pages\n",
    "\n",
    "\n",
    "\n",
    "If you look at Line 463 in the HTML, file you will see that it contains the number of pages, in the text field of the `<span class=\"itemCatsetsumei\">` tag, directly after \"ページ\"\n",
    "\n",
    "<br>\n",
    "<img src=\"img/ss2.png\" alt=\"screenshot\" width=700 />\n",
    "<br>\n",
    "\n",
    "To extract the page count, we will have to first find all of the `<span class=\"itemCatsetsumei\">` tags, then parse the text field to extract the number of pages.\n",
    "\n",
    "Let's first check whether we can extract the text field using our previous `itemCatBox` strategy:\n",
    "\n",
    "<br>"
   ]
  },
  {
   "cell_type": "code",
   "execution_count": 12,
   "metadata": {},
   "outputs": [
    {
     "name": "stdout",
     "output_type": "stream",
     "text": [
      "ページ: 111, ペーパーバック, Independently published\n"
     ]
    }
   ],
   "source": [
    "fnameHTML   = os.path.join(dirData, 'page1.html')\n",
    "tree        = lxml.html.parse(fnameHTML)\n",
    "body        = tree.find('body') \n",
    "box         = body.find_class('itemCatBox')[0]\n",
    "s           = box.find_class('itemCatsetsumei')[0].text\n",
    "\n",
    "print( s )"
   ]
  },
  {
   "cell_type": "markdown",
   "metadata": {},
   "source": [
    "<br>\n",
    "\n",
    "Excellent!  This is the text that we need.\n",
    "\n",
    "Let's parse the number of pages in this text string. This can be done with two `split` commands, to first remove `ページ`, then to next isolate the number of pages, like this:\n",
    "\n",
    "<br>"
   ]
  },
  {
   "cell_type": "code",
   "execution_count": 13,
   "metadata": {},
   "outputs": [
    {
     "name": "stdout",
     "output_type": "stream",
     "text": [
      "['ページ', ' 111, ペーパーバック, Independently published']\n",
      "\n",
      "[' 111', ' ペーパーバック', ' Independently published']\n",
      "\n",
      " 111\n"
     ]
    }
   ],
   "source": [
    "ss = s.split(':')\n",
    "print( ss )\n",
    "print()\n",
    "\n",
    "ss = ss[1].split(',')\n",
    "print( ss )\n",
    "print()\n",
    "\n",
    "ss = ss[0]\n",
    "print( ss )\n"
   ]
  },
  {
   "cell_type": "markdown",
   "metadata": {},
   "source": [
    "<br>\n",
    "\n",
    "Great! We can do this in a single line, and also convert the string to an integer, like this:\n",
    "\n",
    "<br>"
   ]
  },
  {
   "cell_type": "code",
   "execution_count": 14,
   "metadata": {},
   "outputs": [
    {
     "name": "stdout",
     "output_type": "stream",
     "text": [
      "111\n"
     ]
    }
   ],
   "source": [
    "n = int(  s.split(':')[1].split(',')[0]  )\n",
    "\n",
    "print(n)"
   ]
  },
  {
   "cell_type": "markdown",
   "metadata": {},
   "source": [
    "<br>\n",
    "\n",
    "Finished!  We have successfully parsed the first book on **page1.html**.\n",
    "\n",
    "In the next notebook, let's proceed to parse the entire page.\n",
    "\n",
    "<br>"
   ]
  }
 ],
 "metadata": {
  "kernelspec": {
   "display_name": "Python 3",
   "language": "python",
   "name": "python3"
  },
  "language_info": {
   "codemirror_mode": {
    "name": "ipython",
    "version": 3
   },
   "file_extension": ".py",
   "mimetype": "text/x-python",
   "name": "python",
   "nbconvert_exporter": "python",
   "pygments_lexer": "ipython3",
   "version": "3.8.3"
  }
 },
 "nbformat": 4,
 "nbformat_minor": 4
}
