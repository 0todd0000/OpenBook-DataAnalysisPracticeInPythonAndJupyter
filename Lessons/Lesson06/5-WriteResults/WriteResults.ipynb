{
 "cells": [
  {
   "cell_type": "markdown",
   "metadata": {},
   "source": [
    "# <span style=\"color:#54B1FF\">Exploring Data:</span> &nbsp; <span style=\"color:#1B3EA9\"><b>Write Results</b></span>\n",
    "\n",
    "<br>\n",
    "\n",
    "\n",
    "\n",
    "<br>\n",
    "\n",
    "⚠️ **NOTE!**  &nbsp; &nbsp; All data files are saved in the same directory as this notebook.\n",
    "\n",
    "<br>\n"
   ]
  },
  {
   "cell_type": "markdown",
   "metadata": {},
   "source": [
    "___\n",
    "\n",
    "<a name=\"parse-write\"></a>\n",
    "## Writing results\n",
    "[Back to Table of Contents](#toc)\n",
    "<br>\n",
    "\n",
    "The `names` variable from the previous section is a list of strings, but the `prices` variable is a list of integers. One way to save these data easily is to use `csv.writer`:"
   ]
  },
  {
   "cell_type": "code",
   "execution_count": 24,
   "metadata": {},
   "outputs": [],
   "source": [
    "dir0     = os.path.abspath('')       # directory in which this notebook is saved\n",
    "fnameCSV = os.path.join( dir0, 'kakaku-prices.csv' )\n",
    "\n",
    "with open(fnameCSV, 'w') as fid:     # open in write mode\n",
    "    writer = csv.writer(fid)         # create a writer object\n",
    "    labels = ['Num','Name','Price']  # column labels\n",
    "    writer.writerow( labels )        # write column labels\n",
    "    for i,(n,p) in enumerate(zip(names,prices)):   # cycle through rows\n",
    "        writer.writerow( [i+1,n,p] ) # write the current row to file"
   ]
  },
  {
   "cell_type": "markdown",
   "metadata": {},
   "source": [
    "If the cell above executed without errors, then there should be a new file called **kakaku-prices.csv** in the same folder as this workbook. Check that it contains titles and prices for 200 books.\n",
    "\n",
    "Last, let's assemble all of our code into a single script (i.e., a single cell in Jupyter that can be run by itself)."
   ]
  }
 ],
 "metadata": {
  "kernelspec": {
   "display_name": "Python 3",
   "language": "python",
   "name": "python3"
  },
  "language_info": {
   "codemirror_mode": {
    "name": "ipython",
    "version": 3
   },
   "file_extension": ".py",
   "mimetype": "text/x-python",
   "name": "python",
   "nbconvert_exporter": "python",
   "pygments_lexer": "ipython3",
   "version": "3.8.3"
  }
 },
 "nbformat": 4,
 "nbformat_minor": 4
}
