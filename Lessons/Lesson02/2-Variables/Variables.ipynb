{
 "cells": [
  {
   "cell_type": "markdown",
   "metadata": {},
   "source": [
    "# <span style=\"color:#54B1FF\">Python:</span> &nbsp; <span style=\"color:#1B3EA9\"><b>Variables</b></span>\n",
    "\n",
    "<br>\n"
   ]
  },
  {
   "cell_type": "markdown",
   "metadata": {},
   "source": [
    "\n",
    "<a name=\"toc\"></a>\n",
    "# Table of Contents\n",
    "\n",
    "* [Variable basics](#basics)\n",
    "* [Dynamic variable typing](#dynamic)\n",
    "* [Variable names](#names)\n"
   ]
  },
  {
   "cell_type": "markdown",
   "metadata": {},
   "source": [
    "___\n",
    "\n",
    "<a name=\"basics\"></a>\n",
    "# Variable basics\n",
    "[Back to Table of Contents](#toc)\n",
    "<br>\n",
    "\n",
    "Variables are named objects that contain values. For example, in the equation $x = 3$, $x$ is a variable.\n",
    "\n",
    "In Python, variables can be created and assigned values using the `=` operator:"
   ]
  },
  {
   "cell_type": "code",
   "execution_count": 1,
   "metadata": {},
   "outputs": [
    {
     "name": "stdout",
     "output_type": "stream",
     "text": [
      "3\n"
     ]
    }
   ],
   "source": [
    "x = 3\n",
    "print( x )"
   ]
  },
  {
   "cell_type": "markdown",
   "metadata": {},
   "source": [
    "Note that `x` is the variable, and that it currently contains a value of 3. We can assign a different value like this:"
   ]
  },
  {
   "cell_type": "code",
   "execution_count": 2,
   "metadata": {},
   "outputs": [
    {
     "name": "stdout",
     "output_type": "stream",
     "text": [
      "4\n"
     ]
    }
   ],
   "source": [
    "x = 4\n",
    "print( x )"
   ]
  },
  {
   "cell_type": "markdown",
   "metadata": {},
   "source": [
    "We can also use variables in calculations like this:"
   ]
  },
  {
   "cell_type": "code",
   "execution_count": 3,
   "metadata": {},
   "outputs": [
    {
     "name": "stdout",
     "output_type": "stream",
     "text": [
      "5\n"
     ]
    }
   ],
   "source": [
    "print( x + 1 )"
   ]
  },
  {
   "cell_type": "markdown",
   "metadata": {},
   "source": [
    "We can also use mulitple variables in single calculations:"
   ]
  },
  {
   "cell_type": "code",
   "execution_count": 4,
   "metadata": {},
   "outputs": [
    {
     "name": "stdout",
     "output_type": "stream",
     "text": [
      "6\n"
     ]
    }
   ],
   "source": [
    "x = 2\n",
    "y = 3\n",
    "print( x * y )"
   ]
  },
  {
   "cell_type": "markdown",
   "metadata": {},
   "source": [
    "___\n",
    "\n",
    "<a name=\"dynamic\"></a>\n",
    "# Dynamic variable typing\n",
    "[Back to Table of Contents](#toc)\n",
    "<br>\n",
    "\n",
    "\n"
   ]
  },
  {
   "cell_type": "markdown",
   "metadata": {},
   "source": [
    "In Python, variables are [dynamically typed](https://stackoverflow.com/questions/1517582/what-is-the-difference-between-statically-typed-and-dynamically-typed-languages). This means that the type of data that a variable contains can change. For example:"
   ]
  },
  {
   "cell_type": "code",
   "execution_count": 5,
   "metadata": {},
   "outputs": [
    {
     "name": "stdout",
     "output_type": "stream",
     "text": [
      "<class 'int'>\n",
      "<class 'float'>\n"
     ]
    }
   ],
   "source": [
    "x = 2\n",
    "print( type(x) )\n",
    "\n",
    "x = 2.3\n",
    "print( type(x) )\n"
   ]
  },
  {
   "cell_type": "markdown",
   "metadata": {},
   "source": [
    "Note that `x` was initially an integer, but it is now a float. Dynamic typing like this generates errors in many other programming languages. Since Python flexibly allows dynamic typing, always be careful when using and re-using variable names."
   ]
  },
  {
   "cell_type": "markdown",
   "metadata": {},
   "source": [
    "___\n",
    "\n",
    "<a name=\"names\"></a>\n",
    "# Variable names\n",
    "[Back to Table of Contents](#toc)\n",
    "<br>\n",
    "\n",
    "Any name that starts with a letter (not a number) can be used as a variable name.  For example:\n"
   ]
  },
  {
   "cell_type": "code",
   "execution_count": 6,
   "metadata": {},
   "outputs": [
    {
     "name": "stdout",
     "output_type": "stream",
     "text": [
      "1\n",
      "3\n",
      "5\n"
     ]
    }
   ],
   "source": [
    "x    = 1\n",
    "x2   = 3\n",
    "aabbcc12345 = 5\n",
    "\n",
    "print( x )\n",
    "print( x2 )\n",
    "print( aabbcc12345 )"
   ]
  },
  {
   "cell_type": "markdown",
   "metadata": {},
   "source": [
    "Although variable names can start with an upper case character, by convention Python variable names should start with lower case letters. Thus, while this does not generate an error:"
   ]
  },
  {
   "cell_type": "code",
   "execution_count": 7,
   "metadata": {},
   "outputs": [
    {
     "name": "stdout",
     "output_type": "stream",
     "text": [
      "123\n"
     ]
    }
   ],
   "source": [
    "Abc = 123\n",
    "print( Abc )"
   ]
  },
  {
   "cell_type": "markdown",
   "metadata": {},
   "source": [
    "By Python style convention, `Abc` is a not an acceptable variable name.  Instead use lower case like this:"
   ]
  },
  {
   "cell_type": "code",
   "execution_count": 8,
   "metadata": {},
   "outputs": [
    {
     "name": "stdout",
     "output_type": "stream",
     "text": [
      "123\n"
     ]
    }
   ],
   "source": [
    "abc = 123\n",
    "print( abc )"
   ]
  },
  {
   "cell_type": "markdown",
   "metadata": {},
   "source": [
    "An exception to this style convention is that constants should be ALL UPPER CASE, like this:"
   ]
  },
  {
   "cell_type": "code",
   "execution_count": 9,
   "metadata": {},
   "outputs": [
    {
     "name": "stdout",
     "output_type": "stream",
     "text": [
      "123\n"
     ]
    }
   ],
   "source": [
    "ABC = 123\n",
    "print( ABC )"
   ]
  },
  {
   "cell_type": "markdown",
   "metadata": {},
   "source": [
    "Another style convention is that words in multi-word variable names should be separated by underscores `_` , like this:"
   ]
  },
  {
   "cell_type": "code",
   "execution_count": 10,
   "metadata": {},
   "outputs": [],
   "source": [
    "good_variable_name        = 100\n",
    "badVariableName           = 200\n",
    "Another_bad_variable_name = 300"
   ]
  },
  {
   "cell_type": "markdown",
   "metadata": {},
   "source": [
    "For more details about Python programming conventions, refer to the [Python Style Guide](https://www.python.org/dev/peps/pep-0008/#constants)"
   ]
  }
 ],
 "metadata": {
  "kernelspec": {
   "display_name": "Python 3",
   "language": "python",
   "name": "python3"
  },
  "language_info": {
   "codemirror_mode": {
    "name": "ipython",
    "version": 3
   },
   "file_extension": ".py",
   "mimetype": "text/x-python",
   "name": "python",
   "nbconvert_exporter": "python",
   "pygments_lexer": "ipython3",
   "version": "3.7.10"
  },
  "widgets": {
   "application/vnd.jupyter.widget-state+json": {
    "state": {},
    "version_major": 2,
    "version_minor": 0
   }
  }
 },
 "nbformat": 4,
 "nbformat_minor": 4
}
