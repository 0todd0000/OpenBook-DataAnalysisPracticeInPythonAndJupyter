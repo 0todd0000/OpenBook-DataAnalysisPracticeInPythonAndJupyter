{
 "cells": [
  {
   "cell_type": "markdown",
   "metadata": {},
   "source": [
    "# <span style=\"color:#54B1FF\">Python:</span> &nbsp; <span style=\"color:#1B3EA9\">**Functions**</span>\n",
    "\n",
    "<br>\n",
    "\n",
    "* A Python function, like a mathematical function, represents and contains a specific set of calculations.\n",
    "* This notebook describes how to write your own, custom functions."
   ]
  },
  {
   "cell_type": "markdown",
   "metadata": {},
   "source": [
    "\n",
    "<a name=\"toc\"></a>\n",
    "# Table of Contents\n",
    "\n",
    "* [An example function](#example)\n",
    "* [Single argument functions](#single)\n",
    "* [Multi-argument functions](#multi)\n",
    "* [Function names](#names)\n"
   ]
  },
  {
   "cell_type": "markdown",
   "metadata": {},
   "source": [
    "___\n",
    "\n",
    "<a name=\"example\"></a>\n",
    "# An example function\n",
    "[Back to Table of Contents](#toc)\n",
    "<br>\n",
    "\n",
    "Consider the following mathematical function:\n",
    "\n",
    "<center>\n",
    "$y = x + 1$ \n",
    "</center>\n",
    "    \n",
    "<br>\n",
    "    \n",
    "Let's write this function in Python, then calculate the value of $y$ for $x=3$:\n"
   ]
  },
  {
   "cell_type": "code",
   "execution_count": 1,
   "metadata": {},
   "outputs": [
    {
     "name": "stdout",
     "output_type": "stream",
     "text": [
      "4\n"
     ]
    }
   ],
   "source": [
    "def my_function(x):\n",
    "    y = x + 1\n",
    "    return y\n",
    "\n",
    "x = 3\n",
    "y = my_function(x)\n",
    "print(y)"
   ]
  },
  {
   "cell_type": "markdown",
   "metadata": {},
   "source": [
    "Let's consider the components of this function:\n",
    "\n",
    "* `def` is a Python keyword that means \"define function\"\n",
    "* `my_function` is the function name.\n",
    "* `x` is the input **argument**, where \"argument\" means: a variable that is input to or output from a function\n",
    "* `y` is the output argument\n",
    "* The command `y = x + 1` represents the function's calculations. Here just a single command is used, but functions can have many commands.\n",
    "* `return` is a Python keyword that specifies which variable(s) should be returned as output argument(s)"
   ]
  },
  {
   "cell_type": "markdown",
   "metadata": {},
   "source": [
    "Note that we can use different variable names to get the same answer:"
   ]
  },
  {
   "cell_type": "code",
   "execution_count": 2,
   "metadata": {},
   "outputs": [
    {
     "name": "stdout",
     "output_type": "stream",
     "text": [
      "4\n"
     ]
    }
   ],
   "source": [
    "a = 3\n",
    "b = my_function(a)\n",
    "print(b)"
   ]
  },
  {
   "cell_type": "markdown",
   "metadata": {},
   "source": [
    "Therefore **variable names** are unrelated to **argument names**.\n",
    "\n",
    "In other words, **argument names** are local to a function, and these argument names are unrelated to variables that lie outside a function."
   ]
  },
  {
   "cell_type": "markdown",
   "metadata": {},
   "source": [
    "___\n",
    "\n",
    "<a name=\"single\"></a>\n",
    "# Single argument functions\n",
    "[Back to Table of Contents](#toc)\n",
    "<br>\n",
    "\n",
    "\n"
   ]
  },
  {
   "cell_type": "markdown",
   "metadata": {},
   "source": [
    "The example `my_function` above demonstrates a single-argument function: there is one input argument `x`, and one output argument `y`. Let's rewrite the function slightly:"
   ]
  },
  {
   "cell_type": "code",
   "execution_count": 3,
   "metadata": {},
   "outputs": [
    {
     "name": "stdout",
     "output_type": "stream",
     "text": [
      "4\n"
     ]
    }
   ],
   "source": [
    "def my_function_new(x):\n",
    "    return x + 1\n",
    "\n",
    "a = 3\n",
    "b = my_function_new(x)\n",
    "print(b)"
   ]
  },
  {
   "cell_type": "markdown",
   "metadata": {},
   "source": [
    "Note that we do not need to explicitly specify the output argument name. Here the output argument has no name, it is simply the result of the calculation `x + 1`."
   ]
  },
  {
   "cell_type": "markdown",
   "metadata": {},
   "source": [
    "\n",
    "\n",
    "___\n",
    "\n",
    "<a name=\"multi\"></a>\n",
    "# Multi-argument functions\n",
    "[Back to Table of Contents](#toc)\n",
    "<br>\n",
    "\n",
    "Functions can have more than one input argument and/or more than one output argument.\n",
    "\n",
    "For example, consider the following mathematical function:\n",
    "\n",
    "<center>\n",
    "$y = a^2 (b^2 + c^2)$ \n",
    "</center>\n",
    "    \n",
    "<br>\n",
    "    \n",
    "    \n",
    "This can be written in Python as a function with multiple input arguments, like this:\n"
   ]
  },
  {
   "cell_type": "code",
   "execution_count": 4,
   "metadata": {},
   "outputs": [
    {
     "name": "stdout",
     "output_type": "stream",
     "text": [
      "20\n"
     ]
    }
   ],
   "source": [
    "def abc_function(a, b, c):\n",
    "    return a**2 * (b**2 + c**2)\n",
    "\n",
    "a = 2\n",
    "b = 1\n",
    "c = 2\n",
    "\n",
    "print( abc_function(a, b, c) )"
   ]
  },
  {
   "cell_type": "markdown",
   "metadata": {},
   "source": [
    "Note that multiple input arguments are separated with commas.\n",
    "\n",
    "We could alternatively make this is a single-argument function, where the single input argument is a list of numbers, like this:"
   ]
  },
  {
   "cell_type": "code",
   "execution_count": 5,
   "metadata": {},
   "outputs": [
    {
     "name": "stdout",
     "output_type": "stream",
     "text": [
      "20\n"
     ]
    }
   ],
   "source": [
    "def abc_list_function(x):\n",
    "    a = x[0]\n",
    "    b = x[1]\n",
    "    c = x[2]\n",
    "    return a**2 * (b**2 + c**2)\n",
    "\n",
    "x = [2, 1, 2]\n",
    "print( abc_list_function(x) )"
   ]
  },
  {
   "cell_type": "markdown",
   "metadata": {},
   "source": [
    "Multiple output arguments can also be specified using commas to separate them, like this:"
   ]
  },
  {
   "cell_type": "code",
   "execution_count": 6,
   "metadata": {},
   "outputs": [
    {
     "name": "stdout",
     "output_type": "stream",
     "text": [
      "7\n",
      "10\n"
     ]
    }
   ],
   "source": [
    "def example_multi_output_function(x):\n",
    "    y = x + 2\n",
    "    z = x * 2\n",
    "    return y,z\n",
    "\n",
    "y,z = example_multi_output_function( 5 )\n",
    "\n",
    "print(y)\n",
    "print(z)"
   ]
  },
  {
   "cell_type": "markdown",
   "metadata": {},
   "source": [
    "Alternatively, we could save the output arguments into a single variable like this:"
   ]
  },
  {
   "cell_type": "code",
   "execution_count": 7,
   "metadata": {},
   "outputs": [
    {
     "name": "stdout",
     "output_type": "stream",
     "text": [
      "(7, 10)\n",
      "<class 'tuple'>\n"
     ]
    }
   ],
   "source": [
    "results = example_multi_output_function( 5 )\n",
    "print(results)\n",
    "print( type(results) )"
   ]
  },
  {
   "cell_type": "markdown",
   "metadata": {},
   "source": [
    "Note that `results` is a tuple of values. Thus Python functions actually can only have one output argument: the output argument is either a value, or a tuple of values."
   ]
  },
  {
   "cell_type": "markdown",
   "metadata": {},
   "source": [
    "\n",
    "\n",
    "___\n",
    "\n",
    "<a name=\"names\"></a>\n",
    "# Function names\n",
    "[Back to Table of Contents](#toc)\n",
    "<br>\n",
    "\n",
    "Function names are very flexible in Python, but like variable names you should follow [Python style conventions](https://www.python.org/dev/peps/pep-0008/) when naming your functions:\n",
    "\n",
    "* Only start the function name with a lower-case letter\n",
    "* Preferably only use no upper case letters anywhere in the function name\n",
    "* Separate multiple words using underscores `_`\n"
   ]
  }
 ],
 "metadata": {
  "kernelspec": {
   "display_name": "Python 3",
   "language": "python",
   "name": "python3"
  },
  "language_info": {
   "codemirror_mode": {
    "name": "ipython",
    "version": 3
   },
   "file_extension": ".py",
   "mimetype": "text/x-python",
   "name": "python",
   "nbconvert_exporter": "python",
   "pygments_lexer": "ipython3",
   "version": "3.8.3"
  },
  "widgets": {
   "application/vnd.jupyter.widget-state+json": {
    "state": {},
    "version_major": 2,
    "version_minor": 0
   }
  }
 },
 "nbformat": 4,
 "nbformat_minor": 4
}
