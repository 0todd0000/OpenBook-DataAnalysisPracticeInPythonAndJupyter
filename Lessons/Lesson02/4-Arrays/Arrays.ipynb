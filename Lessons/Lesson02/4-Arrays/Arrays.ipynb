{
 "cells": [
  {
   "cell_type": "markdown",
   "metadata": {},
   "source": [
    "# <span style=\"color:#54B1FF\">Python:</span> &nbsp; <span style=\"color:#1B3EA9\">**Arrays**</span>\n",
    "\n",
    "<br>\n"
   ]
  },
  {
   "cell_type": "markdown",
   "metadata": {},
   "source": [
    "\n",
    "<a name=\"toc\"></a>\n",
    "# Table of Contents\n",
    "\n",
    "* [Creating arrays](#creating)\n",
    "* [Math with arrays](#math)\n",
    "* [Differences between arrays and lists](#differences)\n"
   ]
  },
  {
   "cell_type": "markdown",
   "metadata": {},
   "source": [
    "___\n",
    "\n",
    "<a name=\"creating\"></a>\n",
    "# Creating arrays\n",
    "[Back to Table of Contents](#toc)\n",
    "<br>\n",
    "\n",
    "Although many types of arrays exist in Python, we will only consider NumPy arrays here.\n",
    "\n",
    "Arrays can be created as follows:"
   ]
  },
  {
   "cell_type": "code",
   "execution_count": 1,
   "metadata": {},
   "outputs": [
    {
     "name": "stdout",
     "output_type": "stream",
     "text": [
      "[1 3 5]\n",
      "<class 'numpy.ndarray'>\n"
     ]
    }
   ],
   "source": [
    "import numpy as np\n",
    "\n",
    "a = np.array( [1, 3, 5] )\n",
    "\n",
    "print( a )\n",
    "print( type(a) )\n"
   ]
  },
  {
   "cell_type": "markdown",
   "metadata": {},
   "source": [
    "<br>\n",
    "\n",
    "Notes:\n",
    "* [NumPy](https://numpy.org) is a Python package, and means \"Numerical Python\"\n",
    "* We will discuss more about packages and the `import` command in the next section (the next notebook)\n",
    "* Creating an array is almost the same as creating a list. The only difference is that the function `np.array` converts the list into an array.\n",
    "* The data type is `numpy.ndarray`;  `ndarray` means \"n-dimensional array\"\n",
    "\n",
    "The example above shows creation of a one-dimensional array. A two-dimensional array can be created using a list of lists, like this:"
   ]
  },
  {
   "cell_type": "code",
   "execution_count": 2,
   "metadata": {},
   "outputs": [
    {
     "name": "stdout",
     "output_type": "stream",
     "text": [
      "[[1 2 3]\n",
      " [4 5 6]]\n"
     ]
    }
   ],
   "source": [
    "b = np.array( [ [1,2,3] , [4,5,6] ] )\n",
    "\n",
    "print( b )"
   ]
  },
  {
   "cell_type": "markdown",
   "metadata": {},
   "source": [
    "Note that this array has two rows and three columns. We can see this more clearly using the `shape` property of the array:"
   ]
  },
  {
   "cell_type": "code",
   "execution_count": 3,
   "metadata": {},
   "outputs": [
    {
     "name": "stdout",
     "output_type": "stream",
     "text": [
      "(2, 3)\n"
     ]
    }
   ],
   "source": [
    "print( b.shape )"
   ]
  },
  {
   "cell_type": "markdown",
   "metadata": {},
   "source": [
    "Contrast this with `a`'s `shape` value:"
   ]
  },
  {
   "cell_type": "code",
   "execution_count": 4,
   "metadata": {},
   "outputs": [
    {
     "name": "stdout",
     "output_type": "stream",
     "text": [
      "(3,)\n"
     ]
    }
   ],
   "source": [
    "print( a.shape )"
   ]
  },
  {
   "cell_type": "markdown",
   "metadata": {},
   "source": [
    "Note that `shape` has two values for `b`, and one value for `a`. This means that `b` is a 2D array, and that `a` is a 1D array. We can see this more explicitly using the `ndim` property, where `ndim` means \"number of dimensions\":"
   ]
  },
  {
   "cell_type": "code",
   "execution_count": 5,
   "metadata": {},
   "outputs": [
    {
     "name": "stdout",
     "output_type": "stream",
     "text": [
      "1\n",
      "2\n"
     ]
    }
   ],
   "source": [
    "print( a.ndim )\n",
    "print( b.ndim )"
   ]
  },
  {
   "cell_type": "markdown",
   "metadata": {},
   "source": [
    "The examples above deal with 1D and 2D arrays, but it is possible to have 3D, 4D and $n$D arrays. This is why the data type is called `ndarray`."
   ]
  },
  {
   "cell_type": "code",
   "execution_count": 6,
   "metadata": {},
   "outputs": [
    {
     "name": "stdout",
     "output_type": "stream",
     "text": [
      "<class 'numpy.ndarray'>\n",
      "<class 'numpy.ndarray'>\n"
     ]
    }
   ],
   "source": [
    "print( type(a) )\n",
    "print( type(b) )"
   ]
  },
  {
   "cell_type": "markdown",
   "metadata": {},
   "source": [
    "You can think of a 2D array as a spreadsheet like a sheet in Excel, where each (row,column) cell contains a value.\n",
    "\n",
    "For 1D arrays, individual values can be accessed just like for lists:"
   ]
  },
  {
   "cell_type": "code",
   "execution_count": 7,
   "metadata": {},
   "outputs": [
    {
     "name": "stdout",
     "output_type": "stream",
     "text": [
      "1\n",
      "3\n",
      "5\n"
     ]
    }
   ],
   "source": [
    "print( a[0] )\n",
    "print( a[1] )\n",
    "print( a[2] )"
   ]
  },
  {
   "cell_type": "markdown",
   "metadata": {},
   "source": [
    "For 2D arrays, you must specify two values to index cells:"
   ]
  },
  {
   "cell_type": "code",
   "execution_count": 8,
   "metadata": {},
   "outputs": [
    {
     "name": "stdout",
     "output_type": "stream",
     "text": [
      "1\n",
      "2\n",
      "3\n",
      "4\n",
      "5\n",
      "6\n"
     ]
    }
   ],
   "source": [
    "print( b[0,0] )\n",
    "print( b[0,1] )\n",
    "print( b[0,2] )\n",
    "print( b[1,0] )\n",
    "print( b[1,1] )\n",
    "print( b[1,2] )"
   ]
  },
  {
   "cell_type": "markdown",
   "metadata": {},
   "source": [
    "For 1D arrays, you can access a range of elements using the `:` operator, like this:"
   ]
  },
  {
   "cell_type": "code",
   "execution_count": 9,
   "metadata": {},
   "outputs": [
    {
     "name": "stdout",
     "output_type": "stream",
     "text": [
      "[1 3]\n"
     ]
    }
   ],
   "source": [
    "print( a[0:2] )"
   ]
  },
  {
   "cell_type": "markdown",
   "metadata": {},
   "source": [
    "You can also access multiple elements using a list of indices, like this:"
   ]
  },
  {
   "cell_type": "code",
   "execution_count": 10,
   "metadata": {},
   "outputs": [
    {
     "name": "stdout",
     "output_type": "stream",
     "text": [
      "[1 5]\n"
     ]
    }
   ],
   "source": [
    "print( a[ [0,2] ] )"
   ]
  },
  {
   "cell_type": "markdown",
   "metadata": {},
   "source": [
    "Note that this returns the first (index=0) and third (index=2) elements."
   ]
  },
  {
   "cell_type": "markdown",
   "metadata": {},
   "source": [
    "For 2D arrays, you can use the `:` operator to access all elements along the specified dimension. For example, to access all the rows, use `:` as the index for the first dimension:"
   ]
  },
  {
   "cell_type": "code",
   "execution_count": 11,
   "metadata": {},
   "outputs": [
    {
     "name": "stdout",
     "output_type": "stream",
     "text": [
      "[[2 3]\n",
      " [5 6]]\n"
     ]
    }
   ],
   "source": [
    "print( b[:,1:3] )"
   ]
  },
  {
   "cell_type": "markdown",
   "metadata": {},
   "source": [
    "\n",
    "___\n",
    "\n",
    "<a name=\"math\"></a>\n",
    "# Math with arrays\n",
    "[Back to Table of Contents](#toc)\n",
    "<br>\n",
    "\n",
    "A key advantage of arrays is that they can easily be combined with standard mathematical operations.  For example: "
   ]
  },
  {
   "cell_type": "code",
   "execution_count": 12,
   "metadata": {},
   "outputs": [
    {
     "name": "stdout",
     "output_type": "stream",
     "text": [
      "[10 12 14]\n",
      "[0 4 8]\n"
     ]
    }
   ],
   "source": [
    "a = np.array( [0, 2, 4] )\n",
    "\n",
    "print( a + 10 )\n",
    "print( a * 2 )"
   ]
  },
  {
   "cell_type": "markdown",
   "metadata": {},
   "source": [
    "Note that the mathematical operations have been separately applied to each element of the array.\n",
    "\n",
    "You can easily combine operations:"
   ]
  },
  {
   "cell_type": "code",
   "execution_count": 13,
   "metadata": {},
   "outputs": [
    {
     "name": "stdout",
     "output_type": "stream",
     "text": [
      "[ 1 21 41]\n"
     ]
    }
   ],
   "source": [
    "print( (10 * a) + 1 )"
   ]
  },
  {
   "cell_type": "markdown",
   "metadata": {},
   "source": [
    "If using multiple arrays, the mathematical operations are applied element-by-element:"
   ]
  },
  {
   "cell_type": "code",
   "execution_count": 14,
   "metadata": {},
   "outputs": [
    {
     "name": "stdout",
     "output_type": "stream",
     "text": [
      "[10 21 32]\n",
      "[ 0 20 60]\n"
     ]
    }
   ],
   "source": [
    "a0 = np.array( [0, 1, 2] )\n",
    "a1 = np.array( [10, 20, 30] )\n",
    "\n",
    "print( a0 + a1 )\n",
    "print( a0 * a1 )"
   ]
  },
  {
   "cell_type": "markdown",
   "metadata": {},
   "source": [
    "___\n",
    "\n",
    "<a name=\"differences\"></a>\n",
    "# Differences between arrays and lists\n",
    "[Back to Table of Contents](#toc)\n",
    "<br>\n",
    "\n",
    "A key difference between lists and arrays is that mathematical operations can not be applied to lists:"
   ]
  },
  {
   "cell_type": "code",
   "execution_count": 15,
   "metadata": {},
   "outputs": [
    {
     "name": "stdout",
     "output_type": "stream",
     "text": [
      "[1, 2, 3, 1, 2, 3]\n"
     ]
    }
   ],
   "source": [
    "a = [1, 2, 3]\n",
    "print( 2 * a )"
   ]
  },
  {
   "cell_type": "markdown",
   "metadata": {},
   "source": [
    "Note that this command has duplicated the list, rather than applying a mathematical operation.\n",
    "\n",
    "Another advantage of arrays is that many useful calculations are attached to NumPy arrays as \"array methods\". For example, the minimum and maximum value of an array can be calculated like this:"
   ]
  },
  {
   "cell_type": "code",
   "execution_count": 16,
   "metadata": {},
   "outputs": [
    {
     "name": "stdout",
     "output_type": "stream",
     "text": [
      "10\n",
      "30\n"
     ]
    }
   ],
   "source": [
    "a = np.array( [10, 20, 30] )\n",
    "\n",
    "print( a.min() )\n",
    "print( a.max() )"
   ]
  },
  {
   "cell_type": "markdown",
   "metadata": {},
   "source": [
    "The mean (average) and standard deviation values can be calculated like this:"
   ]
  },
  {
   "cell_type": "code",
   "execution_count": 17,
   "metadata": {},
   "outputs": [
    {
     "name": "stdout",
     "output_type": "stream",
     "text": [
      "20.0\n",
      "8.16496580927726\n"
     ]
    }
   ],
   "source": [
    "print( a.mean() )\n",
    "print( a.std() )"
   ]
  },
  {
   "cell_type": "markdown",
   "metadata": {},
   "source": [
    "Note that these methods do not exist for lists.\n",
    "\n",
    "For data analysis purposes, working with arrays is almost always easier than working with lists or tuples, so most of this Open Book uses arrays."
   ]
  },
  {
   "cell_type": "markdown",
   "metadata": {},
   "source": [
    "\n",
    "___\n",
    "\n",
    "Since this Open Book extensively uses arrays, please learn to love NumPy arrays!\n",
    "\n",
    "Search the internet for \"numpy tutorial\" or \"numpy array examples\" and you find lots of useful information about arrays and how they can be used. Here are two example tutorials:\n",
    "\n",
    "* [NumPy Quickstart tutorial](https://numpy.org/devdocs/user/quickstart.html)\n",
    "* [NumPy 配列の基礎](http://www.kamishima.net/mlmpyja/nbayes1/ndarray.html)"
   ]
  }
 ],
 "metadata": {
  "kernelspec": {
   "display_name": "Python 3",
   "language": "python",
   "name": "python3"
  },
  "language_info": {
   "codemirror_mode": {
    "name": "ipython",
    "version": 3
   },
   "file_extension": ".py",
   "mimetype": "text/x-python",
   "name": "python",
   "nbconvert_exporter": "python",
   "pygments_lexer": "ipython3",
   "version": "3.8.3"
  },
  "widgets": {
   "application/vnd.jupyter.widget-state+json": {
    "state": {},
    "version_major": 2,
    "version_minor": 0
   }
  }
 },
 "nbformat": 4,
 "nbformat_minor": 4
}
