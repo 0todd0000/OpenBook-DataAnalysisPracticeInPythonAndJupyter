{
 "cells": [
  {
   "cell_type": "markdown",
   "metadata": {},
   "source": [
    "# <span style=\"color:#54B1FF\">Hypothesis Tests:</span> &nbsp; <span style=\"color:#1B3EA9\"><b>Overview</b></span>\n",
    "\n",
    "<br>\n",
    "\n",
    "This lesson considers [classical hypothesis testing](https://en.wikipedia.org/wiki/Statistical_hypothesis_testing), which refers to a family of procedures which test a [null hypothesis](https://en.wikipedia.org/wiki/Null_hypothesis).\n",
    "\n",
    "<br>\n",
    "<br>\n",
    "\n",
    "A null hypothesis ($H_0$) is a prediction of an experimental result, and it is always a statement of **equality**:\n",
    "\n",
    "<center>$H_0: \\ x = c$</center>\n",
    "\n",
    "where $x$ is a random variable, and $c$ is a constant value.\n",
    "\n",
    "<br>\n",
    "<br>\n",
    "\n",
    "For most null hypotheses, $c = 0$.  This is why it is called a \"null hypothesis\".\n",
    "\n",
    "<br>\n",
    "<br>\n",
    "\n",
    "Alternative hypotheses ($H_1$) are statements of **inequality**.  Example alternative hypotheses are:\n",
    "\n",
    "<center>$H_1: \\ x > c$</center>\n",
    "\n",
    "<center>$H_1: \\ x < c$</center>\n",
    "\n",
    "<center>$H_1: \\ x \\ne c$</center>\n",
    "\n",
    "<br>\n",
    "<br>"
   ]
  },
  {
   "cell_type": "markdown",
   "metadata": {},
   "source": [
    "The most important difference between null and alternative hypotheses is that <font color=\"red\">only null hypotheses are testable.</font> This is why \"*hypothesis testing*\" is sometimes called \"*null hypothesis testing*\".\n",
    "\n",
    "For all hypothesis tests, the final result is usually a probability value, or \"p value\".\n",
    "\n",
    "The null hypothesis is rejected when $p < \\alpha$, where $\\alpha$ is the pre-specified [Type I error rate](https://en.wikipedia.org/wiki/Type_I_and_type_II_errors).\n",
    "\n",
    "By convention, $\\alpha$=0.05.\n",
    "\n",
    "This null hypothesis rejection is sometimes called \"statistical significance\". The probabilistic meaning of this will be discussed in the next lesson.\n",
    "\n",
    "\n",
    "\n",
    "<br>"
   ]
  },
  {
   "cell_type": "markdown",
   "metadata": {},
   "source": [
    "**Goals**:\n",
    "* To learn the most common hypothesis testing procedures, and how they are related.\n",
    "* To learn how to conduct these tests in Python.\n",
    "\n",
    "In the next lesson, we will consider how hypothesis testing and probability are related. In particular, we will show that hypothesis testing and the previous lesson (regarding Probability) are very closely related."
   ]
  },
  {
   "cell_type": "markdown",
   "metadata": {},
   "source": [
    "___\n",
    "\n",
    "## Types of hypothesis tests\n",
    "\n",
    "The following five types of hypothesis tests are considered in this notebook:\n",
    "\n",
    "* One-sample t test\n",
    "* Paired t test\n",
    "* Two-sample t test\n",
    "* Regression\n",
    "* One-way ANOVA\n",
    "\n",
    "These tests are very commonly reported in many different scientific fields.\n",
    "\n",
    "While these tests have different names, they are all very closely related.\n",
    "\n",
    "<br>\n",
    "<br>\n",
    "\n",
    "In particular:  **all classical hypothesis tests are mathematical consequences of the** [<b>Normal distribution</b>](https://en.wikipedia.org/wiki/Normal_distribution).\n",
    "\n",
    "<br>\n",
    "<br>\n",
    "\n",
    "It may be difficult to mathematically understand why the statement above is true, but it is relatively easy to understand the underlying concept. To understand the conceptual connection between these tests and the Normal distribution, it is easiest to conduct the tests first, and to understand their basics, then later to consider how they relate to the Normal distribution. \n",
    "\n",
    "This lesson thus focusses on the tests themselves. The next lesson (Simulating Experiments) will consider more deeply how the tests are conceptually connected to the Normal distribution.\n",
    "\n",
    "<br>\n",
    "<br>"
   ]
  },
  {
   "cell_type": "markdown",
   "metadata": {},
   "source": [
    "For now, it is sufficient to understand that these five tests are just special names for specific cases of a single [independent variable](https://en.wikipedia.org/wiki/Dependent_and_independent_variables) (IV) and a single [dependent variable](https://en.wikipedia.org/wiki/Dependent_and_independent_variables) (DV) . Those IV cases are summarized in the following table:\n",
    "\n",
    "| IV type        | Number of IV values | Type of DV | Hypothesis test name  |\n",
    "| :------------- |:-------------:| -----:| -----:|\n",
    "| Categorical   | 1 | Scalar | One-sample t test |\n",
    "| Categorical   | 1 | Paired difference (scalar) | Paired t test |\n",
    "| Categorical   | 2 | Scalar | Two-sample t test |\n",
    "| **Continuous**    | $n$ | Scalar | Regression |\n",
    "| Categorical   | $g$ | Scalar | One-way ANOVA |\n",
    "| Categorical   | $g$ | Paired difference (scalar) | One-way repeated-measures ANOVA |\n",
    "\n",
    "where:\n",
    "\n",
    "* $n$ = sample size\n",
    "* $g$ = number of groups\n",
    "\n",
    "<br>\n",
    "<br>\n",
    "\n",
    "Note that this notebook does not consider repeated-measures ANOVA, which is also a very common procedure. This test is possible in Python, but it requires a separate Python package called [statsmodels](https://www.statsmodels.org/stable/index.html).  If you are interested in trying one-way repeated-measures ANOVA, please read this [this blog](http://www.pybloggers.com/2018/10/repeated-measures-anova-in-python-using-statsmodels/)."
   ]
  }
 ],
 "metadata": {
  "kernelspec": {
   "display_name": "Python 3",
   "language": "python",
   "name": "python3"
  },
  "language_info": {
   "codemirror_mode": {
    "name": "ipython",
    "version": 3
   },
   "file_extension": ".py",
   "mimetype": "text/x-python",
   "name": "python",
   "nbconvert_exporter": "python",
   "pygments_lexer": "ipython3",
   "version": "3.8.3"
  }
 },
 "nbformat": 4,
 "nbformat_minor": 4
}
