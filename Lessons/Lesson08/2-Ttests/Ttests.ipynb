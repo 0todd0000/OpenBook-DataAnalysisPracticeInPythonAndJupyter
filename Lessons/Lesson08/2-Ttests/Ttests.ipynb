{
 "cells": [
  {
   "cell_type": "markdown",
   "metadata": {},
   "source": [
    "# <span style=\"color:#54B1FF\">Hypothesis Tests:</span> &nbsp; <span style=\"color:#1B3EA9\"><b>T tests</b></span>\n",
    "\n",
    "<br>\n",
    "\n",
    "The three main types of t test are:\n",
    "\n",
    "* One-sample t test\n",
    "* Paired t test\n",
    "* Two-sample t test\n",
    "\n",
    "<br>\n",
    "\n",
    "The sections below consider each test separately, along with Python code for executing these tests.\n",
    "\n",
    "<br>\n",
    "<br>"
   ]
  },
  {
   "cell_type": "markdown",
   "metadata": {},
   "source": [
    "___\n",
    "\n",
    "## One-sample t test\n",
    "\n",
    "\n",
    "The one-sample t statistic is:\n",
    "\n",
    "<table border=\"1\">\n",
    "  <tr>\n",
    "    <td></td>\n",
    "    <td></td>\n",
    "    <td>$t = \\frac{  \\overline{y}   - \\mu  }{  s / \\sqrt{n}  }$</td>\n",
    "    <td></td>\n",
    "    <td>(Equation 1)</td>\n",
    "  </tr>\n",
    "  <tr>\n",
    "</table>\n",
    "\n",
    "\n",
    "\n",
    "where $\\overline{y}$ is the sample mean, $\\mu$ is the hypothesized mean, $s$ is the sample standard deviation and $n$ is the sample size.\n",
    "\n",
    "A one sample t-test tests the following null hypothesis:\n",
    "\n",
    "<center>$H_0: \\ \\overline{y} = \\mu$</center>\n",
    "\n",
    "\n",
    "\n",
    "\n",
    "### Example:\n",
    "\n",
    "This example is a weight loss study from [Real Statistics Using Excel](http://www.real-statistics.com/students-t-distribution/one-sample-t-test/).\n",
    "\n",
    "The data and results are:\n",
    "\n",
    "\n",
    "\n",
    "<img alt=\"RealStatsOneSampleTTest\" width=500 src=\"https://i1.wp.com/www.real-statistics.com/wp-content/uploads/2012/11/one-sample-t-test-1.png\"/>\n",
    "\n",
    "\n",
    "### Python:\n",
    "\n",
    "This test can be conducted in Python using **scipy.stats.ttest_1samp**  like this:"
   ]
  },
  {
   "cell_type": "code",
   "execution_count": 1,
   "metadata": {},
   "outputs": [],
   "source": [
    "import numpy as np\n",
    "from scipy import stats"
   ]
  },
  {
   "cell_type": "code",
   "execution_count": 2,
   "metadata": {},
   "outputs": [
    {
     "name": "stdout",
     "output_type": "stream",
     "text": [
      "Ttest_1sampResult(statistic=1.4492553137533357, pvalue=0.17516945558857122)\n"
     ]
    }
   ],
   "source": [
    "\n",
    "y       = np.array([23, 15, -5, 7, 1, -10, 12, -8, 20, 8, -2, -5])  # data\n",
    "mu      = 0    # hypothesized sample mean\n",
    "results = stats.ttest_1samp(y, mu)\n",
    "\n",
    "print(results)"
   ]
  },
  {
   "cell_type": "markdown",
   "metadata": {},
   "source": [
    "The t value and p value can be retreived like this:"
   ]
  },
  {
   "cell_type": "code",
   "execution_count": 3,
   "metadata": {},
   "outputs": [
    {
     "name": "stdout",
     "output_type": "stream",
     "text": [
      "1.4492553137533357\n",
      "0.17516945558857122\n"
     ]
    }
   ],
   "source": [
    "t = results.statistic\n",
    "p = results.pvalue\n",
    "\n",
    "print(t)\n",
    "print(p)"
   ]
  },
  {
   "cell_type": "markdown",
   "metadata": {},
   "source": [
    "Or like this:"
   ]
  },
  {
   "cell_type": "code",
   "execution_count": 4,
   "metadata": {},
   "outputs": [
    {
     "name": "stdout",
     "output_type": "stream",
     "text": [
      "1.4492553137533357\n",
      "0.17516945558857122\n"
     ]
    }
   ],
   "source": [
    "t,p = results\n",
    "\n",
    "print(t)\n",
    "print(p)"
   ]
  },
  {
   "cell_type": "markdown",
   "metadata": {},
   "source": [
    "Note that the p value from **stats.ttest_1samp** does not match the p value from Real Statistics. This is because **stats.ttest_1samp** uses [two-tailed inference](https://en.wikipedia.org/wiki/One-_and_two-tailed_tests) and the Real Statistics example uses one-tailed inference.\n",
    "\n",
    "To see agreement between the results, simply divide the **stats.ttest_1samp** p value result by two:"
   ]
  },
  {
   "cell_type": "code",
   "execution_count": 5,
   "metadata": {},
   "outputs": [
    {
     "name": "stdout",
     "output_type": "stream",
     "text": [
      "0.08758472779428561\n"
     ]
    }
   ],
   "source": [
    "print( p / 2 )"
   ]
  },
  {
   "cell_type": "markdown",
   "metadata": {},
   "source": [
    "The p value is larger than $\\alpha$=0.05, so $H_0$ is not rejected."
   ]
  },
  {
   "cell_type": "markdown",
   "metadata": {},
   "source": [
    "___\n",
    "\n",
    "## Paired t test\n",
    "\n",
    "The paired t statistic is:\n",
    "\n",
    "\n",
    "<table border=\"1\">\n",
    "  <tr>\n",
    "    <td></td>\n",
    "    <td></td>\n",
    "    <td>$t = \\frac{  \\overline{d}  }{  s / \\sqrt{n}  }$</td>\n",
    "    <td></td>\n",
    "    <td>(Equation 2)</td>\n",
    "  </tr>\n",
    "  <tr>\n",
    "</table>\n",
    "\n",
    "\n",
    "\n",
    "where:\n",
    "\n",
    "<center>$d_i = (y_1)_i - (y_2)_i$</center>\n",
    "\n",
    "\n",
    "A paired t-test tests the following null hypothesis:\n",
    "\n",
    "<center>$H_0: \\ \\overline{d} = 0$</center>\n",
    "\n",
    "\n",
    "\n",
    "### Example:\n",
    "\n",
    "This example is from [WebStat at the University of New England](https://webstat.une.edu.au/unit_materials/c6_common_statistical_tests/example_paired_sample_t.html).\n",
    "\n",
    "The data and results are:\n",
    "\n",
    "\n",
    "\n",
    "<img alt=\"WebStatData\" width=250 src=\"https://webstat.une.edu.au/unit_materials/c6_common_statistical_tests/image67.gif\">\n",
    "\n",
    "<img alt=\"WebStatResults\" width=500 src=\"https://webstat.une.edu.au/unit_materials/c6_common_statistical_tests/image71.gif\">\n",
    "\n",
    "\n",
    "\n",
    "\n",
    "\n",
    "\n",
    "\n",
    "### Python:\n",
    "\n",
    "This test can be conducted in Python using **scipy.stats.ttest_rel** like this:"
   ]
  },
  {
   "cell_type": "code",
   "execution_count": 6,
   "metadata": {},
   "outputs": [
    {
     "name": "stdout",
     "output_type": "stream",
     "text": [
      "-3.1428571428571423\n",
      "0.013745824394788489\n"
     ]
    }
   ],
   "source": [
    "y_pre  = np.array( [3, 0, 6, 7, 4, 3, 2, 1, 4] )\n",
    "y_post = np.array( [5, 1, 5, 7, 10, 9, 7, 11, 8] )\n",
    "\n",
    "t,p    = stats.ttest_rel(y_pre, y_post)\n",
    "\n",
    "print(t)\n",
    "print(p)"
   ]
  },
  {
   "cell_type": "markdown",
   "metadata": {},
   "source": [
    "The p value is smaller than $\\alpha$=0.05, so $H_0$ is rejected."
   ]
  },
  {
   "cell_type": "markdown",
   "metadata": {},
   "source": [
    "___\n",
    "\n",
    "## Two-sample t test\n",
    "\n",
    "The two-sample t statistic is:\n",
    "\n",
    "\n",
    "<table border=\"1\">\n",
    "  <tr>\n",
    "    <td></td>\n",
    "    <td></td>\n",
    "    <td>$t = \\frac{  \\overline{y}_1   - \\overline{y}_2  }{  s_p  \\sqrt{ \\frac{1}{n_1} + \\frac{1}{n_2}  }  }$</td>\n",
    "    <td></td>\n",
    "    <td>(Equation 3)</td>\n",
    "  </tr>\n",
    "  <tr>\n",
    "</table>\n",
    "\n",
    "\n",
    "where\n",
    "\n",
    "<center>$s_p = \\sqrt{   \\frac{(n_1 - 1)s_1^2 + (n_2 - 1)s_2^2}{n_1 + n_2 - 2}   }$</center>\n",
    "\n",
    "\n",
    "A two-sample t-test tests the following null hypothesis:\n",
    "\n",
    "<center>$H_0: \\ \\overline{y}_1 - \\overline{y}_2 = 0$</center>\n",
    "\n",
    "\n",
    "### Example:\n",
    "\n",
    "This example is from [qimacros.com](https://www.qimacros.com/hypothesis-testing/two-sample-t-test/).\n",
    "\n",
    "The data and results are:\n",
    "\n",
    "\n",
    "\n",
    "<img alt=\"WikiHowData\" width=150 src=\"https://www.qimacros.com/hypothesis-testing/t-test-data-two-samples.png\"/>\n",
    "\n",
    "<img alt=\"WikiHowData\" width=700 src=\"https://www.qimacros.com/hypothesis-testing/t-test-two-sample-results.png\"/>\n",
    "\n",
    "\n",
    "\n",
    "     \n",
    "\n",
    "### Python:\n",
    "\n",
    "This test can be conducted in Python using **scipy.stats.ttest_ind** like this:"
   ]
  },
  {
   "cell_type": "code",
   "execution_count": 7,
   "metadata": {},
   "outputs": [
    {
     "name": "stdout",
     "output_type": "stream",
     "text": [
      "-0.2372742730908139\n",
      "0.8184074100386953\n"
     ]
    }
   ],
   "source": [
    "beginning = np.array( [3067, 2730, 2840, 2913, 2789] )\n",
    "end       = np.array( [3200, 2777, 2623, 3044, 2834] )\n",
    "\n",
    "t,p    = stats.ttest_ind(beginning, end)\n",
    "\n",
    "print(t)\n",
    "print(p)"
   ]
  },
  {
   "cell_type": "markdown",
   "metadata": {},
   "source": [
    "The p value is not less than $\\alpha$=0.05, so $H_0$ is not rejected."
   ]
  }
 ],
 "metadata": {
  "kernelspec": {
   "display_name": "Python 3",
   "language": "python",
   "name": "python3"
  },
  "language_info": {
   "codemirror_mode": {
    "name": "ipython",
    "version": 3
   },
   "file_extension": ".py",
   "mimetype": "text/x-python",
   "name": "python",
   "nbconvert_exporter": "python",
   "pygments_lexer": "ipython3",
   "version": "3.8.3"
  }
 },
 "nbformat": 4,
 "nbformat_minor": 4
}
