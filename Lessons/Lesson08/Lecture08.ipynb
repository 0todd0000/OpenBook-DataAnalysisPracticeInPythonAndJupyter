{
 "cells": [
  {
   "cell_type": "markdown",
   "metadata": {},
   "source": [
    "# Lecture 07:  (Probability II) Hypothesis Testing\n",
    "\n",
    "This lecture considers [statistical hypothesis testing](https://en.wikipedia.org/wiki/Statistical_hypothesis_testing). Statistical hypothesis testing tests a [null hypothesis](https://en.wikipedia.org/wiki/Null_hypothesis). A null hypothesis ($H_0$) is a prediction of an experimental result, and it is always a statement of **equality**:\n",
    "\n",
    "<center>$H_0: \\ x = c$</center>\n",
    "\n",
    "where $x$ is a random variable, and $c$ is a constant value.\n",
    "\n",
    "For most null hypotheses, $c = 0$.  This is why it is called a \"null hypothesis\".\n",
    "\n",
    "Alternative hypotheses ($H_1$) are statements of **inequality**.  Example alternative hypotheses are:\n",
    "\n",
    "<center>$H_1: \\ x > c$</center>\n",
    "\n",
    "<center>$H_1: \\ x < c$</center>\n",
    "\n",
    "<center>$H_1: \\ x \\ne c$</center>\n",
    "\n",
    "The most important difference between null and alternative hypotheses is that <font color=\"red\">only null hypotheses are testable.</font> This is why \"*hypothesis testing*\" is sometimes called \"*null hypothesis testing*\".\n",
    "\n",
    "For all hypothesis tests, the final result is usually a probability value, or \"p value\".\n",
    "\n",
    "The null hypothesis is rejected when $p < \\alpha$, where $\\alpha$ is the pre-specified [Type I error rate](https://en.wikipedia.org/wiki/Type_I_and_type_II_errors).\n",
    "\n",
    "By convention, $\\alpha$=0.05.\n",
    "\n",
    "This null hypothesis rejection is sometimes called \"statistical significance\". The probabilistic meaning of this will be discussed in the next lecture.\n",
    "\n",
    "\n",
    "\n",
    "**Goals**:\n",
    "* To learn the most common hypothesis testing procedures, and how they are related.\n",
    "* To learn how to conduct these tests in Python.\n",
    "\n",
    "In the next lecture, we will consider how hypothesis testing and probability are related. In particular, we will show that hypothesis testing and the previous lecture (Probability I: Random variables) are very closely related."
   ]
  },
  {
   "cell_type": "markdown",
   "metadata": {},
   "source": [
    "___\n",
    "\n",
    "## Types of hypothesis tests\n",
    "\n",
    "The following five types of hypothesis tests are considered in this notebook:\n",
    "\n",
    "* One-sample t test\n",
    "* Paired t test\n",
    "* Two-sample t test\n",
    "* Regression\n",
    "* One-way ANOVA\n",
    "\n",
    "These tests have different names, but they are all very closely related. All tests are consequences of the mathematics of the [Normal distribution](https://en.wikipedia.org/wiki/Normal_distribution). Understanding why is mathematically difficult, but it is conceptually simple. Nevertheless, to understand the conceptual connection between these tests and the Normal distribution, it is easiest to conduct the tests first, and understand their basics. This lecture thus focusses on the tests themselves. The next lecture will consider more deeply how the tests are conceptually connected to the Normal distribution.\n",
    "\n",
    "For now, it is sufficient to understand that these five tests are just special names for specific cases of a single [independent variable](https://en.wikipedia.org/wiki/Dependent_and_independent_variables) (IV) and a single [dependent variable](https://en.wikipedia.org/wiki/Dependent_and_independent_variables) (DV) . Those IV cases are summarized in the following table:\n",
    "\n",
    "| IV type        | Number of IV values | Type of DV | Hypothesis test name  |\n",
    "| :------------- |:-------------:| -----:| -----:|\n",
    "| Categorical   | 1 | Scalar | One-sample t test |\n",
    "| Categorical   | 1 | Paired difference (scalar) | Paired t test |\n",
    "| Categorical   | 2 | Scalar | Two-sample t test |\n",
    "| **Continuous**    | $n$ | Scalar | Regression |\n",
    "| Categorical   | $g$ | Scalar | One-way ANOVA |\n",
    "| Categorical   | $g$ | Paired difference (scalar) | One-way repeated-measures ANOVA |\n",
    "\n",
    "where:\n",
    "\n",
    "* $n$ = sample size\n",
    "* $g$ = number of groups\n",
    "\n",
    "Note that this notebook does not consider repeated-measures ANOVA;  this test is possible in Python, but it requires a separate Python package called [statsmodels](https://www.statsmodels.org/stable/index.html).  If you are interested in trying one-way repeated-measures ANOVA, please read this [this blog](http://www.pybloggers.com/2018/10/repeated-measures-anova-in-python-using-statsmodels/).\n"
   ]
  },
  {
   "cell_type": "markdown",
   "metadata": {},
   "source": [
    "___\n",
    "\n",
    "## One-sample t test\n",
    "\n",
    "\n",
    "The one-sample t statistic is:\n",
    "\n",
    "<table border=\"1\">\n",
    "  <tr>\n",
    "    <td></td>\n",
    "    <td></td>\n",
    "    <td>$t = \\frac{  \\overline{y}   - \\mu  }{  s / \\sqrt{n}  }$</td>\n",
    "    <td></td>\n",
    "    <td>(Equation 1)</td>\n",
    "  </tr>\n",
    "  <tr>\n",
    "</table>\n",
    "\n",
    "\n",
    "\n",
    "where $\\overline{y}$ is the sample mean, $\\mu$ is the hypothesized mean, $s$ is the sample standard deviation and $n$ is the sample size.\n",
    "\n",
    "A one sample t-test tests the following null hypothesis:\n",
    "\n",
    "<center>$H_0: \\ \\overline{y} = \\mu$</center>\n",
    "\n",
    "\n",
    "\n",
    "\n",
    "### Example:\n",
    "\n",
    "This example is a weight loss study from [Real Statistics Using Excel](http://www.real-statistics.com/students-t-distribution/one-sample-t-test/).\n",
    "\n",
    "The data and results are:\n",
    "\n",
    "\n",
    "\n",
    "<img alt=\"RealStatsOneSampleTTest\" width=500 src=\"https://i1.wp.com/www.real-statistics.com/wp-content/uploads/2012/11/one-sample-t-test-1.png\"/>\n",
    "\n",
    "\n",
    "### Python:\n",
    "\n",
    "This test can be conducted in Python using **scipy.stats.ttest_1samp**  like this:"
   ]
  },
  {
   "cell_type": "code",
   "execution_count": 1,
   "metadata": {},
   "outputs": [
    {
     "name": "stdout",
     "output_type": "stream",
     "text": [
      "Ttest_1sampResult(statistic=1.4492553137533357, pvalue=0.17516945558857122)\n"
     ]
    }
   ],
   "source": [
    "import numpy as np\n",
    "from scipy import stats\n",
    "\n",
    "y       = np.array([23, 15, -5, 7, 1, -10, 12, -8, 20, 8, -2, -5])  # data\n",
    "mu      = 0    # hypothesized sample mean\n",
    "results = stats.ttest_1samp(y, mu)\n",
    "\n",
    "print(results)"
   ]
  },
  {
   "cell_type": "markdown",
   "metadata": {},
   "source": [
    "The t value and p value can be retreived like this:"
   ]
  },
  {
   "cell_type": "code",
   "execution_count": 2,
   "metadata": {},
   "outputs": [
    {
     "name": "stdout",
     "output_type": "stream",
     "text": [
      "1.4492553137533357\n",
      "0.17516945558857122\n"
     ]
    }
   ],
   "source": [
    "t = results.statistic\n",
    "p = results.pvalue\n",
    "\n",
    "print(t)\n",
    "print(p)"
   ]
  },
  {
   "cell_type": "markdown",
   "metadata": {},
   "source": [
    "Or like this:"
   ]
  },
  {
   "cell_type": "code",
   "execution_count": 3,
   "metadata": {},
   "outputs": [
    {
     "name": "stdout",
     "output_type": "stream",
     "text": [
      "1.4492553137533357\n",
      "0.17516945558857122\n"
     ]
    }
   ],
   "source": [
    "t,p = results\n",
    "\n",
    "print(t)\n",
    "print(p)"
   ]
  },
  {
   "cell_type": "markdown",
   "metadata": {},
   "source": [
    "Note that the p value from **stats.ttest_1samp** does not match the p value from Real Statistics. This is because **stats.ttest_1samp** uses [two-tailed inference](https://en.wikipedia.org/wiki/One-_and_two-tailed_tests) and the Real Statistics example uses one-tailed inference.\n",
    "\n",
    "To see agreement between the results, simply divide the **stats.ttest_1samp** p value result by two:"
   ]
  },
  {
   "cell_type": "code",
   "execution_count": 4,
   "metadata": {},
   "outputs": [
    {
     "name": "stdout",
     "output_type": "stream",
     "text": [
      "0.08758472779428561\n"
     ]
    }
   ],
   "source": [
    "print( p / 2 )"
   ]
  },
  {
   "cell_type": "markdown",
   "metadata": {},
   "source": [
    "The p value is larger than $\\alpha$=0.05, so $H_0$ is not rejected."
   ]
  },
  {
   "cell_type": "markdown",
   "metadata": {},
   "source": [
    "___\n",
    "\n",
    "## Paired t test\n",
    "\n",
    "The paired t statistic is:\n",
    "\n",
    "\n",
    "<table border=\"1\">\n",
    "  <tr>\n",
    "    <td></td>\n",
    "    <td></td>\n",
    "    <td>$t = \\frac{  \\overline{d}  }{  s / \\sqrt{n}  }$</td>\n",
    "    <td></td>\n",
    "    <td>(Equation 2)</td>\n",
    "  </tr>\n",
    "  <tr>\n",
    "</table>\n",
    "\n",
    "\n",
    "\n",
    "where:\n",
    "\n",
    "<center>$d_i = (y_1)_i - (y_2)_i$</center>\n",
    "\n",
    "\n",
    "A paired t-test tests the following null hypothesis:\n",
    "\n",
    "<center>$H_0: \\ \\overline{d} = 0$</center>\n",
    "\n",
    "\n",
    "\n",
    "### Example:\n",
    "\n",
    "This example is from [WebStat at the University of New England](https://webstat.une.edu.au/unit_materials/c6_common_statistical_tests/example_paired_sample_t.html).\n",
    "\n",
    "The data and results are:\n",
    "\n",
    "\n",
    "\n",
    "<img alt=\"WebStatData\" width=250 src=\"https://webstat.une.edu.au/unit_materials/c6_common_statistical_tests/image67.gif\">\n",
    "\n",
    "<img alt=\"WebStatResults\" width=500 src=\"https://webstat.une.edu.au/unit_materials/c6_common_statistical_tests/image71.gif\">\n",
    "\n",
    "\n",
    "\n",
    "\n",
    "\n",
    "\n",
    "\n",
    "### Python:\n",
    "\n",
    "This test can be conducted in Python using **scipy.stats.ttest_rel** like this:"
   ]
  },
  {
   "cell_type": "code",
   "execution_count": 5,
   "metadata": {},
   "outputs": [
    {
     "name": "stdout",
     "output_type": "stream",
     "text": [
      "-3.1428571428571423\n",
      "0.013745824394788489\n"
     ]
    }
   ],
   "source": [
    "y_pre  = np.array( [3, 0, 6, 7, 4, 3, 2, 1, 4] )\n",
    "y_post = np.array( [5, 1, 5, 7, 10, 9, 7, 11, 8] )\n",
    "\n",
    "t,p    = stats.ttest_rel(y_pre, y_post)\n",
    "\n",
    "print(t)\n",
    "print(p)"
   ]
  },
  {
   "cell_type": "markdown",
   "metadata": {},
   "source": [
    "The p value is smaller than $\\alpha$=0.05, so $H_0$ is rejected."
   ]
  },
  {
   "cell_type": "markdown",
   "metadata": {},
   "source": [
    "___\n",
    "\n",
    "## Two-sample t test\n",
    "\n",
    "The two-sample t statistic is:\n",
    "\n",
    "\n",
    "<table border=\"1\">\n",
    "  <tr>\n",
    "    <td></td>\n",
    "    <td></td>\n",
    "    <td>$t = \\frac{  \\overline{y}_1   - \\overline{y}_2  }{  s_p  \\sqrt{ \\frac{1}{n_1} + \\frac{1}{n_2}  }  }$</td>\n",
    "    <td></td>\n",
    "    <td>(Equation 3)</td>\n",
    "  </tr>\n",
    "  <tr>\n",
    "</table>\n",
    "\n",
    "\n",
    "where\n",
    "\n",
    "<center>$s_p = \\sqrt{   \\frac{(n_1 - 1)s_1^2 + (n_2 - 1)s_2^2}{n_1 + n_2 - 2}   }$</center>\n",
    "\n",
    "\n",
    "A two-sample t-test tests the following null hypothesis:\n",
    "\n",
    "<center>$H_0: \\ \\overline{y}_1 - \\overline{y}_2 = 0$</center>\n",
    "\n",
    "\n",
    "### Example:\n",
    "\n",
    "This example is from [qimacros.com](https://www.qimacros.com/hypothesis-testing/two-sample-t-test/).\n",
    "\n",
    "The data and results are:\n",
    "\n",
    "\n",
    "\n",
    "<img alt=\"WikiHowData\" width=150 src=\"https://www.qimacros.com/hypothesis-testing/t-test-two-sample-data.jpg\"/>\n",
    "\n",
    "<img alt=\"WikiHowData\" width=700 src=\"https://www.qimacros.com/hypothesis-testing/t-test-two-sample-results.jpg\"/>\n",
    "\n",
    "\n",
    "\n",
    "     \n",
    "\n",
    "### Python:\n",
    "\n",
    "This test can be conducted in Python using **scipy.stats.ttest_ind** like this:"
   ]
  },
  {
   "cell_type": "code",
   "execution_count": 6,
   "metadata": {},
   "outputs": [
    {
     "name": "stdout",
     "output_type": "stream",
     "text": [
      "-0.2372742730908139\n",
      "0.8184074100386953\n"
     ]
    }
   ],
   "source": [
    "beginning = np.array( [3067, 2730, 2840, 2913, 2789] )\n",
    "end       = np.array( [3200, 2777, 2623, 3044, 2834] )\n",
    "\n",
    "t,p    = stats.ttest_ind(beginning, end)\n",
    "\n",
    "print(t)\n",
    "print(p)"
   ]
  },
  {
   "cell_type": "markdown",
   "metadata": {},
   "source": [
    "The p value is not less than $\\alpha$=0.05, so $H_0$ is not rejected."
   ]
  },
  {
   "cell_type": "markdown",
   "metadata": {},
   "source": [
    "___\n",
    "\n",
    "## Regression\n",
    "\n",
    "Regression analysis tests the null hypothesis:\n",
    "\n",
    "<center>$H_0: \\ m = 0$</center>\n",
    "\n",
    "\n",
    "where $m$ is the slope of the regression line.  (Search for \"slope\" in the Lecture 5 notes for a reminder of what \"slope\" means).\n",
    "\n",
    "A t statistic also exists for regression, but it is slightly more complicated than the t statistics described above, so it is not described here.\n",
    "\n",
    "\n",
    "\n",
    "\n",
    "### Example:\n",
    "\n",
    "This example is from [Real Statistics Using Excel](http://www.real-statistics.com/regression/hypothesis-testing-significance-regression-line-slope/).  (This example was also considered in Assignment 05 for this class.)\n",
    "\n",
    "The data and results are:\n",
    "\n",
    "\n",
    "\n",
    "<img alt=\"RealStatsOneSampleTTest\" width=500 src=\"https://i0.wp.com/www.real-statistics.com/wp-content/uploads/2012/12/slope-regression-t-test.jpg?w=473\"/>\n",
    "     \n",
    "\n",
    "### Python:\n",
    "\n",
    "This test can be conducted in Python using **stats.linregress** like this:"
   ]
  },
  {
   "cell_type": "code",
   "execution_count": 7,
   "metadata": {},
   "outputs": [
    {
     "name": "stdout",
     "output_type": "stream",
     "text": [
      "LinregressResult(slope=-0.6282004052311659, intercept=85.72042119481794, rvalue=-0.713430174386581, pvalue=0.0028223429900712275, stderr=0.17112895461639727)\n",
      "\n",
      "0.0028223429900712275\n"
     ]
    }
   ],
   "source": [
    "cig      = np.array([5, 23, 25, 48, 17, 8, 4, 26, 11, 19, 14, 35, 29, 4, 23])\n",
    "life     = np.array([80, 78, 60, 53, 85, 84, 73, 79, 81, 75, 68, 72, 58, 92, 65])\n",
    "\n",
    "results  = stats.linregress(cig, life)\n",
    "p        = results.pvalue\n",
    "print(results)\n",
    "print()\n",
    "print(p)"
   ]
  },
  {
   "cell_type": "markdown",
   "metadata": {},
   "source": [
    "The p value is less than $\\alpha$=0.05, so $H_0$ is rejected."
   ]
  },
  {
   "cell_type": "markdown",
   "metadata": {},
   "source": [
    "___\n",
    "\n",
    "## One-way ANOVA \n",
    "\n",
    "One-way ANOVA analysis tests the null hypothesis:\n",
    "\n",
    "<center>$H_0: \\ \\overline{y}_i - \\overline{y}_j = 0$</center>\n",
    "\n",
    "where $i$ and $j$ represent different groups. Thus this null hypothesis implies: *no difference between any group means*.\n",
    "\n",
    "Instead of the $t$ statistic, ANOVA uses the $F$ statistic. Similar to regression's $t$ statistic, the $F$ statistic is more difficult to calculate than the $t$ statistics described above, so $F$ statistic calculation is not described here.\n",
    "\n",
    "\n",
    "### Example:\n",
    "\n",
    "This example is from [StackOverflow](https://stackoverflow.com/questions/8320603/how-to-do-one-way-anova-in-r-with-unequal-sample-sizes).\n",
    "\n",
    "The data are:\n",
    "\n",
    "<center>\n",
    "\n",
    "```R\n",
    "site1 <- c(34,25,27,31,26,34,21)\n",
    "site2 <- c(33,35,31,31,42,33)\n",
    "site3 <- c(17,30,30,26,32,28,26,29)\n",
    "site4 <- c(28,33,31,27,32,33,40)\n",
    "```\n",
    "\n",
    "</center>\n",
    "\n",
    "\n",
    "The results are:\n",
    "\n",
    "\n",
    "<center>\n",
    "    \n",
    "```R\n",
    "Analysis of Variance Table\n",
    "\n",
    "Response: Y\n",
    "          Df Sum Sq Mean Sq F value  Pr(>F)  \n",
    "Site       3 212.35  70.782  3.4971 0.03098 *\n",
    "Residuals 24 485.76  20.240                  \n",
    "---\n",
    "Signif. codes:  0 ‘***’ 0.001 ‘**’ 0.01 ‘*’ 0.05 ‘.’ 0.1 ‘ ’ 1 \n",
    "```\n",
    "\n",
    "</center>\n",
    "\n",
    "\n",
    "### Python:\n",
    "\n",
    "This test can be conducted in Python like this:\n"
   ]
  },
  {
   "cell_type": "code",
   "execution_count": 8,
   "metadata": {},
   "outputs": [
    {
     "name": "stdout",
     "output_type": "stream",
     "text": [
      "F_onewayResult(statistic=3.4971081266542487, pvalue=0.03097911104360909)\n"
     ]
    }
   ],
   "source": [
    "site1   = np.array([34,25,27,31,26,34,21])\n",
    "site2   = np.array([33,35,31,31,42,33])\n",
    "site3   = np.array([17,30,30,26,32,28,26,29])\n",
    "site4   = np.array([28,33,31,27,32,33,40])\n",
    "\n",
    "results = stats.f_oneway(site1, site2, site3, site4)\n",
    "\n",
    "print(results)"
   ]
  }
 ],
 "metadata": {
  "kernelspec": {
   "display_name": "Python 3",
   "language": "python",
   "name": "python3"
  },
  "language_info": {
   "codemirror_mode": {
    "name": "ipython",
    "version": 3
   },
   "file_extension": ".py",
   "mimetype": "text/x-python",
   "name": "python",
   "nbconvert_exporter": "python",
   "pygments_lexer": "ipython3",
   "version": "3.8.3"
  }
 },
 "nbformat": 4,
 "nbformat_minor": 4
}
