{
 "cells": [
  {
   "cell_type": "markdown",
   "metadata": {},
   "source": [
    "# <span style=\"color:#54B1FF\">Hypothesis Tests:</span> &nbsp; <span style=\"color:#1B3EA9\"><b>One-way ANOVA</b></span>\n",
    "\n",
    "<br>\n",
    "\n",
    "One-way ANOVA analysis tests the null hypothesis:\n",
    "\n",
    "<center>$H_0: \\ \\overline{y}_i - \\overline{y}_j = 0$</center>\n",
    "\n",
    "<br>\n",
    "\n",
    "where $i$ and $j$ represent different groups. Thus this null hypothesis implies: *no difference between any group means*.\n",
    "\n",
    "Instead of the $t$ statistic, ANOVA uses the $F$ statistic. Similar to regression's $t$ statistic, the $F$ statistic is more difficult to calculate than the $t$ statistics described above, so $F$ statistic calculation is not described here.\n",
    "\n",
    "<br>"
   ]
  },
  {
   "cell_type": "markdown",
   "metadata": {},
   "source": [
    "___\n",
    "\n",
    "\n",
    "### Example:\n",
    "\n",
    "This example is from [StackOverflow](https://stackoverflow.com/questions/8320603/how-to-do-one-way-anova-in-r-with-unequal-sample-sizes).\n",
    "\n",
    "The data are:\n",
    "\n",
    "<center>\n",
    "\n",
    "```R\n",
    "site1 <- c(34,25,27,31,26,34,21)\n",
    "site2 <- c(33,35,31,31,42,33)\n",
    "site3 <- c(17,30,30,26,32,28,26,29)\n",
    "site4 <- c(28,33,31,27,32,33,40)\n",
    "```\n",
    "\n",
    "</center>\n",
    "\n",
    "\n",
    "The results are:\n",
    "\n",
    "\n",
    "<center>\n",
    "    \n",
    "```R\n",
    "Analysis of Variance Table\n",
    "\n",
    "Response: Y\n",
    "          Df Sum Sq Mean Sq F value  Pr(>F)  \n",
    "Site       3 212.35  70.782  3.4971 0.03098 *\n",
    "Residuals 24 485.76  20.240                  \n",
    "---\n",
    "Signif. codes:  0 ‘***’ 0.001 ‘**’ 0.01 ‘*’ 0.05 ‘.’ 0.1 ‘ ’ 1 \n",
    "```\n",
    "\n",
    "</center>\n",
    "\n",
    "<br>\n",
    "<br>\n"
   ]
  },
  {
   "cell_type": "markdown",
   "metadata": {},
   "source": [
    "### Python:\n",
    "\n",
    "This test can be conducted in Python like this:"
   ]
  },
  {
   "cell_type": "code",
   "execution_count": 1,
   "metadata": {},
   "outputs": [],
   "source": [
    "import numpy as np\n",
    "from scipy import stats"
   ]
  },
  {
   "cell_type": "code",
   "execution_count": 2,
   "metadata": {},
   "outputs": [
    {
     "name": "stdout",
     "output_type": "stream",
     "text": [
      "F_onewayResult(statistic=3.4971081266542487, pvalue=0.03097911104360909)\n"
     ]
    }
   ],
   "source": [
    "site1   = np.array([34,25,27,31,26,34,21])\n",
    "site2   = np.array([33,35,31,31,42,33])\n",
    "site3   = np.array([17,30,30,26,32,28,26,29])\n",
    "site4   = np.array([28,33,31,27,32,33,40])\n",
    "\n",
    "results = stats.f_oneway(site1, site2, site3, site4)\n",
    "\n",
    "print(results)"
   ]
  }
 ],
 "metadata": {
  "kernelspec": {
   "display_name": "Python 3",
   "language": "python",
   "name": "python3"
  },
  "language_info": {
   "codemirror_mode": {
    "name": "ipython",
    "version": 3
   },
   "file_extension": ".py",
   "mimetype": "text/x-python",
   "name": "python",
   "nbconvert_exporter": "python",
   "pygments_lexer": "ipython3",
   "version": "3.8.3"
  }
 },
 "nbformat": 4,
 "nbformat_minor": 4
}
