{
 "cells": [
  {
   "cell_type": "markdown",
   "metadata": {},
   "source": [
    "# <span style=\"color:#54B1FF\">Hypothesis Tests:</span> &nbsp; <span style=\"color:#1B3EA9\"><b>Simple Linear Regression</b></span>\n",
    "\n",
    "<br>\n",
    "\n",
    "Çonsider the line defined by the following equation:\n",
    "\n",
    "<center> $y = ax + b$ </center>\n",
    "\n",
    "<br>"
   ]
  },
  {
   "cell_type": "markdown",
   "metadata": {},
   "source": [
    "Here:\n",
    "\n",
    "* $x$ = [independent variable](https://en.wikipedia.org/wiki/Dependent_and_independent_variables)\n",
    "* $y$ = [dependent variable](https://en.wikipedia.org/wiki/Dependent_and_independent_variables)\n",
    "* $a$ = [slope](https://en.wikipedia.org/wiki/Linear_equation#Equation_of_a_line)\n",
    "* $b$ = [intercept](https://en.wikipedia.org/wiki/Linear_equation#Equation_of_a_line)\n",
    "\n",
    "\n",
    "<br>"
   ]
  },
  {
   "cell_type": "markdown",
   "metadata": {},
   "source": [
    "[Simple linear regression](https://en.wikipedia.org/wiki/Simple_linear_regression) tests the null hypothesis:\n",
    "\n",
    "<center>$H_0: \\ a = 0$</center>\n",
    "\n",
    "<br>\n",
    "\n",
    "Like t tests, a t statistic also exists for regression, but it is slightly more complicated than the t statistics described in the previous notebook, so it is not described here.\n",
    "\n",
    "<br>"
   ]
  },
  {
   "cell_type": "markdown",
   "metadata": {},
   "source": [
    "___\n",
    "\n",
    "\n",
    "### Example:\n",
    "\n",
    "This example is from [Real Statistics Using Excel](http://www.real-statistics.com/regression/hypothesis-testing-significance-regression-line-slope/).  (This example was also considered in Assignment 05 for this class.)\n",
    "\n",
    "The data and results are:\n",
    "\n",
    "\n",
    "\n",
    "<img alt=\"RealStatsOneSampleTTest\" width=500 src=\"https://i0.wp.com/www.real-statistics.com/wp-content/uploads/2012/12/slope-regression-t-test.jpg?w=473\"/>\n",
    "     "
   ]
  },
  {
   "cell_type": "markdown",
   "metadata": {},
   "source": [
    "<br>\n",
    "<br>\n",
    "\n",
    "### Python:\n",
    "\n",
    "This test can be conducted in Python using **stats.linregress** like this:"
   ]
  },
  {
   "cell_type": "code",
   "execution_count": 1,
   "metadata": {},
   "outputs": [],
   "source": [
    "import numpy as np\n",
    "from scipy import stats"
   ]
  },
  {
   "cell_type": "code",
   "execution_count": 2,
   "metadata": {},
   "outputs": [
    {
     "name": "stdout",
     "output_type": "stream",
     "text": [
      "LinregressResult(slope=-0.6282004052311659, intercept=85.72042119481794, rvalue=-0.713430174386581, pvalue=0.0028223429900712275, stderr=0.17112895461639727)\n",
      "\n",
      "0.0028223429900712275\n"
     ]
    }
   ],
   "source": [
    "cig      = np.array([5, 23, 25, 48, 17, 8, 4, 26, 11, 19, 14, 35, 29, 4, 23])\n",
    "life     = np.array([80, 78, 60, 53, 85, 84, 73, 79, 81, 75, 68, 72, 58, 92, 65])\n",
    "\n",
    "results  = stats.linregress(cig, life)\n",
    "p        = results.pvalue\n",
    "print(results)\n",
    "print()\n",
    "print(p)"
   ]
  },
  {
   "cell_type": "markdown",
   "metadata": {},
   "source": [
    "The p value is less than $\\alpha$=0.05, so $H_0$ is rejected."
   ]
  }
 ],
 "metadata": {
  "kernelspec": {
   "display_name": "Python 3",
   "language": "python",
   "name": "python3"
  },
  "language_info": {
   "codemirror_mode": {
    "name": "ipython",
    "version": 3
   },
   "file_extension": ".py",
   "mimetype": "text/x-python",
   "name": "python",
   "nbconvert_exporter": "python",
   "pygments_lexer": "ipython3",
   "version": "3.7.10"
  }
 },
 "nbformat": 4,
 "nbformat_minor": 4
}
