{
 "cells": [
  {
   "cell_type": "markdown",
   "metadata": {},
   "source": [
    "# <span style=\"color:#54B1FF\">Machine Learning:</span> &nbsp; <span style=\"color:#1B3EA9\"><b>Overview</b></span>\n",
    "\n",
    "<br>\n",
    "\n",
    "The five remaining chapters in this Open Textbook deal with [Machine Learning](https://en.wikipedia.org/wiki/Machine_learning). The broad goal of Machine Learning is to **to discover and/or exploit data patterns**. The remaining chapters include:\n",
    "\n",
    "10. Machine Learning I: &nbsp; **Classification** (Supervised Learning)\n",
    "11. Machine Learning II: &nbsp; **Clustering** (Unsupervised Learning)\n",
    "12. Machine Learning III: &nbsp; **Regression**\n",
    "13. Machine Learning IV: &nbsp; **Preprocessing**\n",
    "14. Machine Learning V: &nbsp; **Dimensionality Reduction**\n",
    "\n",
    "\n",
    "For each of these five topics, hundreds or thousands of different algorithms and approaches exist in the Machine Learning literature. Rather than considering many different algorithms, this Open Book will instead use just one or two approaches to consider each topic's general concepts.\n",
    "\n",
    "\n",
    "<br>\n",
    "<br>\n",
    "\n",
    "ℹ️  &nbsp; From a theoretical perspective, it is usually more natural to start with *IV* and *V* before proceeding to *I*, *II* and *III*. However, it is more fun to start with *I*, *II* and *III* ! Since the desired, final machine learning results usually come from *I*, *II* and *III*, this open book adopts the perspective that it is more instructive to start with the final results, for simple cases, and well-behaved datasets, before proceeding to *IV* and *V*, which discuss how to deal with more complex cases, and problematic datasets."
   ]
  }
 ],
 "metadata": {
  "kernelspec": {
   "display_name": "Python 3",
   "language": "python",
   "name": "python3"
  },
  "language_info": {
   "codemirror_mode": {
    "name": "ipython",
    "version": 3
   },
   "file_extension": ".py",
   "mimetype": "text/x-python",
   "name": "python",
   "nbconvert_exporter": "python",
   "pygments_lexer": "ipython3",
   "version": "3.8.3"
  }
 },
 "nbformat": 4,
 "nbformat_minor": 4
}
