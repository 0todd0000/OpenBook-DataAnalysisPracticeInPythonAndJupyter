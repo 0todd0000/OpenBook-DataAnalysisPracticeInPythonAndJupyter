{
 "cells": [
  {
   "cell_type": "markdown",
   "metadata": {},
   "source": [
    "# <span style=\"color:#54B1FF\">Clustering:</span> &nbsp; <span style=\"color:#1B3EA9\"><b>Evaluating Performance</b></span></span>\n",
    "\n",
    "<br>\n",
    "\n",
    "In clusterting problems, since the true labels are unknown, it is not possible to calculate prediction accuracy (i.e., whether or not a trained clustering algorithm correctly predicts labels). Instead, one can evaluate the quality of clustering using various metrics.\n",
    "\n",
    "The two metrics considered in this chapter are the [silhouette score (S-Score)](https://scikit-learn.org/stable/modules/generated/sklearn.metrics.silhouette_score.html#sklearn.metrics.silhouette_score) and [silhouette samples (S-Samples)](https://scikit-learn.org/stable/modules/generated/sklearn.metrics.silhouette_samples.html#sklearn.metrics.silhouette_samples). The S-Score pertains to all data (in a training or test set) and S-Samples pertains to each individual observation.\n",
    "\n",
    "Both the S-Score and S-Samples are [silhouette coefficients](https://en.wikipedia.org/wiki/Silhouette_(clustering)). A silhouette coefficient describes both the compactness and separation of clusters. When (a) observations are tightly packed in clusters and/or (b) clusters are far apart, slihouette coefficients tend to increase toward one.  Silhouette coefficient values range between -1 and +1. As a rough interpretation of silhouette coefficient values:\n",
    "\n",
    "* +1 : observations are very tightly packed in clusters, and clusters are far apart\n",
    "* 0 : clusters start to overlap\n",
    "* -1 : no distinct clusters exist\n",
    "\n",
    "\n",
    "<br>\n",
    "<br>\n",
    "\n",
    "Note that the S-Score and S-Samples are just two of many different kinds of clustering metrics. You can read about more clustering metrics in the [sklearn documentation](https://scikit-learn.org/stable/modules/clustering.html#clustering-evaluation)\n",
    "\n",
    "<br>\n",
    "<br>\n",
    "\n",
    "The remainder of this notebook demonstrates how to calculate S-Score and S-Samples, and shows the behavior of these metrics in different situations.\n",
    "\n",
    "<br>\n",
    "<br>"
   ]
  },
  {
   "cell_type": "markdown",
   "metadata": {},
   "source": [
    "___\n",
    "\n",
    "Let's import the packages we'll need for this notebook:\n",
    "\n",
    "<br>\n",
    "<br>"
   ]
  },
  {
   "cell_type": "code",
   "execution_count": 1,
   "metadata": {},
   "outputs": [],
   "source": [
    "\n",
    "import numpy as np\n",
    "from matplotlib import pyplot as plt\n",
    "from sklearn.cluster import KMeans\n",
    "import sklearn.metrics\n"
   ]
  },
  {
   "cell_type": "markdown",
   "metadata": {},
   "source": [
    "<br>\n",
    "<br>\n",
    "\n",
    "Let's also copy the `plot_labeled_points` function from the previous notebook.\n",
    "\n",
    "<br>\n",
    "<br>"
   ]
  },
  {
   "cell_type": "code",
   "execution_count": 2,
   "metadata": {},
   "outputs": [],
   "source": [
    "def plot_labeled_points(x, labels, colors=None, ax=None, ms=12):\n",
    "    x      = np.asarray(x)\n",
    "    ax     = plt.gca() if (ax is None) else ax\n",
    "    uy     = np.unique(labels)\n",
    "    for yy,cc in zip(uy,colors):\n",
    "        xx = x[labels==yy]\n",
    "        if x.ndim==1:\n",
    "            ax.plot( xx, np.zeros(xx.size), 'o', color=cc, ms=ms, label=f'Label = {yy}' )\n",
    "        elif x.ndim==2:\n",
    "            ax.plot( xx[:,0], xx[:,1], 'o', color=cc, ms=ms, label=f'Label = {yy}' )\n",
    "    ax.axhline(0, color='k', ls=':')\n",
    "    ax.legend()\n"
   ]
  },
  {
   "cell_type": "markdown",
   "metadata": {},
   "source": [
    "___\n",
    "\n",
    "## One feature, well-separated clusters\n",
    "\n",
    "<br>\n",
    "\n",
    "Let's first consider the case of well-separated clusters.\n",
    "\n",
    "<br>"
   ]
  },
  {
   "cell_type": "code",
   "execution_count": 3,
   "metadata": {},
   "outputs": [
    {
     "data": {
      "image/png": "[encoded data removed]",
      "text/plain": [
       "<Figure size 432x288 with 1 Axes>"
      ]
     },
     "metadata": {
      "needs_background": "light"
     },
     "output_type": "display_data"
    }
   ],
   "source": [
    "\n",
    "x       = np.array( [1.1, 2.1, 1.5, 1.9, 1.7,    4.3, 3.9, 5.1, 4.7, 5.5] )\n",
    "X       = np.array([x]).T\n",
    "kmeans  = KMeans(n_clusters=2, random_state=0)\n",
    "kmeans.fit(X)\n",
    "labels  = kmeans.labels_\n",
    "\n",
    "plot_labeled_points(x, labels, colors=['r','b'])\n"
   ]
  },
  {
   "cell_type": "markdown",
   "metadata": {},
   "source": [
    "<br>\n",
    "\n",
    "The silhouette coefficients for the clustering results are:\n",
    "\n",
    "<br>"
   ]
  },
  {
   "cell_type": "code",
   "execution_count": 4,
   "metadata": {},
   "outputs": [
    {
     "name": "stdout",
     "output_type": "stream",
     "text": [
      "Silhouette score:\n",
      "0.7836639738100873\n",
      "\n",
      "Silhouette samples:\n",
      "[0.80555556 0.78846154 0.875      0.85714286 0.88333333 0.73484848\n",
      " 0.55357143 0.79651163 0.80263158 0.73958333]\n"
     ]
    }
   ],
   "source": [
    "\n",
    "sscore  = sklearn.metrics.silhouette_score(X, labels)\n",
    "ssamp   = sklearn.metrics.silhouette_samples(X, labels)\n",
    "\n",
    "print( 'Silhouette score:')\n",
    "print( sscore )\n",
    "print()\n",
    "print( 'Silhouette samples:')\n",
    "print( ssamp )\n"
   ]
  },
  {
   "cell_type": "markdown",
   "metadata": {},
   "source": [
    "<br>\n",
    "\n",
    "Notes:\n",
    "\n",
    "* There is just one value for S-Score and that there is one S-Samples value for each observation.\n",
    "* These silhouette coefficient values are rather high, suggesting good cluster separation.\n",
    "* However, the values are not 1, which implies that the clusters are not perfectly separated.\n",
    "* The S-Samples values for the Label=1 observations are slightly smaller than the values for the Label=0 observations. This implies that the Label=1 observations are not as tighly clustered, as we can observe in the figure above.\n",
    "\n",
    "<br>\n",
    "\n",
    "Let's next check how silhouette coefficient can similarly be applied to datasets with more than one feature and more than two clusters.\n",
    "\n",
    "<br>\n",
    "<br>"
   ]
  },
  {
   "cell_type": "markdown",
   "metadata": {},
   "source": [
    "___\n",
    "\n",
    "## Two features, well-separated clusters\n",
    "\n",
    "<br>\n",
    "\n",
    "Like the one-feature example above, the two-variable example below yields relatively large silhouette coefficients, implying good cluster separation.\n",
    " "
   ]
  },
  {
   "cell_type": "code",
   "execution_count": 5,
   "metadata": {},
   "outputs": [
    {
     "data": {
      "image/png": "[encoded data removed]",
      "text/plain": [
       "<Figure size 432x288 with 1 Axes>"
      ]
     },
     "metadata": {
      "needs_background": "light"
     },
     "output_type": "display_data"
    }
   ],
   "source": [
    "\n",
    "X = np.array([\n",
    "    [1, 0],\n",
    "    [2, 4],\n",
    "    [3, 2],\n",
    "    [12, 0],\n",
    "    [13, 2],\n",
    "    [14, 1],\n",
    "    [7, 8],\n",
    "    [10, 7],\n",
    "    [8, 9],\n",
    "])\n",
    "\n",
    "\n",
    "kmeans  = KMeans(n_clusters=3, random_state=0)\n",
    "kmeans.fit(X)\n",
    "labels  = kmeans.labels_\n",
    "\n",
    "plot_labeled_points(X, labels, colors=['r','b','g'])\n",
    "\n"
   ]
  },
  {
   "cell_type": "code",
   "execution_count": 6,
   "metadata": {},
   "outputs": [
    {
     "name": "stdout",
     "output_type": "stream",
     "text": [
      "Silhouette score:\n",
      "0.6996375969207913\n",
      "\n",
      "Silhouette samples:\n",
      "[0.68212854 0.58084976 0.68885897 0.74746012 0.7610922  0.79803388\n",
      " 0.70929657 0.55781987 0.77119847]\n"
     ]
    }
   ],
   "source": [
    "\n",
    "sscore  = sklearn.metrics.silhouette_score(X, labels)\n",
    "ssamp   = sklearn.metrics.silhouette_samples(X, labels)\n",
    "\n",
    "print( 'Silhouette score:')\n",
    "print( sscore )\n",
    "print()\n",
    "print( 'Silhouette samples:')\n",
    "print( ssamp )\n"
   ]
  },
  {
   "cell_type": "markdown",
   "metadata": {},
   "source": [
    "<br>\n",
    "<br>\n",
    "\n",
    "Notes:\n",
    "\n",
    "* Silhouette coefficient metrics can be applied to datasets with arbitrary numbers of features and clusters\n",
    "* The silhouette coefficients above are slighlty smaller than those for the one-feature dataset earlier in this notebook. This implies poorer cluster separation\n",
    "\n",
    "<br>\n",
    "\n",
    "What happens to these silhouette metrics when clusters become even more poorly separated?\n",
    "\n",
    "<br>\n",
    "<br>"
   ]
  },
  {
   "cell_type": "markdown",
   "metadata": {},
   "source": [
    "___\n",
    "\n",
    "## Two features, poorly separated clusters\n",
    "\n",
    "<br>\n",
    "\n",
    "What happens if the data are not separable into clearly distinct clusters?\n",
    "\n",
    "The example below shows a case like this. Note that the `dw` values are much higher.\n",
    " "
   ]
  },
  {
   "cell_type": "code",
   "execution_count": null,
   "metadata": {},
   "outputs": [],
   "source": []
  },
  {
   "cell_type": "code",
   "execution_count": 7,
   "metadata": {},
   "outputs": [
    {
     "name": "stdout",
     "output_type": "stream",
     "text": [
      "Silhouette score:\n",
      "0.5120609600169729\n",
      "\n"
     ]
    },
    {
     "data": {
      "image/png": "[encoded data removed]",
      "text/plain": [
       "<Figure size 432x288 with 1 Axes>"
      ]
     },
     "metadata": {
      "needs_background": "light"
     },
     "output_type": "display_data"
    }
   ],
   "source": [
    "\n",
    "# generate a random dataset\n",
    "np.random.seed(0)\n",
    "mean   = [0, 0]\n",
    "cov    = np.array(  [ [1,0.8] , [0.8,0.8] ]  )\n",
    "n      = 50\n",
    "X      = np.random.multivariate_normal(mean, cov, n)  # (n,2) array centered on \"mean\", with covariance \"cov\"\n",
    "\n",
    "\n",
    "kmeans = KMeans(n_clusters=2, random_state=0)\n",
    "kmeans.fit(X)\n",
    "labels = kmeans.labels_\n",
    "\n",
    "\n",
    "sscore  = sklearn.metrics.silhouette_score(X, labels)\n",
    "print( 'Silhouette score:')\n",
    "print( sscore )\n",
    "print( )\n",
    "\n",
    "\n",
    "plot_labeled_points(X, labels, colors=['r','b'])\n"
   ]
  },
  {
   "cell_type": "markdown",
   "metadata": {},
   "source": [
    "<br>\n",
    "\n",
    "Note that the S-Score is now even lower than before, suggesting poorer separation.\n",
    "\n",
    "Let's make the clusters even more difficult to identify by removing the covariance between the features:\n",
    "\n",
    "<br>"
   ]
  },
  {
   "cell_type": "code",
   "execution_count": 8,
   "metadata": {},
   "outputs": [
    {
     "name": "stdout",
     "output_type": "stream",
     "text": [
      "Silhouette score:\n",
      "0.31661082851915895\n",
      "\n"
     ]
    },
    {
     "data": {
      "image/png": "[encoded data removed]",
      "text/plain": [
       "<Figure size 432x288 with 1 Axes>"
      ]
     },
     "metadata": {
      "needs_background": "light"
     },
     "output_type": "display_data"
    }
   ],
   "source": [
    "\n",
    "# generate a random dataset\n",
    "np.random.seed(0)\n",
    "mean   = [0, 0]\n",
    "cov    = np.array(  [ [1,0] , [0,1] ]  )\n",
    "n      = 50\n",
    "X      = np.random.multivariate_normal(mean, cov, n)  # (n,2) array centered on \"mean\", with covariance \"cov\"\n",
    "\n",
    "\n",
    "\n",
    "kmeans = KMeans(n_clusters=3, random_state=0)\n",
    "kmeans.fit(X)\n",
    "labels = kmeans.labels_\n",
    "\n",
    "\n",
    "sscore  = sklearn.metrics.silhouette_score(X, labels)\n",
    "print( 'Silhouette score:')\n",
    "print( sscore )\n",
    "print( )\n",
    "\n",
    "\n",
    "plot_labeled_points(X, labels, colors=['r','b','g'])\n"
   ]
  },
  {
   "cell_type": "markdown",
   "metadata": {},
   "source": [
    "<br>\n",
    "\n",
    "Note that the S-Score is now approaching 0, which implies that it is approaching cluster overlap.\n",
    "\n",
    "When the S-Score is less than about 0.5, it implies relatively poorly separable clusters.\n",
    "\n",
    "<br>\n",
    "<br>"
   ]
  },
  {
   "cell_type": "markdown",
   "metadata": {},
   "source": [
    "___\n",
    "<a name=\"summary\"></a>\n",
    "# Summary\n",
    "[Back to Table of Contents](#toc)\n",
    "\n",
    "* The two main categories of machine learning techniques are: **supervised** and **unsupervised** learning.\n",
    "* The previous chapter considered **supervised** learning, and this chapter considered **unuspervised** learning.\n",
    "* The key difference between supervised and unsupervised learning is that the former uses known labels, and the latter does not.\n",
    "* Since the labels are known for supervised learning, algorithmic accuracy can be quantified (see previous chapter).\n",
    "* Since the labels are unknown for unsupervised learning, accuracy can not be quantified. Instead separation metrics like **slihouette coefficients** are used to summarize the learning result.\n",
    "* Machine learning results can also be judged qualitatively, using visualization aids like **decision surfaces**.\n",
    "* Visualizating machine learning results is often necessary to understand how the trained machine makes its decisions. \n"
   ]
  }
 ],
 "metadata": {
  "kernelspec": {
   "display_name": "Python 3",
   "language": "python",
   "name": "python3"
  },
  "language_info": {
   "codemirror_mode": {
    "name": "ipython",
    "version": 3
   },
   "file_extension": ".py",
   "mimetype": "text/x-python",
   "name": "python",
   "nbconvert_exporter": "python",
   "pygments_lexer": "ipython3",
   "version": "3.7.6"
  }
 },
 "nbformat": 4,
 "nbformat_minor": 4
}
