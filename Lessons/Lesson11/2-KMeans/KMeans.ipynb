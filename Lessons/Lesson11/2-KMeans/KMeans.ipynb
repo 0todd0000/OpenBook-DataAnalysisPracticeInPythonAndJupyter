{
 "cells": [
  {
   "cell_type": "markdown",
   "metadata": {},
   "source": [
    "# <span style=\"color:#54B1FF\">Clustering:</span> &nbsp; <span style=\"color:#1B3EA9\"><b>K Means</b></span>\n",
    "\n",
    "<br>\n",
    "\n",
    "Similar to the previous chapter, where we used **K-Nearest Neighbors** as an example of a relatively simple classifier, we will use its cousin: the **K-Means Clustering** algorithm to demonstrate **unsupervised learning**.\n",
    "\n",
    "\n",
    "\n",
    "<br>"
   ]
  },
  {
   "cell_type": "markdown",
   "metadata": {},
   "source": [
    "___\n",
    "\n",
    "First let's import the modules we'll need for this notebook.\n",
    "\n",
    "<br>\n",
    "<br>"
   ]
  },
  {
   "cell_type": "code",
   "execution_count": 1,
   "metadata": {},
   "outputs": [],
   "source": [
    "\n",
    "import numpy as np\n",
    "from matplotlib import pyplot as plt\n",
    "from sklearn.cluster import KMeans\n"
   ]
  },
  {
   "cell_type": "markdown",
   "metadata": {},
   "source": [
    "<a name=\"toc\"></a>\n",
    "# Table of Contents\n",
    "\n",
    "* [KMeans Clustering I: &nbsp; How it works](#kmeansI)\n",
    "\t* [One feature, two clusters](#kmeansI-1-2)\n",
    "\t* [One feature, three clusters](#kmeansI-1-3)\n",
    "\t* [One feature, four clusters](#kmeansI-1-4)\n",
    "\t* [Two features, two clusters](#kmeansI-2-2)\n",
    "\t* [Two features, three clusters](#kmeansI-2-3)\n",
    "\t* [Three features, two clusters](#kmeansI-3-2)\n"
   ]
  },
  {
   "cell_type": "markdown",
   "metadata": {},
   "source": [
    "___\n",
    "\n",
    "<a name=\"kmeansI\"></a>\n",
    "# K-Means Clustering I:  &nbsp; How it works\n",
    "[Back to Table of Contents](#toc)\n",
    "<br>\n",
    "\n",
    "K-Means Clustering works by:\n",
    "\n",
    "1. Setting the total of number of clusters, then\n",
    "2. Assigning cluster labels to observations in a manner that minimizes the distances between within-cluster observations.\n",
    "\n",
    "<br>\n",
    "\n",
    "⚠️ A **label** is an integer specificying the cluster to which a particular observation belongs.\n",
    "\n",
    "\n",
    "<br>\n",
    "\n",
    "The remainder of this section considers examples involving various numbers of features (1, 2 or 3) and various numbers of clusters (1, 2, 3 or 4).\n",
    "\n",
    "<br>\n",
    "<br>"
   ]
  },
  {
   "cell_type": "markdown",
   "metadata": {},
   "source": [
    "___\n",
    "\n",
    "<a name=\"kmeansI-1-2\"></a>\n",
    "## One feature, two clusters\n",
    "[Back to Table of Contents](#toc)\n",
    "<br>\n",
    "\n",
    "Let's start with a full example, then discuss the individual commands.\n",
    "\n",
    "⚠️ You do not need to understand the deatils of the `plot_labeled_points` function below, so please ignore the code details unless you are interested. You only need to know (a) how to call this function, and (b) how to interpret the results.\n",
    "\n",
    "<br>\n",
    "<br>"
   ]
  },
  {
   "cell_type": "code",
   "execution_count": 2,
   "metadata": {},
   "outputs": [],
   "source": [
    "def plot_labeled_points(x, labels, colors=None, ax=None, ms=12):\n",
    "    x      = np.asarray(x)\n",
    "    ax     = plt.gca() if (ax is None) else ax\n",
    "    uy     = np.unique(labels)\n",
    "    for yy,cc in zip(uy,colors):\n",
    "        xx = x[labels==yy]\n",
    "        if x.ndim==1:\n",
    "            ax.plot( xx, np.zeros(xx.size), 'o', color=cc, ms=ms, label=f'Label = {yy}' )\n",
    "        elif x.ndim==2:\n",
    "            ax.plot( xx[:,0], xx[:,1], 'o', color=cc, ms=ms, label=f'Label = {yy}' )\n",
    "    ax.axhline(0, color='k', ls=':')\n",
    "    ax.legend()\n"
   ]
  },
  {
   "cell_type": "code",
   "execution_count": 3,
   "metadata": {},
   "outputs": [
    {
     "name": "stdout",
     "output_type": "stream",
     "text": [
      "Fitted cluster labels:  [0 0 0 0 0 1 1 1 1 1]\n"
     ]
    },
    {
     "data": {
      "image/png": "[encoded data removed]",
      "text/plain": [
       "<Figure size 432x288 with 1 Axes>"
      ]
     },
     "metadata": {
      "needs_background": "light"
     },
     "output_type": "display_data"
    }
   ],
   "source": [
    "# FULL EXAMPLE\n",
    "\n",
    "x      = np.array( [1.1, 2.1, 1.5, 1.9, 1.7,    4.3, 3.9, 5.1, 4.7, 5.5] )  #\n",
    "X      = np.array([x]).T\n",
    "kmeans = KMeans(n_clusters=2, random_state=0)\n",
    "kmeans.fit(X)\n",
    "\n",
    "labels = kmeans.labels_\n",
    "\n",
    "print( f'Fitted cluster labels:  {labels}' )\n",
    "\n",
    "\n",
    "plot_labeled_points(x, labels, colors=['r','b'])\n"
   ]
  },
  {
   "cell_type": "markdown",
   "metadata": {},
   "source": [
    "<br>\n",
    "\n",
    "The first command defines the features of a dataset with unknown labels:\n",
    "\n",
    "<br>"
   ]
  },
  {
   "cell_type": "code",
   "execution_count": 4,
   "metadata": {},
   "outputs": [],
   "source": [
    "x      = np.array( [1.1, 2.1, 1.5, 1.9, 1.7,    4.3, 3.9, 5.1, 4.7, 5.5] )"
   ]
  },
  {
   "cell_type": "markdown",
   "metadata": {},
   "source": [
    "<br>\n",
    "\n",
    "The second command ensures that the data are in the format (observations, features) as required by all machine learning algorithms in **sklearn**. Here there are 10 observations and 1 feature.\n",
    "\n",
    "<br>"
   ]
  },
  {
   "cell_type": "code",
   "execution_count": 5,
   "metadata": {},
   "outputs": [
    {
     "name": "stdout",
     "output_type": "stream",
     "text": [
      "(10, 1)\n"
     ]
    }
   ],
   "source": [
    "X      = np.array([x]).T\n",
    "\n",
    "print(X.shape)"
   ]
  },
  {
   "cell_type": "markdown",
   "metadata": {},
   "source": [
    "<br>\n",
    "\n",
    "The third command creates a K-Means clustering algorithm that will be ready to separate the data into two clusters. The random state (similar to **np.random.seed**) is also set.\n",
    "\n",
    "<br>"
   ]
  },
  {
   "cell_type": "code",
   "execution_count": 6,
   "metadata": {},
   "outputs": [
    {
     "name": "stdout",
     "output_type": "stream",
     "text": [
      "KMeans(n_clusters=2, random_state=0)\n"
     ]
    }
   ],
   "source": [
    "kmeans = KMeans(n_clusters=2, random_state=0)\n",
    "\n",
    "print(kmeans)"
   ]
  },
  {
   "cell_type": "markdown",
   "metadata": {},
   "source": [
    "<br>\n",
    "\n",
    "The next command fits the data.  This is the command that actually conducts the clustering.\n",
    "\n",
    "<br>"
   ]
  },
  {
   "cell_type": "code",
   "execution_count": 7,
   "metadata": {},
   "outputs": [],
   "source": [
    "kmeans.fit(X);"
   ]
  },
  {
   "cell_type": "markdown",
   "metadata": {},
   "source": [
    "<br>\n",
    "\n",
    "The next command retrieves the labels from the fitted data.\n",
    "\n",
    "<br>"
   ]
  },
  {
   "cell_type": "code",
   "execution_count": 8,
   "metadata": {},
   "outputs": [
    {
     "name": "stdout",
     "output_type": "stream",
     "text": [
      "[0 0 0 0 0 1 1 1 1 1]\n"
     ]
    }
   ],
   "source": [
    "labels = kmeans.labels_\n",
    "\n",
    "print(labels)"
   ]
  },
  {
   "cell_type": "markdown",
   "metadata": {},
   "source": [
    "<br>\n",
    "<br>\n",
    "\n",
    "What happens if we change the number of clusters by setting `n_clusters=3` ?\n",
    "\n",
    "<br>\n",
    "<br>"
   ]
  },
  {
   "cell_type": "code",
   "execution_count": 9,
   "metadata": {},
   "outputs": [
    {
     "name": "stdout",
     "output_type": "stream",
     "text": [
      "Fitted cluster labels:  [0 0 0 0 0 2 2 1 1 1]\n"
     ]
    },
    {
     "data": {
      "image/png": "[encoded data removed]",
      "text/plain": [
       "<Figure size 432x288 with 1 Axes>"
      ]
     },
     "metadata": {
      "needs_background": "light"
     },
     "output_type": "display_data"
    }
   ],
   "source": [
    "x      = np.array( [1.1, 2.1, 1.5, 1.9, 1.7,    4.3, 3.9, 5.1, 4.7, 5.5] )\n",
    "X      = np.array([x]).T\n",
    "kmeans = KMeans(n_clusters=3, random_state=0)\n",
    "kmeans.fit(X)\n",
    "\n",
    "labels = kmeans.labels_\n",
    "\n",
    "print( f'Fitted cluster labels:  {labels}' )\n",
    "\n",
    "plot_labeled_points(x, labels, colors=['r','b','g'])"
   ]
  },
  {
   "cell_type": "markdown",
   "metadata": {},
   "source": [
    "The K-Means clustering algorithm has indeeed separated the data into distinct clusters, but two of the clusters are very close to one another.\n",
    "\n",
    "So how do we determine whether 2 or 3 clusters is better?  A partial answer to this question is given in the next notebook.\n",
    "\n",
    "The remainder of this notebook considers only how the K-Means algorithm applies to different numbers of features and clusters.\n",
    "\n",
    "<br>\n",
    "<br>\n",
    "<br>"
   ]
  },
  {
   "cell_type": "markdown",
   "metadata": {},
   "source": [
    "___\n",
    "\n",
    "<a name=\"kmeansI-1-3\"></a>\n",
    "## One feature, three clusters\n",
    "[Back to Table of Contents](#toc)\n",
    "<br>\n",
    "\n",
    "For this example, let's add a third cluster that is clearly separated from the other two clusters.\n",
    "\n",
    "Note that the K-Means classifier is able to separate the clusters as we expect.\n",
    "\n",
    "Also note that `plot_labeled_points` automatically handles more than two clusters.\n",
    "\n",
    "<br>"
   ]
  },
  {
   "cell_type": "code",
   "execution_count": 10,
   "metadata": {},
   "outputs": [
    {
     "name": "stdout",
     "output_type": "stream",
     "text": [
      "Fitted cluster labels:  [0 0 0 0 0 2 2 2 2 1 1 1]\n"
     ]
    },
    {
     "data": {
      "image/png": "[encoded data removed]",
      "text/plain": [
       "<Figure size 432x288 with 1 Axes>"
      ]
     },
     "metadata": {
      "needs_background": "light"
     },
     "output_type": "display_data"
    }
   ],
   "source": [
    "\n",
    "x      = np.array( [1.1, 2.1, 1.5, 1.9, 1.7,    4.3, 3.9, 5.1, 5.5,    10.5, 10.1, 9.7] )\n",
    "X      = np.array([x]).T\n",
    "kmeans = KMeans(n_clusters=3, random_state=0)\n",
    "kmeans.fit(X)\n",
    "\n",
    "labels = kmeans.labels_\n",
    "\n",
    "print( f'Fitted cluster labels:  {labels}' )\n",
    "\n",
    "plot_labeled_points(x, labels, colors=['r','b', 'g'])\n"
   ]
  },
  {
   "cell_type": "markdown",
   "metadata": {},
   "source": [
    "<br>\n",
    "<br>\n",
    "\n",
    "___\n",
    "\n",
    "<a name=\"kmeansI-1-4\"></a>\n",
    "## One feature, four clusters\n",
    "[Back to Table of Contents](#toc)\n",
    "<br>\n",
    "\n",
    "Let's add yet another cluster just to check that everything works for four clusters.\n",
    "\n",
    "<br>"
   ]
  },
  {
   "cell_type": "code",
   "execution_count": 11,
   "metadata": {},
   "outputs": [
    {
     "name": "stdout",
     "output_type": "stream",
     "text": [
      "Fitted cluster labels:  [3 3 3 3 3 1 1 1 1 2 2 2 0 0]\n"
     ]
    },
    {
     "data": {
      "image/png": "[encoded data removed]",
      "text/plain": [
       "<Figure size 432x288 with 1 Axes>"
      ]
     },
     "metadata": {
      "needs_background": "light"
     },
     "output_type": "display_data"
    }
   ],
   "source": [
    "\n",
    "x      = np.array( [1.1, 2.1, 1.5, 1.9, 1.7,    4.3, 3.9, 5.1, 5.5,    10.5, 10.1, 9.7,   -3.2, -2.3] )\n",
    "X      = np.array([x]).T\n",
    "kmeans = KMeans(n_clusters=4, random_state=0)\n",
    "kmeans.fit(X)\n",
    "\n",
    "labels = kmeans.labels_\n",
    "\n",
    "print( f'Fitted cluster labels:  {labels}' )\n",
    "\n",
    "plot_labeled_points(x, labels, colors=['r','b', 'g', 'c'])\n"
   ]
  },
  {
   "cell_type": "markdown",
   "metadata": {},
   "source": [
    "<br>\n",
    "<br>\n",
    "\n",
    "Excellent!  Let's move on to two features.\n",
    "\n",
    "<br>\n",
    "<br>\n",
    "<br>"
   ]
  },
  {
   "cell_type": "markdown",
   "metadata": {},
   "source": [
    "___\n",
    "\n",
    "<a name=\"kmeansI-2-2\"></a>\n",
    "## Two features, two clusters\n",
    "[Back to Table of Contents](#toc)\n",
    "<br>\n",
    "\n",
    "Like above, the data have to be assembled into a (observations, features) array, so to accommodate two features we must have two data columns.\n",
    "\n",
    "Note that the `plot_labeled_points` function can handle both one- and two-feature observations.\n",
    "\n",
    "<br>\n",
    "<br>"
   ]
  },
  {
   "cell_type": "code",
   "execution_count": 12,
   "metadata": {},
   "outputs": [
    {
     "name": "stdout",
     "output_type": "stream",
     "text": [
      "Fitted cluster labels:  [1 1 1 0 0 0]\n"
     ]
    },
    {
     "data": {
      "image/png": "[encoded data removed]",
      "text/plain": [
       "<Figure size 432x288 with 1 Axes>"
      ]
     },
     "metadata": {
      "needs_background": "light"
     },
     "output_type": "display_data"
    }
   ],
   "source": [
    "\n",
    "x = np.array([\n",
    "    [1, 0],\n",
    "    [2, 4],\n",
    "    [3, 2],\n",
    "    [12, 0],\n",
    "    [13, 2],\n",
    "    [14, 1],\n",
    "])\n",
    "\n",
    "\n",
    "kmeans = KMeans(n_clusters=2, random_state=0)\n",
    "kmeans.fit(x)\n",
    "labels = kmeans.labels_\n",
    "print( f'Fitted cluster labels:  {labels}' )\n",
    "plot_labeled_points(x, labels, colors=['r','b'])\n"
   ]
  },
  {
   "cell_type": "markdown",
   "metadata": {},
   "source": [
    "<br>\n",
    "<br>\n",
    "\n",
    "___\n",
    "\n",
    "<a name=\"kmeansI-2-3\"></a>\n",
    "## Two features, three clusters\n",
    "[Back to Table of Contents](#toc)\n",
    "<br>\n"
   ]
  },
  {
   "cell_type": "code",
   "execution_count": 13,
   "metadata": {},
   "outputs": [
    {
     "name": "stdout",
     "output_type": "stream",
     "text": [
      "Fitted cluster labels:  [2 2 2 0 0 0 1 1 1]\n"
     ]
    },
    {
     "data": {
      "image/png": "[encoded data removed]",
      "text/plain": [
       "<Figure size 432x288 with 1 Axes>"
      ]
     },
     "metadata": {
      "needs_background": "light"
     },
     "output_type": "display_data"
    }
   ],
   "source": [
    "\n",
    "x = np.array([\n",
    "    [1, 0],\n",
    "    [2, 4],\n",
    "    [3, 2],\n",
    "    [12, 0],\n",
    "    [13, 2],\n",
    "    [14, 1],\n",
    "    [7, 8],\n",
    "    [10, 7],\n",
    "    [8, 9],\n",
    "])\n",
    "\n",
    "\n",
    "kmeans = KMeans(n_clusters=3, random_state=0)\n",
    "kmeans.fit(x)\n",
    "labels = kmeans.labels_\n",
    "print( f'Fitted cluster labels:  {labels}' )\n",
    "\n",
    "plot_labeled_points(x, labels, colors=['r','b','g'])"
   ]
  },
  {
   "cell_type": "markdown",
   "metadata": {},
   "source": [
    "___\n",
    "\n",
    "<a name=\"kmeansI-3-2\"></a>\n",
    "## Three feature, two clusters\n",
    "[Back to Table of Contents](#toc)\n",
    "<br>\n"
   ]
  },
  {
   "cell_type": "code",
   "execution_count": 14,
   "metadata": {},
   "outputs": [
    {
     "name": "stdout",
     "output_type": "stream",
     "text": [
      "Fitted cluster labels:  [1 1 1 0 0 0]\n"
     ]
    },
    {
     "data": {
      "image/png": "[encoded data removed]",
      "text/plain": [
       "<Figure size 432x288 with 1 Axes>"
      ]
     },
     "metadata": {
      "needs_background": "light"
     },
     "output_type": "display_data"
    }
   ],
   "source": [
    "\n",
    "from mpl_toolkits import mplot3d\n",
    "\n",
    "x = np.array([\n",
    "    [1, 0, 5],\n",
    "    [2, 4, 7],\n",
    "    [3, 2, 6],\n",
    "    [12, 0, 1],\n",
    "    [13, 2, 0],\n",
    "    [14, 1, 2],\n",
    "])\n",
    "\n",
    "\n",
    "kmeans = KMeans(n_clusters=2, random_state=0)\n",
    "kmeans.fit(x)\n",
    "labels = kmeans.labels_\n",
    "print( f'Fitted cluster labels:  {labels}' )\n",
    "\n",
    "\n",
    "fig    = plt.figure()\n",
    "x0     = x[labels==0]\n",
    "x1     = x[labels==1]\n",
    "ax     = mplot3d.Axes3D(fig)\n",
    "ax.plot( x0[:,0], x0[:,1], x0[:,2], 'o', color='b', ms=12, label='Label = 0' )\n",
    "ax.plot( x1[:,0], x1[:,1], x1[:,2], 'o', color='r', ms=12, label='Label = 1' )\n",
    "ax.legend()\n",
    "plt.show()\n",
    "\n"
   ]
  },
  {
   "cell_type": "markdown",
   "metadata": {},
   "source": [
    "<br>\n",
    "<br>\n",
    "\n",
    "Visualizing three features is difficult, and it is impossible to visualize more, so let's stop here!\n",
    "\n",
    "<br>\n",
    "<br>"
   ]
  }
 ],
 "metadata": {
  "kernelspec": {
   "display_name": "Python 3",
   "language": "python",
   "name": "python3"
  },
  "language_info": {
   "codemirror_mode": {
    "name": "ipython",
    "version": 3
   },
   "file_extension": ".py",
   "mimetype": "text/x-python",
   "name": "python",
   "nbconvert_exporter": "python",
   "pygments_lexer": "ipython3",
   "version": "3.7.6"
  }
 },
 "nbformat": 4,
 "nbformat_minor": 4
}
