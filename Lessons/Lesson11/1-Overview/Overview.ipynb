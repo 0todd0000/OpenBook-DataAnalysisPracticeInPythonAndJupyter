{
 "cells": [
  {
   "cell_type": "markdown",
   "metadata": {},
   "source": [
    "# <span style=\"color:#54B1FF\">Machine Learning II:</span> &nbsp; <span style=\"color:#1B3EA9\"><b>Clustering (Overview)</b></span>\n",
    "\n",
    "<br>\n",
    "<br>\n",
    "\n",
    "This chapter considers the similarities and differences betwen [unsupervised](https://en.wikipedia.org/wiki/Unsupervised_learning) and [supervised](https://en.wikipedia.org/wiki/Supervised_learning) learning.\n",
    "\n",
    "<br>\n",
    "<br>\n",
    "\n",
    "Unlike [classification](https://en.wikipedia.org/wiki/Statistical_classification), which is a form of [supervised learning](https://en.wikipedia.org/wiki/Supervised_learning), and which we considered in the previous chapter, [clustering](https://en.wikipedia.org/wiki/Cluster_analysis)\" is a form of [unsupervised learning](https://en.wikipedia.org/wiki/Unsupervised_learning).\n",
    "\n",
    "The key differences between supervised and unspervised learning are:\n",
    "\n",
    "* Supervised learning:  target values (e.g. labels) are **known**\n",
    "* Unsupervised learning:  target values (e.g. labels) are **not known**\n",
    "\n",
    "\n",
    "<br>\n",
    "<br>\n",
    "\n",
    "This chapter uses a simple clustering algorithm called \"K Means\". Note that a wide variety of other clustering algorithms exist. For details refer to the [sklean clustering documentation](https://scikit-learn.org/stable/modules/clustering.html)"
   ]
  }
 ],
 "metadata": {
  "kernelspec": {
   "display_name": "Python 3",
   "language": "python",
   "name": "python3"
  },
  "language_info": {
   "codemirror_mode": {
    "name": "ipython",
    "version": 3
   },
   "file_extension": ".py",
   "mimetype": "text/x-python",
   "name": "python",
   "nbconvert_exporter": "python",
   "pygments_lexer": "ipython3",
   "version": "3.7.6"
  }
 },
 "nbformat": 4,
 "nbformat_minor": 4
}
