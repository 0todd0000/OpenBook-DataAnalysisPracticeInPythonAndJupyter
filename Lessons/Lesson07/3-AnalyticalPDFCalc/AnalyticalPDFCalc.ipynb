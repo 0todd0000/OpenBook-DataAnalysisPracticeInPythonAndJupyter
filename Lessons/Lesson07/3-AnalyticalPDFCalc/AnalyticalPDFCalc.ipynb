{
 "cells": [
  {
   "cell_type": "markdown",
   "metadata": {},
   "source": [
    "# <span style=\"color:#54B1FF\">Probability:</span> &nbsp; <span style=\"color:#1B3EA9\"><b>Analytical PDF Calculations</b></span>\n",
    "\n",
    "<br>\n",
    "\n",
    "The easisest way to analytically calculate probabilities in Python is to use the `sf` function of `scipy.stats` distributions.\n",
    "\n",
    "`sf` means **survival function**. Survival functions are defined as $f(u) = P(x > u)$, where $x$ is a random variable, and where $u$ is a threshold. They are called \"survival\" functions because they represent the probability that a random value $x$ will survive a thresholding process.\n",
    "\n",
    "`sf` functions can be used in Python as follows:\n",
    "\n",
    "<br>"
   ]
  },
  {
   "cell_type": "code",
   "execution_count": 1,
   "metadata": {},
   "outputs": [],
   "source": [
    "from scipy import stats"
   ]
  },
  {
   "cell_type": "code",
   "execution_count": 2,
   "metadata": {},
   "outputs": [
    {
     "name": "stdout",
     "output_type": "stream",
     "text": [
      "Uniform:  P(x > 1.0) =  0.0\n",
      "Uniform:  P(x > 0.5) =  0.5\n",
      "Normal:   P(x > 0.0) =  0.5\n"
     ]
    }
   ],
   "source": [
    "\n",
    "p0 = stats.uniform.sf(1.0) # P(x > 1.0) for uniform distribution\n",
    "p1 = stats.uniform.sf(0.5) # P(x > 0.5) for uniform distribution\n",
    "p2 = stats.norm.sf(0)      # P(x > 0.0) for normal distribution\n",
    "\n",
    "print('Uniform:  P(x > 1.0) = ', p0)\n",
    "print('Uniform:  P(x > 0.5) = ', p1)\n",
    "print('Normal:   P(x > 0.0) = ', p2)"
   ]
  },
  {
   "cell_type": "markdown",
   "metadata": {},
   "source": [
    "<br>\n",
    "<br>\n",
    "<br>\n",
    "\n",
    "Note that these probabilities correspond to the first three probability values mentioned in the previous notebook (copied here):\n",
    "\n",
    "**Uniform**:\n",
    "\n",
    "* The probablity that $x$ is greater than one is zero: $\\hspace{5mm} P(x>1) = 0$\n",
    "* The probablity that $x$ is greater than 0.5 is 0.5: $\\hspace{5mm} P(x>0.5) = 0.5$\n",
    "\n",
    "**Normal**:\n",
    "\n",
    "* The probablity that $x$ is greater than zero is 0.5: $\\hspace{5mm} P(x>0) = 0.5$\n",
    "* The probablity that $x$ is less than zero is 0.5: $\\hspace{5mm} P(x<0) = 0.5$\n",
    "\n",
    "<br>\n",
    "<br>"
   ]
  },
  {
   "cell_type": "markdown",
   "metadata": {},
   "source": [
    "How about the final probability:   $P(x<0) = 0.5$ (normal distribution);  how can this be verified in Python?  \n",
    "\n",
    "Probabilities of the form  $P(x<u)$ can be calculated as:\n",
    "\n",
    "$$P(x<u) = 1 - P(x>u)$$\n",
    "\n",
    "<br>\n",
    "\n",
    "In Python:\n",
    "\n",
    "<br>"
   ]
  },
  {
   "cell_type": "code",
   "execution_count": 3,
   "metadata": {},
   "outputs": [
    {
     "name": "stdout",
     "output_type": "stream",
     "text": [
      "Normal:   P(x < 0.0) =  0.5\n"
     ]
    }
   ],
   "source": [
    "p3 = 1 - stats.norm.sf(0)    # P(x < 0.0) for normal distribution\n",
    "\n",
    "print('Normal:   P(x < 0.0) = ', p3)"
   ]
  },
  {
   "cell_type": "markdown",
   "metadata": {},
   "source": [
    "<br>\n",
    "<br>\n",
    "\n",
    "Now that we can compute analytical probabilities in Python, we can compute less obvious probabilities for the distributions in Fig.7.1 (see previous notebook).\n",
    "\n",
    "For example: what is the probability that $x$ is greater than 2.0 if $x$ is a random normal variable?\n",
    "\n",
    "From Fig.7.1 it appears that approximately 5% of the distribution is greater than 2.0, but how can we know the exact value?\n",
    "\n",
    "We can use the `sf` function as follows:\n",
    "\n",
    "<br>"
   ]
  },
  {
   "cell_type": "code",
   "execution_count": 4,
   "metadata": {},
   "outputs": [
    {
     "name": "stdout",
     "output_type": "stream",
     "text": [
      "Normal:   P(x > 2.0) =  0.022750131948179195\n"
     ]
    }
   ],
   "source": [
    "p4 = stats.norm.sf(2.0)    # P(x > 2.0) for normal distribution\n",
    "\n",
    "print('Normal:   P(x > 2.0) = ', p4)"
   ]
  },
  {
   "cell_type": "markdown",
   "metadata": {},
   "source": [
    "<br>\n",
    "<br>\n",
    "\n",
    "This result suggests that only about 2.3% of the distribution lies above 2.0.  In other words, there is only a 2.3% probability that $x$ is greater than 2.\n",
    "\n",
    "How about the $\\chi^2$ distribution? From Fig.7.1 it looks like approximately 40% of the distribution lies above 5. We can calculate the actual amount as follows:\n",
    "\n",
    "<br>"
   ]
  },
  {
   "cell_type": "code",
   "execution_count": 5,
   "metadata": {},
   "outputs": [
    {
     "name": "stdout",
     "output_type": "stream",
     "text": [
      "Chi-squared (v=4):   P(x > 5.0) =  0.2872974951836458\n"
     ]
    }
   ],
   "source": [
    "p5 = stats.chi2.sf(5.0, 4)    # P(x > 5.0) for chi-squared distribution with degrees of freedom = 4\n",
    "\n",
    "print('Chi-squared (v=4):   P(x > 5.0) = ', p5)"
   ]
  },
  {
   "cell_type": "markdown",
   "metadata": {},
   "source": [
    "<br>\n",
    "\n",
    "This result shows that only about 28.7% of the distribution lies above 5.\n",
    "\n",
    "All of these `sf` results are **analytical**.  In other words, the `sf` functions represent real mathematical functions.\n",
    "\n",
    "How can we know that the `sf` results are accurate?\n",
    "\n",
    "One way is to use numerical simulation. This is discussed in the next notebook."
   ]
  }
 ],
 "metadata": {
  "kernelspec": {
   "display_name": "Python 3",
   "language": "python",
   "name": "python3"
  },
  "language_info": {
   "codemirror_mode": {
    "name": "ipython",
    "version": 3
   },
   "file_extension": ".py",
   "mimetype": "text/x-python",
   "name": "python",
   "nbconvert_exporter": "python",
   "pygments_lexer": "ipython3",
   "version": "3.8.3"
  }
 },
 "nbformat": 4,
 "nbformat_minor": 4
}
