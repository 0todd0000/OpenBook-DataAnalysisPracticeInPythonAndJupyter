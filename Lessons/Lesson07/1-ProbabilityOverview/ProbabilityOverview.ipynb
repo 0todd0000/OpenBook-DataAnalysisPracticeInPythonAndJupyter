{
 "cells": [
  {
   "cell_type": "markdown",
   "metadata": {},
   "source": [
    "# <span style=\"color:#54B1FF\">Probability:</span> &nbsp; <span style=\"color:#1B3EA9\"><b>Overview</b></span>\n",
    "\n",
    "<br>\n",
    "\n",
    "Probability is the heart of Statistics, and understanding probability is essential for understanding Data Analysis. This lesson considers two methods of probability calculations (**analytical** and **numerical**), and demonstrates these calculations for three different types of random variables: **uniform**, **normal** and $\\chi^2$ (or \"chi-squared\").\n",
    "\n",
    "**Goals**:\n",
    "* To learn how to compute probabilities, both analytically and numerically\n",
    "* To validate analytical probabilities using numerical simulations\n",
    "* To understand three important random variable types: uniform, normal and $\\chi^2$\n",
    "\n",
    "**Note**:\n",
    "\n",
    "* \"Normal\" is used often to mean [\"standard normal\"](https://en.wikipedia.org/wiki/Normal_distribution#Definition) (i.e. mean = 0, standard deviation = 1), but it can also mean the [family of normal distributions](https://en.wikipedia.org/wiki/Normal_distribution), which have arbitrary means and standard deviations.\n",
    "\n",
    "<br>"
   ]
  },
  {
   "cell_type": "markdown",
   "metadata": {},
   "source": [
    "___\n",
    "\n",
    "## Background\n",
    "\n",
    "\n",
    "#### Likelihood definition\n",
    "\n",
    "One of the most important probabilities in statistics is the \"likelihood\" probability, which is defined as:\n",
    "\n",
    "$$p \\equiv P(x > u)$$\n",
    "\n",
    "where $x$ is a random variable and $u$ is a threshold value.\n",
    "\n",
    "\"$P(x > u)$\" means:  the probability that $x$ exceeds $u$.\n",
    "\n",
    "<br>"
   ]
  },
  {
   "cell_type": "markdown",
   "metadata": {},
   "source": [
    "___\n",
    "\n",
    "#### Types of probability calculations:\n",
    "\n",
    "Probability values can be computed in two different ways:\n",
    "\n",
    "1.  **Analytical calculation**: Mathematical equations (i.e., analytical equations) are used to calculate probabilities. Various parameters, like **mean** and **standard deviation**, are the unknown values in these equations. These functions are generally complex, but they are mathematically precise, so analytical probability calculations are very fast.\n",
    "\n",
    "1.  **Numerical calculation**: Random numbers are generated on a computer, and the resulting distributions are used to calculate probabilities. Probability values are usually calculated as the proportion of random numbers that exceeds a particular threshold. Random number generation is often repeated many times (usually 10,000, 100,000, or 1,000,000 times). Numerical probability calculations are generally very slow. They are nevertheless very useful, both (a) for distributions which are difficult or impossible to define analytically, and (b) to validate analytical probabilities.\n",
    "\n",
    "<br>\n"
   ]
  }
 ],
 "metadata": {
  "kernelspec": {
   "display_name": "Python 3",
   "language": "python",
   "name": "python3"
  },
  "language_info": {
   "codemirror_mode": {
    "name": "ipython",
    "version": 3
   },
   "file_extension": ".py",
   "mimetype": "text/x-python",
   "name": "python",
   "nbconvert_exporter": "python",
   "pygments_lexer": "ipython3",
   "version": "3.8.3"
  }
 },
 "nbformat": 4,
 "nbformat_minor": 4
}
