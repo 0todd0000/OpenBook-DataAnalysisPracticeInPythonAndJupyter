{
 "cells": [
  {
   "cell_type": "markdown",
   "metadata": {},
   "source": [
    "# <span style=\"color:#54B1FF\">Probability:</span> &nbsp; <span style=\"color:#1B3EA9\"><b>Numerical PDF Calculations</b></span>\n",
    "\n",
    "<br>\n",
    "\n",
    "Probabilities can be computed numerically in Python by generating random values from a specific distribution.\n",
    "\n",
    "The functions for generating random values from the distributions depicted in Fig.7.1 (see Notebook 2 from this lesson: \"PDFs\").\n",
    "\n",
    "* Uniform:  `np.random.rand`\n",
    "* Normal: `np.random.randn`\n",
    "* $\\chi^2$:  `np.random.chisquare`\n",
    "\n",
    "\n",
    "<br>\n",
    "\n",
    "Let's try to numerically verify the probability: $P(x>0.5) = 0.5$ for the uniform distribution.\n",
    "\n",
    "<br>"
   ]
  },
  {
   "cell_type": "code",
   "execution_count": 1,
   "metadata": {},
   "outputs": [],
   "source": [
    "import numpy as np\n",
    "from scipy import stats\n",
    "from matplotlib import pyplot as plt"
   ]
  },
  {
   "cell_type": "code",
   "execution_count": 2,
   "metadata": {},
   "outputs": [
    {
     "name": "stdout",
     "output_type": "stream",
     "text": [
      "Uniform (numerical result, N=20):  P(x > 0.5) =  0.45\n"
     ]
    }
   ],
   "source": [
    "np.random.seed(5)        # seed the random number generator to ensure reproducible results\n",
    "\n",
    "N = 20                   # sample size\n",
    "\n",
    "x = np.random.rand(20)   # 20 random values from the uniform distribution\n",
    "\n",
    "b = x > 0.5              # boolean array containing True values where x exceeds 0.5\n",
    "\n",
    "p = b.mean()             # total number of True values divided by 20 (the total number of values)\n",
    "\n",
    "print('Uniform (numerical result, N=20):  P(x > 0.5) = ', p)"
   ]
  },
  {
   "cell_type": "markdown",
   "metadata": {},
   "source": [
    "<br>\n",
    "<br>\n",
    "\n",
    "Note that this value is close to the expected value of 0.5, but it is not exactly 0.5.\n",
    "\n",
    "Why?\n",
    "\n",
    "There are two reasons:\n",
    "\n",
    "1. Analytical probabilities describe $N = \\infty$, but it is impossible to generate $N = \\infty$ random numbers.\n",
    "2. Random number generators are imperfect, and can only approximate the true, analytical distribition.\n",
    "\n",
    "We can check the first problem simply by increasing $N$...\n",
    "\n",
    "<br>"
   ]
  },
  {
   "cell_type": "code",
   "execution_count": 3,
   "metadata": {},
   "outputs": [
    {
     "name": "stdout",
     "output_type": "stream",
     "text": [
      "Uniform (numerical result, N=20):     P(x > 0.5) =  0.45\n",
      "Uniform (numerical result, N=100):    P(x > 0.5) =  0.52\n",
      "Uniform (numerical result, N=1000):   P(x > 0.5) =  0.503\n",
      "Uniform (numerical result, N=10000):  P(x > 0.5) =  0.5008\n"
     ]
    }
   ],
   "source": [
    "np.random.seed(5)\n",
    "x0 = np.random.rand(20)\n",
    "x1 = np.random.rand(100)\n",
    "x2 = np.random.rand(1000)\n",
    "x3 = np.random.rand(10000)\n",
    "\n",
    "p0 = (x0 > 0.5).mean()\n",
    "p1 = (x1 > 0.5).mean()\n",
    "p2 = (x2 > 0.5).mean()\n",
    "p3 = (x3 > 0.5).mean()\n",
    "\n",
    "print('Uniform (numerical result, N=20):     P(x > 0.5) = ', p0)\n",
    "print('Uniform (numerical result, N=100):    P(x > 0.5) = ', p1)\n",
    "print('Uniform (numerical result, N=1000):   P(x > 0.5) = ', p2)\n",
    "print('Uniform (numerical result, N=10000):  P(x > 0.5) = ', p3)"
   ]
  },
  {
   "cell_type": "markdown",
   "metadata": {},
   "source": [
    "<br>\n",
    "<br>\n",
    "\n",
    "Note that we get closer to the expected value of 0.5 as $N$ increases.\n",
    "\n",
    "This notebook has summarized how to numerically calculate single **probability values**, but it is usually more convenient to numerically estimate **probability functions**.  The next notebook discusses how this can be done."
   ]
  }
 ],
 "metadata": {
  "kernelspec": {
   "display_name": "Python 3",
   "language": "python",
   "name": "python3"
  },
  "language_info": {
   "codemirror_mode": {
    "name": "ipython",
    "version": 3
   },
   "file_extension": ".py",
   "mimetype": "text/x-python",
   "name": "python",
   "nbconvert_exporter": "python",
   "pygments_lexer": "ipython3",
   "version": "3.8.3"
  }
 },
 "nbformat": 4,
 "nbformat_minor": 4
}
