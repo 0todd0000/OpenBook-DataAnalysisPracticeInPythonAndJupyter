{
 "cells": [
  {
   "cell_type": "markdown",
   "metadata": {},
   "source": [
    "# <span style=\"color:#54B1FF\">Probability:</span> &nbsp; <span style=\"color:#1B3EA9\"><b>Probability Density Functions</b></span>\n",
    "\n",
    "<br>\n",
    "\n",
    "Most probabilities in statistics are calculated from **probability density functions** (PDFs). A PDF is a mathematical function that describes the probability with which a random variable is expected to adopt specific values.\n",
    "\n",
    "The three types of random variables we will consider are: uniform, normal and $\\chi^2$ (Fig.7.1). The distributions in Fig.7.1 are called **probability density functions** (PDF). The most important characteristic of a PDF is that the total probability is one:\n",
    "\n",
    "$$\\int_{-\\infty}^{+\\infty} f(x) = 1$$\n",
    "\n",
    "This is equivalent to:\n",
    "\n",
    "$$P(-\\infty < x < +\\infty) = 1$$\n",
    "\n",
    "\n",
    "where $f(x)$ is the PDF. In other words, the probability that $x$ has a value between $-\\infty$ and $+\\infty$ is 1 (or 100%).\n",
    "\n",
    "<br>"
   ]
  },
  {
   "cell_type": "markdown",
   "metadata": {},
   "source": [
    "___\n",
    "\n",
    "## Probability calculations in Python\n",
    "\n",
    "\n",
    "Let's first import the packages we'll need for this notebook:"
   ]
  },
  {
   "cell_type": "code",
   "execution_count": 1,
   "metadata": {},
   "outputs": [],
   "source": [
    "import numpy as np\n",
    "from scipy import stats\n",
    "from matplotlib import pyplot as plt"
   ]
  },
  {
   "cell_type": "markdown",
   "metadata": {},
   "source": [
    "<br>\n",
    "\n",
    "The PDFs for uniform, normal and $\\chi^2$ random variables can be generated as follows:\n",
    "\n",
    "<br>"
   ]
  },
  {
   "cell_type": "code",
   "execution_count": 2,
   "metadata": {},
   "outputs": [
    {
     "data": {
      "image/png": "[encoded data removed]",
      "text/plain": [
       "<Figure size 1008x216 with 3 Axes>"
      ]
     },
     "metadata": {
      "needs_background": "light"
     },
     "output_type": "display_data"
    }
   ],
   "source": [
    "# Define ranges of random variables\n",
    "x0   = np.linspace(-1, 2, 1001)  # random variable range for the uniform distribution\n",
    "x1   = np.linspace(-4, 4, 1001)  # random variable range for the normal distribution\n",
    "x2   = np.linspace(0, 20, 1001)  # random variable range for the chi2 distribution\n",
    "\n",
    "\n",
    "# Use analytical equations to calculate the probability densities at all x values \n",
    "pdf0 = stats.uniform.pdf(x0)     # PDF for a uniform random variable\n",
    "pdf1 = stats.norm.pdf(x1)        # PDF for a normal random variable\n",
    "pdf2 = stats.chi2.pdf(x2, 4)     # PDF for a chi2 random variable (with degrees of freedom = 4)\n",
    "\n",
    "\n",
    "# Plot the PDFs\n",
    "fig,ax = plt.subplots(1, 3, figsize=(14,3))\n",
    "\n",
    "ax[0].plot(x0, pdf0)\n",
    "ax[1].plot(x1, pdf1)\n",
    "ax[2].plot(x2, pdf2)\n",
    "\n",
    "ax[0].set_title('Uniform')\n",
    "ax[1].set_title('Normal')\n",
    "ax[2].set_title('$\\chi^2$  ($v$ = 4)')\n",
    "\n",
    "plt.setp(ax, xlabel='x')\n",
    "plt.setp(ax, ylabel='f (x)')\n",
    "\n",
    "plt.show()"
   ]
  },
  {
   "cell_type": "markdown",
   "metadata": {},
   "source": [
    "<b>Figure 7.1</b>:  Probability density functions for three types of random variables. $x$ = random variable value.  $f(x)$ = probability density. $\\nu$ = degrees of freedom.\n",
    "\n",
    "<br>\n",
    "<br>"
   ]
  },
  {
   "cell_type": "markdown",
   "metadata": {},
   "source": [
    "The PDFs in Fig.7.1 have mathematical definitions, but those mathematics are beyond the scope of this lecture.  If you are interested in the mathematical functions, see the following links (look for the \"PDF\" row in the tables on the right-hand side of each page):\n",
    "\n",
    "* [Uniform distribution](https://en.wikipedia.org/wiki/Uniform_distribution_(continuous))\n",
    "* [Normal distribution](https://en.wikipedia.org/wiki/Normal_distribution)\n",
    "* [$\\chi^2$ distribution](https://en.wikipedia.org/wiki/Chi-squared_distribution)\n",
    "\n",
    "<br>\n",
    "<br>"
   ]
  },
  {
   "cell_type": "markdown",
   "metadata": {},
   "source": [
    "From the PDFs in Fig.7.1, certain probabilities are obvious.  For example:\n",
    "\n",
    "**Uniform**:\n",
    "\n",
    "* The probablity that $x$ is greater than one is zero: $\\hspace{5mm} P(x>1) = 0$\n",
    "* The probablity that $x$ is greater than 0.5 is 0.5: $\\hspace{5mm} P(x>0.5) = 0.5$\n",
    "\n",
    "**Normal**:\n",
    "\n",
    "* The probablity that $x$ is greater than zero is 0.5: $\\hspace{5mm} P(x>0) = 0.5$\n",
    "* The probablity that $x$ is less than zero is 0.5: $\\hspace{5mm} P(x<0) = 0.5$\n",
    "\n",
    "\n",
    "<br>\n",
    "\n",
    "How can we use Python to calculate these probabilities **analytically**?  The next notebook answers this question."
   ]
  }
 ],
 "metadata": {
  "kernelspec": {
   "display_name": "Python 3",
   "language": "python",
   "name": "python3"
  },
  "language_info": {
   "codemirror_mode": {
    "name": "ipython",
    "version": 3
   },
   "file_extension": ".py",
   "mimetype": "text/x-python",
   "name": "python",
   "nbconvert_exporter": "python",
   "pygments_lexer": "ipython3",
   "version": "3.8.3"
  }
 },
 "nbformat": 4,
 "nbformat_minor": 4
}
