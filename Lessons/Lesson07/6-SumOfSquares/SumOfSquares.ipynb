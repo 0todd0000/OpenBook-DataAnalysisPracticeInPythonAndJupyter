{
 "cells": [
  {
   "cell_type": "markdown",
   "metadata": {},
   "source": [
    "# <span style=\"color:#54B1FF\">Probability:</span> &nbsp; <span style=\"color:#1B3EA9\"><b>Sum Of Squares and the &chi;<sup>2</sup> Distribution</b></span>\n",
    "\n",
    "<br>\n",
    "\n",
    "In future lessons, [**sum-of-squares**](https://en.wikipedia.org/wiki/Total_sum_of_squares) will become an important concept.  The sum-of-sqaures ($SS$) is defined as:\n",
    "\n",
    "$$SS = \\sum_{i=1}^N (x_i - \\overline{x})^2$$\n",
    "\n",
    "where $N$ is the sample size, $x_i$ is the $i$th value, and $\\overline{x}$ is the mean.\n",
    "\n",
    "The $\\chi^2$ distribution has an important connection to SS.\n",
    "\n",
    "In particular: **the SS of a sample of $N$ random values from the standard normal distribution is $\\chi^2$ distributed with $N$ degrees of freedom.**\n",
    "\n",
    "We can verify this numerically as follows:\n",
    "\n",
    "<br>"
   ]
  },
  {
   "cell_type": "code",
   "execution_count": 1,
   "metadata": {},
   "outputs": [],
   "source": [
    "import numpy as np\n",
    "from scipy import stats\n",
    "from matplotlib import pyplot as plt"
   ]
  },
  {
   "cell_type": "code",
   "execution_count": 2,
   "metadata": {},
   "outputs": [
    {
     "data": {
      "image/png": "[encoded data removed]",
      "text/plain": [
       "<Figure size 432x288 with 1 Axes>"
      ]
     },
     "metadata": {
      "needs_background": "light"
     },
     "output_type": "display_data"
    }
   ],
   "source": [
    "np.random.seed(0)\n",
    "\n",
    "N     = 5\n",
    "\n",
    "# analytical PDF:\n",
    "x     = np.linspace(0, 20, 1001)  # random variable range for the chi2 distribution\n",
    "pdf   = stats.chi2.pdf(x, N)      # PDF for a chi2 random variable (with degrees of freedom = N)\n",
    "\n",
    "\n",
    "\n",
    "niter = 10000\n",
    "ss    = []\n",
    "for i in range(niter):\n",
    "    y = np.random.randn(N)\n",
    "    ss.append( (y**2).sum() )\n",
    "ss    = np.array(ss)\n",
    "\n",
    "\n",
    "\n",
    "plt.figure()\n",
    "ax = plt.axes()\n",
    "ax.plot(x, pdf, label='Analytical')\n",
    "ax.hist(ss, density=True, bins=21, label='Numerical')\n",
    "ax.legend()\n",
    "ax.set_xlabel('x')\n",
    "ax.set_ylabel('Probability density')\n",
    "plt.show()"
   ]
  },
  {
   "cell_type": "markdown",
   "metadata": {},
   "source": [
    "<b>Figure 7.4</b>:  Numerical verification of the survival function for the $\\chi^2$ distribution using the squares of values from the normal distribution."
   ]
  },
  {
   "cell_type": "markdown",
   "metadata": {},
   "source": [
    "<br>\n",
    "<br>\n",
    "\n",
    "The numerical distribution of $y^2$ (where $y$ is a normal random variable) is qualitatively identical to the analytical $\\chi^2$ distribution.\n",
    "\n",
    "This example introduces a **very important concept** that will be used in many other lectures:\n",
    "\n",
    "<span style=\"color:red\">Probability distributions pertain **not only** to random variables, **but also** to functions of those variables.</span>\n",
    "\n",
    "In the Python code above, the random variable is $y$ and the function is $f(y) = y^2$."
   ]
  },
  {
   "cell_type": "markdown",
   "metadata": {},
   "source": [
    "## Summary\n",
    "\n",
    "To become a good data analyst, one must understand many aspects of statistics, and all of the most important concepts in statistics stem from random variables and their distributions.\n",
    "\n",
    "This lesson has provided a conceptual overview of random variables, their probability density functions (PDFs), and their survival functions. It has also demonstrated how calculate probability density functions and survival functions in Python, both analytically and numerically. Analytical calculations are very fast, and numerical calculations are very slow, but as you deal with more complex types of data, and more complex types of analyses, numerical probability calculations will become increasingly important.\n",
    "\n",
    "The next lesson connects all of the concepts learned in this lesson to classical hypothesis testing, which emerged approximately 100 years ago, but remains the most common type of statistical analysis used in the scientific literature. As a data analyst you will likely only seldomly use classical hypothesis testing, but understanding it is very helpful for understanding other, modern techniques like machine learning."
   ]
  }
 ],
 "metadata": {
  "kernelspec": {
   "display_name": "Python 3",
   "language": "python",
   "name": "python3"
  },
  "language_info": {
   "codemirror_mode": {
    "name": "ipython",
    "version": 3
   },
   "file_extension": ".py",
   "mimetype": "text/x-python",
   "name": "python",
   "nbconvert_exporter": "python",
   "pygments_lexer": "ipython3",
   "version": "3.8.3"
  }
 },
 "nbformat": 4,
 "nbformat_minor": 4
}
