{
 "cells": [
  {
   "cell_type": "markdown",
   "metadata": {},
   "source": [
    "# <span style=\"color:#1B3EA9\">Launch Jupyter (Windows 10)</span>\n",
    "\n",
    "<br>\n",
    "<br>\n",
    "\n",
    "Jupyter launching instructions are also available in [Install Jupyter](https://github.com/0todd0000/OpenBook-DataAnalysisPracticeInPythonAndJupyter/blob/master/Lessons/Lesson01/2-InstallJupyter/InstallJupyter.ipynb) notebok.\n"
   ]
  },
  {
   "cell_type": "markdown",
   "metadata": {},
   "source": [
    "___\n",
    "\n",
    "### Step 1:\n",
    "\n",
    "* Enter `jupyter notebook` in the Windows search bar.\n",
    "* Select the **Jupyter Notebook** app.\n",
    "\n",
    "<br>\n",
    "<br>\n",
    "\n",
    "<img src=\"img/ss0.png\" alt=\"screenshot\" width=800/>\n",
    "\n",
    "<br>\n",
    "<br>"
   ]
  },
  {
   "cell_type": "markdown",
   "metadata": {},
   "source": [
    "___\n",
    "\n",
    "### Step 2:\n",
    "\n",
    "* If you have multiple browsers, Windows may ask you which browser you want to use.\n",
    "* Choose any browser (e.g. Firefox, Google Chrome, Microsoft Edge, etc.)\n",
    "\n",
    "<br>\n",
    "<br>\n",
    "\n",
    "<img src=\"img/ss1.png\" alt=\"screenshot\" width=800/>\n",
    "\n",
    "<br>\n",
    "<br>\n",
    "\n",
    "\n"
   ]
  },
  {
   "cell_type": "markdown",
   "metadata": {},
   "source": [
    "___\n",
    "\n",
    "### Step 3:\n",
    "\n",
    "* Verify that the Jupyter Home screen is displayed\n",
    "* (Your Home screen will display the folder names on your computer)\n",
    "\n",
    "<img src=\"img/ss2.png\" alt=\"screenshot\" width=800/>\n",
    "\n",
    "<br>\n",
    "<br>"
   ]
  }
 ],
 "metadata": {
  "kernelspec": {
   "display_name": "Python 3",
   "language": "python",
   "name": "python3"
  },
  "language_info": {
   "codemirror_mode": {
    "name": "ipython",
    "version": 3
   },
   "file_extension": ".py",
   "mimetype": "text/x-python",
   "name": "python",
   "nbconvert_exporter": "python",
   "pygments_lexer": "ipython3",
   "version": "3.8.3"
  }
 },
 "nbformat": 4,
 "nbformat_minor": 4
}
