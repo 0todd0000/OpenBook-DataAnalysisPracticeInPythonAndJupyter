{
 "cells": [
  {
   "cell_type": "markdown",
   "metadata": {},
   "source": [
    "# <span style=\"color:#1B3EA9\">Launch Jupyter (macos)</span>\n",
    "\n",
    "<br>\n",
    "<br>\n",
    "\n",
    "Jupyter launching instructions are also available in [Install Jupyter](https://github.com/0todd0000/OpenBook-DataAnalysisPracticeInPythonAndJupyter/blob/master/Lessons/Lesson01/2-InstallJupyter/InstallJupyterMac.ipynb) notebok.\n"
   ]
  },
  {
   "cell_type": "markdown",
   "metadata": {},
   "source": [
    "____\n",
    "\n",
    "# Step 1:\n",
    "\n",
    "<br>\n",
    "<br>\n",
    "\n",
    "Open a Terminal.\n",
    "\n",
    "- One way to do this is to click on the Spotlight button (top right of the screen) then start typing `Terminal` and selecting `Terminal.app`\n",
    "\n",
    "<br>\n",
    "<br>\n",
    "\n",
    "<img src=\"img/mac-2.png\" alt=\"screenshot\" width=800/>\n",
    "\n",
    "<br>\n",
    "<br>\n",
    "\n",
    "- Another way to open a Terminal is through `./Applications/Utilities/Terminal.app`\n",
    "\n",
    "<br>\n",
    "<br>\n",
    "\n",
    "<img src=\"img/mac-3.png\" alt=\"screenshot\" width=600/>\n",
    "\n",
    "<br>\n",
    "<br>"
   ]
  },
  {
   "cell_type": "markdown",
   "metadata": {},
   "source": [
    "<br>\n",
    "<br>\n",
    "\n",
    "Enter `jupyter notebook` to launch Jupyter.\n",
    "\n",
    "<br>\n",
    "<br>\n",
    "\n",
    "<img src=\"img/mac-4.png\" alt=\"screenshot\" width=600/>\n",
    "\n",
    "<br>\n",
    "<br>\n"
   ]
  },
  {
   "cell_type": "markdown",
   "metadata": {},
   "source": [
    "<br>\n",
    "<br>\n",
    "\n",
    "Another option is to first change the directory using the `cd` command like this:\n",
    "\n",
    "<br>\n",
    "<br>\n",
    "\n",
    "<img src=\"img/mac-5a.png\" alt=\"screenshot\" width=600/>\n",
    "\n",
    "<br>\n",
    "<br>\n",
    "\n",
    "In the screenshot above the `cd` command is used to change the current directory (cd) to the Desktop. This means:\n",
    "\n",
    "- Jupyter will now have access to all files on the Desktop\n",
    "- New Jupyter notebooks will be created on the Desktop\n"
   ]
  }
 ],
 "metadata": {
  "kernelspec": {
   "display_name": "Python 3 (ipykernel)",
   "language": "python",
   "name": "python3"
  },
  "language_info": {
   "codemirror_mode": {
    "name": "ipython",
    "version": 3
   },
   "file_extension": ".py",
   "mimetype": "text/x-python",
   "name": "python",
   "nbconvert_exporter": "python",
   "pygments_lexer": "ipython3",
   "version": "3.8.11"
  }
 },
 "nbformat": 4,
 "nbformat_minor": 4
}
