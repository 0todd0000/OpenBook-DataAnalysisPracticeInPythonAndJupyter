{
 "cells": [
  {
   "cell_type": "markdown",
   "metadata": {},
   "source": [
    "# <span style=\"color:#1B3EA9\">Introduction To Jupyter</span>\n",
    "\n",
    "<br>\n",
    "<br>"
   ]
  },
  {
   "cell_type": "markdown",
   "metadata": {},
   "source": [
    "___\n",
    "## What is Jupyter?\n",
    "\n",
    "* [Jupyter](https://jupyter.org) is a software framework for creating **interactive web pages** that can be run in normal web browsers like Google Chrome and Firefox.\n",
    "\n",
    "* Jupyter is used to create a variety of **enhanced documents**, including:\n",
    "    * Programming lessons\n",
    "    * Textbooks\n",
    "    * Lecture notes\n",
    "    * Interactive quizzes\n",
    "    * etc.\n",
    "\n",
    "<br> \n",
    "\n",
    "* Jupyter can be used to easily enhance these documents with things like: **images**, **videos** and **HTML**.\n",
    "\n",
    "* Jupyter supports a variety of programming languages, including [Python](https://www.python.org), [Markdown](https://en.wikipedia.org/wiki/Markdown) and [R](https://www.r-project.org).\n",
    "\n",
    "* Jupyter is used extensively throughout this open textbook, and most of this textbook's contents were created using Jupyter.\n",
    "<br>\n",
    "<br>"
   ]
  },
  {
   "cell_type": "markdown",
   "metadata": {},
   "source": [
    "___\n",
    "## How does Jupyter work?\n",
    "\n",
    "* Normally, when you access the internet, your web browser exchanges data with another computer (a **server**)\n",
    "* That **server** usually is not in the same physical location as your computer (i.e., a different room, building, city or country)\n",
    "\n",
    "<br>\n",
    "<br>\n",
    "\n",
    "<img src=\"img/overview-1.png\" alt=\"overview-1.png\" width=\"400\"/>\n",
    "\n",
    "<br>\n",
    "<br>\n",
    "\n",
    "\n",
    "\n",
    "* Jupyter is like a **virtual server**, that runs on your computer.\n",
    "* Your web browswer exchanges data with the Jupyter server\n",
    "\n",
    "<img src=\"img/overview-2.png\" alt=\"overview-1.png\" width=\"500\"/>\n",
    "\n",
    "<br>\n",
    "<br>\n",
    "\n",
    "\n",
    "\n",
    "* This software setup means that:\n",
    "    * Jupyter files can be flexibly run in any browser.\n",
    "    * Jupyter files can be run on your local PC (if you have the Jupyter server installed) or over the internet (on an external server).\n",
    "    * Users don't require Jupyter to be installed on their own computer. All they need is a browser and internet connection!\n",
    "\n",
    "\n"
   ]
  }
 ],
 "metadata": {
  "kernelspec": {
   "display_name": "Python 3",
   "language": "python",
   "name": "python3"
  },
  "language_info": {
   "codemirror_mode": {
    "name": "ipython",
    "version": 3
   },
   "file_extension": ".py",
   "mimetype": "text/x-python",
   "name": "python",
   "nbconvert_exporter": "python",
   "pygments_lexer": "ipython3",
   "version": "3.8.3"
  },
  "widgets": {
   "application/vnd.jupyter.widget-state+json": {
    "state": {},
    "version_major": 2,
    "version_minor": 0
   }
  }
 },
 "nbformat": 4,
 "nbformat_minor": 4
}
