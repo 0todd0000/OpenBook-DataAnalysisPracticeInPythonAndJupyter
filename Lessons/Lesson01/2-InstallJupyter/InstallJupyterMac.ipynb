{
 "cells": [
  {
   "cell_type": "markdown",
   "metadata": {},
   "source": [
    "# <span style=\"color:#1B3EA9\">Installing Jupyter (macos)</span>\n",
    "\n",
    "<br>\n",
    "<br>\n",
    "\n",
    "⚠️ <span style=\"background-color:yellow;\">Check whether Jupyter is already installed on your computer by entering `jupyter` in a Terminal.</span>\n",
    "\n",
    "\n",
    "<br>\n",
    "<br>\n",
    "\n",
    "The easiest way to install Jupyter is to install [Anaconda](https://www.anaconda.com).\n",
    "\n",
    "Below are step-by-step instructions for (a) installing Anaconda (Individual Edition), then (b) checking the Jupyter installation.\n"
   ]
  },
  {
   "cell_type": "markdown",
   "metadata": {},
   "source": [
    "___\n",
    "\n",
    "<a name=\"toc\"></a>\n",
    "# Table of Contents\n",
    "\n",
    "* [Step 1: &nbsp; Install Anaconda](#install-anaconda)\n",
    "* [Step 2: &nbsp; Check Jupyter installation](#check-jupyter)"
   ]
  },
  {
   "cell_type": "markdown",
   "metadata": {},
   "source": [
    "____\n",
    "\n",
    "<a name=\"install-anaconda\"></a>\n",
    "# Step 1:  &nbsp; Install Anaconda\n",
    "[Back to Table of Contents](#toc)\n",
    "<br>\n",
    "<br>\n",
    "\n",
    "\n",
    "1.  Go to [anaconda.com/distribution](https://www.anaconda.com/distribution/) , and select **Download**\n",
    "\n",
    "<br>\n",
    "<br>\n",
    "\n",
    "<img src=\"img/mac-1.png\" alt=\"screenshot\" width=800/>\n",
    "\n",
    "<br>\n",
    "<br>\n"
   ]
  },
  {
   "cell_type": "markdown",
   "metadata": {},
   "source": [
    "2.  Open the downloaded installer and install like a normal Mac application.\n",
    "\n",
    "Detailed installation instructions:  [(English)](https://docs.anaconda.com/anaconda/install/mac-os/)  [(日本語)](https://www.python.jp/install/anaconda/macos/install.html) \n",
    "\n"
   ]
  },
  {
   "cell_type": "markdown",
   "metadata": {},
   "source": [
    "____\n",
    "\n",
    "<a name=\"check-jupyter\"></a>\n",
    "# Step 2:  &nbsp; Check Jupyter installation\n",
    "[Back to Table of Contents](#toc)\n",
    "\n",
    "<br>\n",
    "<br>\n",
    "\n",
    "\n",
    "1. Open a Terminal.\n",
    "\n",
    "- One way to do this is to click on the Spotlight button (top right of the screen) then start typing `Terminal` and selecting `Terminal.app`\n",
    "\n",
    "<br>\n",
    "<br>\n",
    "\n",
    "<img src=\"img/mac-2.png\" alt=\"screenshot\" width=800/>\n",
    "\n",
    "<br>\n",
    "<br>\n",
    "\n",
    "- Another way to open a Terminal is through `./Applications/Utilities/Terminal.app`\n",
    "\n",
    "<br>\n",
    "<br>\n",
    "\n",
    "<img src=\"img/mac-3.png\" alt=\"screenshot\" width=600/>\n",
    "\n",
    "<br>\n",
    "<br>"
   ]
  },
  {
   "cell_type": "markdown",
   "metadata": {},
   "source": [
    "2. In the terminal enter `jupyter notebook` to launch Jupyter.\n",
    "\n",
    "<br>\n",
    "<br>\n",
    "\n",
    "<img src=\"img/mac-4.png\" alt=\"screenshot\" width=600/>\n",
    "\n",
    "<br>\n",
    "<br>\n"
   ]
  },
  {
   "cell_type": "markdown",
   "metadata": {},
   "source": [
    "3. Choose a browser.\n",
    "\n",
    "If you have multiple browsers, you may be prompted to choose a browser.\n",
    "\n",
    "Choose any browser (e.g. Safari, Firefox, Google Chrome, etc.)\n"
   ]
  },
  {
   "cell_type": "markdown",
   "metadata": {},
   "source": [
    "<br>\n",
    "<br>\n",
    "<br>\n",
    "<br>\n",
    "\n",
    "\n",
    "4. Create a new notebook.\n",
    "\n",
    "When the Jupyter home page launches, select **New**, then select a **Python 3** Notebook.\n",
    "\n",
    "<br>\n",
    "<br>\n",
    "\n",
    "<img src=\"img/mac-5.png\" alt=\"screenshot\" width=600/>\n",
    "\n",
    "<br>\n",
    "<br>"
   ]
  },
  {
   "cell_type": "markdown",
   "metadata": {},
   "source": [
    "\n",
    "\n",
    "\n",
    "\n",
    "\n",
    "4. When the notebook launches, enter `print( \"Hello world!\" )` in the cell, then select **Run**.\n",
    "\n",
    "<br>\n",
    "<br>\n",
    "\n",
    "<img src=\"img/mac-6.png\" alt=\"screenshot\" width=600/>\n",
    "\n",
    "<br>\n",
    "<br>\n",
    "\n",
    "\n"
   ]
  },
  {
   "cell_type": "markdown",
   "metadata": {},
   "source": [
    "5. Verify that `Hello world!` is printed as output.\n",
    "\n",
    "<br>\n",
    "<br>\n",
    "\n",
    "<img src=\"img/mac-7.png\" alt=\"screenshot\" width=600/>\n",
    "\n",
    "<br>\n",
    "<br>"
   ]
  },
  {
   "cell_type": "markdown",
   "metadata": {},
   "source": [
    "___\n",
    "\n",
    "### Congratulations!\n",
    "\n",
    "Jupyter is now installed and ready to go."
   ]
  }
 ],
 "metadata": {
  "kernelspec": {
   "display_name": "Python 3 (ipykernel)",
   "language": "python",
   "name": "python3"
  },
  "language_info": {
   "codemirror_mode": {
    "name": "ipython",
    "version": 3
   },
   "file_extension": ".py",
   "mimetype": "text/x-python",
   "name": "python",
   "nbconvert_exporter": "python",
   "pygments_lexer": "ipython3",
   "version": "3.8.11"
  }
 },
 "nbformat": 4,
 "nbformat_minor": 4
}
