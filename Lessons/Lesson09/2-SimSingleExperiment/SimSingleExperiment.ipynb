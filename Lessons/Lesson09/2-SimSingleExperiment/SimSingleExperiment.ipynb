{
 "cells": [
  {
   "cell_type": "markdown",
   "metadata": {},
   "source": [
    "# <span style=\"color:#54B1FF\">Simulating Experiments:</span> &nbsp; <span style=\"color:#1B3EA9\"><b>A Single Experiment</b></span>\n",
    "\n",
    "<br>\n",
    "\n",
    "This notebook simulates a single, simple one-sample experiment.\n",
    "\n",
    "<br>\n",
    "\n",
    "Let's reconsider the one-sample example from Lesson 08:\n",
    "\n",
    "<img alt=\"one-sample\" width=400 src=\"https://i1.wp.com/www.real-statistics.com/wp-content/uploads/2012/11/one-sample-t-test-1.png?w=552\"/>\n",
    "\n",
    "<br>"
   ]
  },
  {
   "cell_type": "markdown",
   "metadata": {},
   "source": [
    "A one-sample t test tests the null hypothsis: <span style=\"color:blue\">$\\hspace{5mm} H_0: \\overline{y} = 0$</span>\n",
    "\n",
    "The sample mean is: <span style=\"color:blue\">$\\hspace{5mm} \\overline{y} = 4.667$</span>\n",
    "\n",
    "The sample standard deviation is: <span style=\"color:blue\">$\\hspace{5mm} s = 11.155$</span>\n",
    "\n",
    "The t value is: <span style=\"color:blue\">$\\hspace{5mm} t = 1.449$</span>\n",
    "\n",
    "The probability value is: <span style=\"color:blue\">$\\hspace{5mm} p = 0.088$</span>\n",
    "\n",
    "This implies that $H_0$ is **not** rejected. \n",
    "\n",
    "<br>\n",
    "<br>\n",
    "\n",
    "Let's simulate this experiment, <span style=\"color:red\">assuming that $H_0$ is **true**</span>, and also <span style=\"color:red\">assuming that that the data are drawn randomly from the Normal distribution</span>.\n",
    "\n",
    "First, let's simulate just one iteration:"
   ]
  },
  {
   "cell_type": "code",
   "execution_count": 1,
   "metadata": {},
   "outputs": [],
   "source": [
    "import numpy as np\n",
    "from scipy import stats"
   ]
  },
  {
   "cell_type": "code",
   "execution_count": 2,
   "metadata": {},
   "outputs": [
    {
     "name": "stdout",
     "output_type": "stream",
     "text": [
      "[ 19.678   4.464  10.918  24.997  20.833 -10.902  10.598  -1.688  -1.151\n",
      "   4.58    1.607  16.222]\n"
     ]
    }
   ],
   "source": [
    "n     = 12      # sample size\n",
    "mu    = 0       # when H0 is true, the mean is zero\n",
    "sigma = 11.155  # assumed true standard deviation\n",
    "\n",
    "np.random.seed(0)\n",
    "y   = mu + sigma * np.random.randn(n)\n",
    "\n",
    "np.set_printoptions(precision=3)  # print array values with 3 significant digits\n",
    "print(y)"
   ]
  },
  {
   "cell_type": "markdown",
   "metadata": {},
   "source": [
    "<br>\n",
    "<br>\n",
    "\n",
    "Congratulations!  You have just simulated an experiment.\n",
    "\n",
    "What are the mean and standard deviation (SD) for this simulated dataset?\n",
    "\n",
    "<br>"
   ]
  },
  {
   "cell_type": "code",
   "execution_count": 3,
   "metadata": {},
   "outputs": [
    {
     "name": "stdout",
     "output_type": "stream",
     "text": [
      "[ 8.346 10.751]\n"
     ]
    }
   ],
   "source": [
    "m  = y.mean()\n",
    "s  = y.std(ddof=1)\n",
    "\n",
    "print(  np.array( [ m , s ] )  )"
   ]
  },
  {
   "cell_type": "markdown",
   "metadata": {},
   "source": [
    "<br>\n",
    "<br>\n",
    "\n",
    "Note that that both the **sample mean** and the **sample SD** are different from their true values of 0 and 11.155, respectively.\n",
    "\n",
    "<br>\n",
    "\n",
    "Why is this?\n",
    "\n",
    "Because randomly sampling a small number of values produces imperfect estimates of the true mean and true SD.\n",
    "\n",
    "<br>\n",
    "\n",
    "See Lesson 07, which shows that numerical estimates improve as the number of random values increases.\n",
    "\n",
    "<br>\n",
    "\n",
    "In order to improve the estimates, we can either:\n",
    "1. Increase sample size ($n$), or\n",
    "1. Increase the number of simulated experiments ($N$)\n",
    "\n",
    "<br>\n",
    "\n",
    "Hypothesis testing probabilities pertain to the second case.\n",
    "\n",
    "In particular, hypothesis testing probabilities pertain to an infinite number of experiments ($N = \\infty$).\n",
    "\n",
    "The next notebook shows how we can simulate a large number of experiments, to **numerically approximate** the theoretical assumption of $N = \\infty$."
   ]
  }
 ],
 "metadata": {
  "kernelspec": {
   "display_name": "Python 3",
   "language": "python",
   "name": "python3"
  },
  "language_info": {
   "codemirror_mode": {
    "name": "ipython",
    "version": 3
   },
   "file_extension": ".py",
   "mimetype": "text/x-python",
   "name": "python",
   "nbconvert_exporter": "python",
   "pygments_lexer": "ipython3",
   "version": "3.8.3"
  }
 },
 "nbformat": 4,
 "nbformat_minor": 4
}
