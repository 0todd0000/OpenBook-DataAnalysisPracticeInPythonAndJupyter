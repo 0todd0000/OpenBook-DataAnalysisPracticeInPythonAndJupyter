{
 "cells": [
  {
   "cell_type": "markdown",
   "metadata": {},
   "source": [
    "# <span style=\"color:#54B1FF\">Simulating Experiments:</span> &nbsp; <span style=\"color:#1B3EA9\"><b>Overview & Review</b></span>\n",
    "\n",
    "<br>\n",
    "\n",
    "This lesson aims to conceptually connect the content from the two previous lessons: \"Random Variables\" and \"Hypothesis Testing\". In order to understand how Random Variables are connected to Hypothesis Testing, it is easy (and fun!) to simulate experiments.\n",
    "\n",
    "**Goals**:\n",
    "* To learn how to simulate a variety of experiments\n",
    "* To learn what hypothesis testing's p values mean\n",
    "\n",
    "<br>"
   ]
  },
  {
   "cell_type": "markdown",
   "metadata": {},
   "source": [
    "___\n",
    "\n",
    "## Lesson 07 Review\n",
    "\n",
    "In Lesson 07 we learned that a large number of random values can be drawn from the Normal distribution like this:"
   ]
  },
  {
   "cell_type": "code",
   "execution_count": 1,
   "metadata": {},
   "outputs": [],
   "source": [
    "import numpy as np\n",
    "from scipy import stats\n",
    "from matplotlib import pyplot as plt"
   ]
  },
  {
   "cell_type": "code",
   "execution_count": 2,
   "metadata": {},
   "outputs": [
    {
     "data": {
      "image/png": "[encoded data removed]",
      "text/plain": [
       "<Figure size 432x288 with 1 Axes>"
      ]
     },
     "metadata": {
      "needs_background": "light"
     },
     "output_type": "display_data"
    }
   ],
   "source": [
    "np.random.seed(0)\n",
    "x = np.random.randn(10000)\n",
    "\n",
    "plt.figure()\n",
    "ax = plt.axes()\n",
    "ax.hist(x, density=True, bins=21)\n",
    "ax.set_xlabel('x')\n",
    "ax.set_ylabel('Probability density')\n",
    "plt.show()"
   ]
  },
  {
   "cell_type": "markdown",
   "metadata": {},
   "source": [
    "We also learned that probabilities associated with this distribution, like $P( x > 1.5 )$, can be computed numerically like this:"
   ]
  },
  {
   "cell_type": "code",
   "execution_count": 3,
   "metadata": {},
   "outputs": [
    {
     "name": "stdout",
     "output_type": "stream",
     "text": [
      "0.0645\n"
     ]
    }
   ],
   "source": [
    "p = ( x > 1.5 ).mean()\n",
    "\n",
    "print( p )"
   ]
  },
  {
   "cell_type": "markdown",
   "metadata": {},
   "source": [
    "Finally, we learned that the same probability can be computed analytically like this:"
   ]
  },
  {
   "cell_type": "code",
   "execution_count": 4,
   "metadata": {},
   "outputs": [
    {
     "name": "stdout",
     "output_type": "stream",
     "text": [
      "0.06680720126885807\n"
     ]
    }
   ],
   "source": [
    "p = stats.norm.sf(1.5)\n",
    "\n",
    "print( p )"
   ]
  },
  {
   "cell_type": "markdown",
   "metadata": {},
   "source": [
    "<br>\n",
    "<br>\n",
    "\n",
    "___\n",
    "\n",
    "## Lesson 08 Review\n",
    "    \n",
    "In Lesson 08 we learned that:\n",
    "\n",
    "* Hypothesis testing tests a null hypothesis ($H_0$)\n",
    "* A null hypothesis is a specific experimental prediction, like: ($H_0: x = c$)\n",
    "* A hypothesis test produces a p value\n",
    "* $H_0$ is rejected when $p < \\alpha$  $ \\ \\ \\ \\ $ (usually $\\alpha=0.05$)"
   ]
  },
  {
   "cell_type": "markdown",
   "metadata": {},
   "source": [
    "<br>\n",
    "<br>\n",
    "<br>\n",
    "\n",
    "*How are all of these concepts related?*\n",
    "\n",
    "The easiest way to answer this question is to simulate experiments. The next notebook demonstrates how to simulate a single, simple experiment. The following notebook demonstrates how to repeat the process for a large number of experiments. The last notebook in this lesson then connects the simulation concepts in this lesson to the probability and hypothesies testing concepts from the previous two lessons."
   ]
  }
 ],
 "metadata": {
  "kernelspec": {
   "display_name": "Python 3",
   "language": "python",
   "name": "python3"
  },
  "language_info": {
   "codemirror_mode": {
    "name": "ipython",
    "version": 3
   },
   "file_extension": ".py",
   "mimetype": "text/x-python",
   "name": "python",
   "nbconvert_exporter": "python",
   "pygments_lexer": "ipython3",
   "version": "3.8.3"
  }
 },
 "nbformat": 4,
 "nbformat_minor": 4
}
