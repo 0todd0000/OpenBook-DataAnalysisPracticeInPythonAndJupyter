{
 "cells": [
  {
   "cell_type": "markdown",
   "metadata": {},
   "source": [
    "# <span style=\"color:#54B1FF\">Simulating Experiments:</span> &nbsp; <span style=\"color:#1B3EA9\"><b>Meaning Of The P value</b></span>\n",
    "\n",
    "<br>\n",
    "\n",
    "To understand the meaning of classical hypothesis testing's p value, we need to simulate a number of experiments, just like in the previous notebook.  Before we do that, let's briefly reconsider the following one-sample t test results.\n",
    "\n",
    "<br>\n",
    "\n",
    "<img alt=\"one-sample\" width=400 src=\"https://i1.wp.com/www.real-statistics.com/wp-content/uploads/2012/11/one-sample-t-test-1.png?w=552\"/>\n",
    "\n",
    "<br>"
   ]
  },
  {
   "cell_type": "markdown",
   "metadata": {},
   "source": [
    "<br>\n",
    "\n",
    "The t value is: <span style=\"color:blue\">$\\hspace{5mm} t = 1.449$</span>\n",
    "\n",
    "The probability value is: <span style=\"color:blue\">$\\hspace{5mm} p = 0.088$</span>\n",
    "\n",
    "<br>\n",
    "\n",
    "In Lesson 08, we learned that the one-sample t value is defined as:\n",
    "\n",
    "<center>$t = \\frac{  \\overline{y}   - \\mu  }{  s / \\sqrt{n}  }$</center>\n",
    "\n",
    "\n",
    "Let's compute this value for each of the simulation iterations...\n",
    "\n",
    "<br>"
   ]
  },
  {
   "cell_type": "code",
   "execution_count": 1,
   "metadata": {},
   "outputs": [],
   "source": [
    "import numpy as np\n",
    "from scipy import stats\n",
    "from matplotlib import pyplot as plt"
   ]
  },
  {
   "cell_type": "code",
   "execution_count": 2,
   "metadata": {},
   "outputs": [
    {
     "name": "stdout",
     "output_type": "stream",
     "text": [
      "[ 2.68936728  0.17287614  0.26899574 -0.46519114 -1.90714838 -1.84713915\n",
      " -1.12772239  2.49083464  0.50702536  3.22500899]\n"
     ]
    }
   ],
   "source": [
    "N      = 10      # number of experiments\n",
    "n      = 12      # sample size\n",
    "mu     = 0       # when H0 is true, the mean is zero\n",
    "sigma  = 11.155  # assumed true standard deviation\n",
    "\n",
    "\n",
    "np.random.seed(0)\n",
    "tt     = []      # a list that will hold t values for each simulated experiment\n",
    "for i in range(N):\n",
    "    y  = mu + sigma * np.random.randn(n)  # random data sample\n",
    "    m  = y.mean()                      # sample mean\n",
    "    t  = (y.mean() - mu) / (  y.std(ddof=1) / n**0.5  )\n",
    "    tt.append( t )\n",
    "\n",
    "tt     = np.array( tt ) \n",
    "\n",
    "print(tt)"
   ]
  },
  {
   "cell_type": "markdown",
   "metadata": {},
   "source": [
    "<br>\n",
    "<br>\n",
    "\n",
    "Note that, like the sample mean, the t value also fluctuates.\n",
    "\n",
    "Note also that we have begun to accumulate a distribution of t values, one value for each simulated experiment.  There are only 10 values now, so let's increase the number of experiments to 1000, then check the distribution... \n",
    "\n",
    "<br>"
   ]
  },
  {
   "cell_type": "code",
   "execution_count": 3,
   "metadata": {},
   "outputs": [
    {
     "data": {
      "image/png": "[encoded data removed]",
      "text/plain": [
       "<Figure size 432x288 with 1 Axes>"
      ]
     },
     "metadata": {
      "needs_background": "light"
     },
     "output_type": "display_data"
    }
   ],
   "source": [
    "N      = 1000    # number of experiments\n",
    "\n",
    "\n",
    "np.random.seed(0)\n",
    "tt     = []      # a list that will hold t values for each simulated experiment\n",
    "for i in range(N):\n",
    "    y  = mu + sigma * np.random.randn(n)  # random data sample\n",
    "    m  = y.mean()                         # sample mean\n",
    "    t  = (y.mean() - mu) / (  y.std(ddof=1) / n**0.5  )\n",
    "    tt.append( t )\n",
    "\n",
    "tt     = np.array( tt ) \n",
    "\n",
    "\n",
    "plt.figure()\n",
    "ax = plt.axes()\n",
    "ax.hist(tt, bins=21, density=True, range=(-4, 4))\n",
    "ax.set_xlabel('t value')\n",
    "ax.set_ylabel('Probability density')\n",
    "plt.show()"
   ]
  },
  {
   "cell_type": "markdown",
   "metadata": {},
   "source": [
    "<br>\n",
    "<br>\n",
    "\n",
    "Note that, similar to the Normal distribution, most t values are close to zero, and very few values are greater than 3.0.\n",
    "\n",
    "In Lesson 07 we learned that probability values can be computed numerically from distributions like this (see **\"Numerical probability calculations in Python\"**).\n",
    "\n",
    "Let's first compute the probability that the t value is greater than zero:\n",
    "\n",
    "<br>"
   ]
  },
  {
   "cell_type": "code",
   "execution_count": 4,
   "metadata": {},
   "outputs": [
    {
     "name": "stdout",
     "output_type": "stream",
     "text": [
      "0.469\n"
     ]
    }
   ],
   "source": [
    "p = ( tt > 0 ).mean()\n",
    "\n",
    "print(p)"
   ]
  },
  {
   "cell_type": "markdown",
   "metadata": {},
   "source": [
    "<br>\n",
    "<br>\n",
    "\n",
    "This probability value is close to 50\\%.\n",
    "\n",
    "This implies that about half of experiments are expected to produce $t>0$.\n",
    "\n",
    "<br>\n",
    "\n",
    "**How about the t value from the experiment?**\n",
    "\n",
    "We can see in the table above that the t value from that experiment was: <span style=\"color:blue\">$\\hspace{5mm} t = 1.449$</span>\n",
    "\n",
    "What is the probablity that the t value (in many experiments) is larger than this experimental t value? \n",
    "\n",
    "<br>"
   ]
  },
  {
   "cell_type": "code",
   "execution_count": 5,
   "metadata": {},
   "outputs": [
    {
     "name": "stdout",
     "output_type": "stream",
     "text": [
      "0.076\n"
     ]
    }
   ],
   "source": [
    "p = ( tt > 1.449 ).mean()\n",
    "\n",
    "print(p)"
   ]
  },
  {
   "cell_type": "markdown",
   "metadata": {},
   "source": [
    "<br>\n",
    "<br>\n",
    "\n",
    "This is not exactly the same value as reported in the experimental results (<span style=\"color:blue\">$\\hspace{5mm} p = 0.088 \\hspace{5mm}$</span>), but it's close!\n",
    "\n",
    "Let's increase the number of experiments to $N=10,000$, then re-check the numerical probability.\n",
    "\n",
    "<br>"
   ]
  },
  {
   "cell_type": "code",
   "execution_count": 6,
   "metadata": {},
   "outputs": [
    {
     "data": {
      "image/png": "[encoded data removed]",
      "text/plain": [
       "<Figure size 432x288 with 1 Axes>"
      ]
     },
     "metadata": {
      "needs_background": "light"
     },
     "output_type": "display_data"
    }
   ],
   "source": [
    "N      = 10000    # number of experiments\n",
    "\n",
    "\n",
    "np.random.seed(0)\n",
    "tt     = []      # a list that will hold t values for each simulated experiment\n",
    "for i in range(N):\n",
    "    y  = mu + sigma * np.random.randn(n)  # random data sample\n",
    "    m  = y.mean()                         # sample mean\n",
    "    t  = (y.mean() - mu) / (  y.std(ddof=1) / n**0.5  )\n",
    "    tt.append( t )\n",
    "\n",
    "tt     = np.array( tt ) \n",
    "\n",
    "\n",
    "plt.figure()\n",
    "ax = plt.axes()\n",
    "ax.hist(tt, bins=21, density=True, range=(-4, 4))\n",
    "ax.set_xlabel('t value')\n",
    "ax.set_ylabel('Probability density')\n",
    "plt.show()"
   ]
  },
  {
   "cell_type": "code",
   "execution_count": 7,
   "metadata": {},
   "outputs": [
    {
     "name": "stdout",
     "output_type": "stream",
     "text": [
      "0.0904\n"
     ]
    }
   ],
   "source": [
    "p = ( tt > 1.449 ).mean()\n",
    "\n",
    "print(p)"
   ]
  },
  {
   "cell_type": "markdown",
   "metadata": {},
   "source": [
    "<br>\n",
    "<br>\n",
    "\n",
    "This is much closer to the reported p value !  (<span style=\"color:blue\">$\\hspace{5mm} p = 0.088 \\hspace{5mm}$</span>)\n",
    "\n",
    "&nbsp;\n",
    "\n",
    "This implies that the p value means the following:\n",
    "\n",
    "🟢🟢🟢🟢🟢🟢  <span style=\"color:green\">!!! IMPORTANT !!!</span>\n",
    "\n",
    "The p value represents <span style=\"color:blue\">the proportion of an infinite number of experiments that produce $(t > t_\\mathrm{observed})$ when $H_0$ is true</span>, where $t_\\mathrm{observed}$ is the experimentally observed t value.\n",
    "\n",
    "🟢🟢🟢🟢🟢🟢\n",
    "\n",
    "<br>\n",
    "<br>\n",
    "\n",
    "Let's finally check how the numerical distribution above relates to mathematical theory...\n",
    "\n",
    "<br>"
   ]
  },
  {
   "cell_type": "markdown",
   "metadata": {},
   "source": [
    "<br>\n",
    "<br>\n",
    "\n",
    "___\n",
    "\n",
    "## Analytical and numerical t distributions\n",
    "\n",
    "The example above shows a numerical t distribution.\n",
    "\n",
    "In **Lesson 07** we learned that many numerically-generated distributions have corresponding analytical distributions.\n",
    "\n",
    "For the t value, the analytical distribution is called the [Student's t distribution](https://en.wikipedia.org/wiki/Student%27s_t-distribution).  As shown in the figure below, the Student's t distribution is parameterized by the \"degrees of freedom\" ($\\nu$); this parameter affect the distribution's shape.\n",
    "\n",
    "\n",
    "<img alt=\"tdist\" width=300 src=\"https://upload.wikimedia.org/wikipedia/commons/thumb/4/41/Student_t_pdf.svg/650px-Student_t_pdf.svg.png\">\n",
    "\n",
    "<br>\n",
    "\n",
    "For the one-sample t test:  $\\nu = n - 1$.\n",
    "\n",
    "\n",
    "<br>\n",
    "\n",
    "Let's compare the numerical and analytical distributions...\n",
    "\n",
    "(See  <span style=\"color:blue\">**\"Sum-of-squares and the $\\chi^2$ distribution\"**</span> in  **Lesson 07** for a similar example.)\n",
    "\n",
    "<br>"
   ]
  },
  {
   "cell_type": "code",
   "execution_count": 8,
   "metadata": {},
   "outputs": [
    {
     "data": {
      "image/png": "[encoded data removed]",
      "text/plain": [
       "<Figure size 432x288 with 1 Axes>"
      ]
     },
     "metadata": {
      "needs_background": "light"
     },
     "output_type": "display_data"
    }
   ],
   "source": [
    "nu    = n - 1                   # degrees of freedom\n",
    "x     = np.linspace(-4, 4, 51)  # t value range\n",
    "pdf   = stats.t.pdf(x, nu)      # analytical PDF for the Student's t distribution\n",
    "\n",
    "\n",
    "\n",
    "plt.figure()\n",
    "ax = plt.axes()\n",
    "ax.plot(x, pdf, label='Analytical')\n",
    "ax.hist(tt, density=True, bins=21, label='Numerical', range=(-4, 4))\n",
    "ax.legend()\n",
    "ax.set_xlabel('t value')\n",
    "ax.set_ylabel('Probability density')\n",
    "plt.show()\n"
   ]
  },
  {
   "cell_type": "markdown",
   "metadata": {},
   "source": [
    "<br>\n",
    "<br>\n",
    "\n",
    "___\n",
    "\n",
    "## Summary\n",
    "\n",
    "* Experiments can be simulated numerically.\n",
    "\n",
    "* t values (and other statistics) can be computed for each simulated experiment.\n",
    "\n",
    "* When $H_0$ is true, t values from simulated experiments converge to the analytical Student's t distribution as the number of experiments increases.\n",
    "\n",
    "* A p value from hypothesis testing means: <span style=\"color:blue\">the proportion of an infinite number of experiments that produce $(z > z_\\mathrm{observed})$ when $H_0$ is true</span>, where $z$ is a test statistic like the t statistic\n"
   ]
  }
 ],
 "metadata": {
  "kernelspec": {
   "display_name": "Python 3",
   "language": "python",
   "name": "python3"
  },
  "language_info": {
   "codemirror_mode": {
    "name": "ipython",
    "version": 3
   },
   "file_extension": ".py",
   "mimetype": "text/x-python",
   "name": "python",
   "nbconvert_exporter": "python",
   "pygments_lexer": "ipython3",
   "version": "3.8.3"
  }
 },
 "nbformat": 4,
 "nbformat_minor": 4
}
