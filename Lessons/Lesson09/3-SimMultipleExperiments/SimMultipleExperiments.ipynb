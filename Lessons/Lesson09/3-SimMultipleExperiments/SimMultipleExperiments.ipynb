{
 "cells": [
  {
   "cell_type": "markdown",
   "metadata": {},
   "source": [
    "# <span style=\"color:#54B1FF\">Simulating Experiments:</span> &nbsp; <span style=\"color:#1B3EA9\"><b>Multiple Experiments</b></span>\n",
    "\n",
    "<br>\n",
    "\n",
    "This notebook simulates multiple one-sample experiments.\n",
    "\n",
    "Let's first check what happens to the sample mean as the number of experiments ($N$) increases.\n",
    "\n",
    "<br>"
   ]
  },
  {
   "cell_type": "code",
   "execution_count": 1,
   "metadata": {},
   "outputs": [],
   "source": [
    "import numpy as np\n",
    "from scipy import stats\n",
    "from matplotlib import pyplot as plt"
   ]
  },
  {
   "cell_type": "code",
   "execution_count": 2,
   "metadata": {},
   "outputs": [
    {
     "name": "stdout",
     "output_type": "stream",
     "text": [
      "Sample means (10 iterations)\n",
      "[ 8.34630931  0.58660708  1.06815274 -1.76997893 -3.95497179 -4.6111915\n",
      " -3.17715984  6.91035231  2.0162656   9.3784553 ]\n",
      "\n",
      "Mean of all simulation results:  1.4792840278822272\n"
     ]
    }
   ],
   "source": [
    "N      = 10      # number of experiments\n",
    "n      = 12      # sample size\n",
    "mu     = 0       # when H0 is true, the mean is zero\n",
    "sigma  = 11.155  # assumed true standard deviation\n",
    "\n",
    "\n",
    "np.random.seed(0)\n",
    "mm     = []      # a list that will hold sample mean values\n",
    "for i in range(N):\n",
    "    y  = mu + sigma * np.random.randn(n)  # random data sample\n",
    "    m  = y.mean()                      # sample mean\n",
    "    mm.append( m )\n",
    "\n",
    "mm     = np.array( mm ) \n",
    "\n",
    "print('Sample means (%d iterations)' % N)\n",
    "print(mm)\n",
    "print()\n",
    "print( 'Mean of all simulation results: ', mm.mean() )"
   ]
  },
  {
   "cell_type": "markdown",
   "metadata": {},
   "source": [
    "<br>\n",
    "<br>\n",
    "\n",
    "Note that the sample mean fluctuates around its true value of zero;  sometimes it is larger than the true value, and sometimes it is smaller.\n",
    "\n",
    "Let's repeat this for a range of $N$ values, but first let's create a \"simulate\" function to make the code easier to read.\n",
    "\n",
    "<br>"
   ]
  },
  {
   "cell_type": "code",
   "execution_count": 3,
   "metadata": {},
   "outputs": [
    {
     "name": "stdout",
     "output_type": "stream",
     "text": [
      "[ 8.34630931  0.58660708  1.06815274 -1.76997893 -3.95497179 -4.6111915\n",
      " -3.17715984  6.91035231  2.0162656   9.3784553 ]\n",
      "\n",
      "Mean of all simulation results:  1.4792840278822272\n"
     ]
    }
   ],
   "source": [
    "def simulate(N):\n",
    "    mm     = []\n",
    "    for i in range(N):\n",
    "        y  = mu + sigma * np.random.randn(n)  # random data sample\n",
    "        m  = y.mean()                      # sample mean\n",
    "        mm.append( m )\n",
    "    return np.array( mm ) \n",
    "\n",
    "\n",
    "np.random.seed(0)\n",
    "mm = simulate(10)\n",
    "\n",
    "print(mm)\n",
    "print()\n",
    "print( 'Mean of all simulation results: ', mm.mean() )"
   ]
  },
  {
   "cell_type": "markdown",
   "metadata": {},
   "source": [
    "<br>\n",
    "<br>\n",
    "\n",
    "Note that these results are the same as above.  Good!  Now let's repeat the simulation for a variety of $N$ values. For each value of $N$ we will save just the average value across all $N$ experiments.\n",
    "\n",
    "Note that the code below uses a [list comprehension](https://www.pythonforbeginners.com/basics/list-comprehensions-in-python) instead of a [for loop](https://www.learnpython.org/en/Loops) for more compact Python code.\n",
    "\n",
    "<br>"
   ]
  },
  {
   "cell_type": "code",
   "execution_count": 4,
   "metadata": {},
   "outputs": [
    {
     "data": {
      "image/png": "[encoded data removed]",
      "text/plain": [
       "<Figure size 432x288 with 1 Axes>"
      ]
     },
     "metadata": {
      "needs_background": "light"
     },
     "output_type": "display_data"
    }
   ],
   "source": [
    "NN     = np.array( [5, 10, 20, 30, 40, 50, 100, 200, 300, 400, 500, 600, 700, 800, 900, 1000])   # number of experiments\n",
    "\n",
    "np.random.seed(0)\n",
    "MM     = np.array(  [simulate(N).mean() for N in NN]  )\n",
    "\n",
    "\n",
    "\n",
    "plt.figure()\n",
    "ax     = plt.axes()\n",
    "ax.plot(NN, MM, 'o', color='blue')\n",
    "ax.axhline(0, color='black', linestyle=':')\n",
    "ax.set_xlabel('N')\n",
    "ax.set_title('Average sample mean')\n",
    "plt.show()"
   ]
  },
  {
   "cell_type": "markdown",
   "metadata": {},
   "source": [
    "<br>\n",
    "<br>\n",
    "\n",
    "Note that the average sample mean tends to get closer to its true value of zero as $N$ increases.\n",
    "\n",
    "This trend is more obvious when plotting the absolute error <span style=\"color:blue\">$| \\overline{y} - \\mu |$</span> like this:\n",
    "\n",
    "<br>"
   ]
  },
  {
   "cell_type": "code",
   "execution_count": 5,
   "metadata": {},
   "outputs": [
    {
     "data": {
      "image/png": "[encoded data removed]",
      "text/plain": [
       "<Figure size 432x288 with 1 Axes>"
      ]
     },
     "metadata": {
      "needs_background": "light"
     },
     "output_type": "display_data"
    }
   ],
   "source": [
    "plt.figure()\n",
    "ax     = plt.axes()\n",
    "ax.plot(NN, np.abs(MM - mu), 'o', color='blue')\n",
    "ax.axhline(0, color='black', linestyle=':')\n",
    "ax.set_xlabel('N')\n",
    "ax.set_title('Average sample mean')\n",
    "plt.show()"
   ]
  },
  {
   "cell_type": "markdown",
   "metadata": {},
   "source": [
    "<br>\n",
    "<br>\n",
    "\n",
    "These results show that, on average, the sample mean ($\\overline{y}$), converges to its true value ($\\mu$) as the number of experiments increases ($N$).\n",
    "\n",
    "<br>\n",
    "\n",
    "<span style=\"color:red\">Congratulations!!!</span>  You have just learned the most important principle of classical hypothesis testing.\n",
    "\n",
    "<br>\n",
    "\n",
    "The principle can be stated more generally as follows:\n",
    "\n",
    "<span style=\"color:red\">Small sample descriptors</span> (like the sample mean) <span style=\"color:red\">converge to their true, population values as the number of experiments approaches $\\infty$.</span>\n",
    "\n",
    "<br>\n",
    "\n",
    "Great!  Now we are ready to consider the meaning of hypotheses testing's p values. This is considered in the next notebook."
   ]
  }
 ],
 "metadata": {
  "kernelspec": {
   "display_name": "Python 3",
   "language": "python",
   "name": "python3"
  },
  "language_info": {
   "codemirror_mode": {
    "name": "ipython",
    "version": 3
   },
   "file_extension": ".py",
   "mimetype": "text/x-python",
   "name": "python",
   "nbconvert_exporter": "python",
   "pygments_lexer": "ipython3",
   "version": "3.8.3"
  }
 },
 "nbformat": 4,
 "nbformat_minor": 4
}
