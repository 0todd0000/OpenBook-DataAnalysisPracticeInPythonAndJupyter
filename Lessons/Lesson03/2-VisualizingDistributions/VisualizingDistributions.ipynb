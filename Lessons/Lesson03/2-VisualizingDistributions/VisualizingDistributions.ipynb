{
 "cells": [
  {
   "cell_type": "markdown",
   "metadata": {},
   "source": [
    "# <span style=\"color:#54B1FF\">Python:</span> &nbsp; <span style=\"color:#1B3EA9\"><b>Visualizing distributions</b></span>\n",
    "\n",
    "<br>\n",
    "\n",
    "[Matplotlib](https://matplotlib.org) is the standard package for scientific data visualization in Python. Many other excellent data visualization packages exist, including [Seaborn](https://seaborn.pydata.org), for example, but we will focus on Matplotlib for simplicity.\n",
    "\n",
    "Matplotlib's `hist` and `boxplot` functions are convenient for visualizing distributions, as demonstrated below.\n",
    "\n",
    "Matplotlib can be used to create many other different kinds of visualizations. For a comprehensive set of possibilities, refer to the [Matplotlib gallery](https://matplotlib.org/gallery.html)."
   ]
  },
  {
   "cell_type": "markdown",
   "metadata": {},
   "source": [
    "___\n",
    "\n",
    "## Histograms\n",
    "\n",
    "Histograms can be created using the `plt.hist` command, like this:"
   ]
  },
  {
   "cell_type": "code",
   "execution_count": 4,
   "metadata": {},
   "outputs": [
    {
     "data": {
      "image/png": "[encoded data removed]",
      "text/plain": [
       "<Figure size 432x288 with 1 Axes>"
      ]
     },
     "metadata": {
      "needs_background": "light"
     },
     "output_type": "display_data"
    }
   ],
   "source": [
    "import numpy as np\n",
    "from matplotlib import pyplot as plt\n",
    "\n",
    "np.random.seed(0)\n",
    "x = np.random.randn(1000)\n",
    "\n",
    "plt.figure()\n",
    "plt.hist(x)\n",
    "plt.show()"
   ]
  },
  {
   "cell_type": "markdown",
   "metadata": {},
   "source": [
    "In the cell above:\n",
    "\n",
    "* `plt.figure()` : creates a new figure\n",
    "* `plt.hist(x)` : creates a histogram based on the data in `x`\n",
    "* `plt.show()` : displays the figure in the notebook\n",
    "\n",
    "Note that neither `plt.figure()` nor `plt.show()` are strictly necessary for displaying figures in Jupyter notebooks. Nevertheless, these commands are used to emphasize that figure initialization and figure completion.\n",
    "\n",
    "Also, if you generate figures outside of Jupyter notebooks, for example in a standard Python script, then `plt.figure()` and `plt.show()` are usually necessary. \n",
    "\n",
    "Returning to histograms, note that various histogram properties can be changed. For example, the number of histogram bins can be changed using the `bins` keywords argument, like this;"
   ]
  },
  {
   "cell_type": "code",
   "execution_count": 9,
   "metadata": {},
   "outputs": [
    {
     "data": {
      "image/png": "[encoded data removed]",
      "text/plain": [
       "<Figure size 432x288 with 1 Axes>"
      ]
     },
     "metadata": {
      "needs_background": "light"
     },
     "output_type": "display_data"
    }
   ],
   "source": [
    "plt.figure()\n",
    "plt.hist(x, bins=31)\n",
    "plt.show()"
   ]
  },
  {
   "cell_type": "markdown",
   "metadata": {},
   "source": [
    "For more histogram customization options, refer to Matplotlib's [histogram documentation](https://matplotlib.org/3.3.1/api/_as_gen/matplotlib.pyplot.hist.html)."
   ]
  },
  {
   "cell_type": "markdown",
   "metadata": {},
   "source": [
    "___\n",
    "\n",
    "## Boxplots\n",
    "\n",
    "Another good way to visualize distributions is to use [box plots](https://en.wikipedia.org/wiki/Box_plot), which display various summary characteristics of a distribution including, for example, its mean, standard deviation, range, etc.\n",
    "\n",
    "Un \n"
   ]
  },
  {
   "cell_type": "code",
   "execution_count": 11,
   "metadata": {},
   "outputs": [
    {
     "data": {
      "image/png": "[encoded data removed]",
      "text/plain": [
       "<Figure size 432x288 with 1 Axes>"
      ]
     },
     "metadata": {
      "needs_background": "light"
     },
     "output_type": "display_data"
    }
   ],
   "source": [
    "plt.figure()\n",
    "plt.boxplot(x)\n",
    "plt.show()"
   ]
  },
  {
   "cell_type": "markdown",
   "metadata": {},
   "source": [
    "By default, `boxplot` displays the median (orange), the lower and upper quartiles (as wide horizontal black lines) and whiskers (as narrow horizontal black lines), where a \"whisker\" is 1.5 times the inter-quartile range. Data points lying beyond the whiskers are termed \"outliers\" or \"fliers\", and are plotted as circles.\n",
    "\n",
    "You can customize boxplots in various ways, including for example by emphasizing the median with a notch:"
   ]
  },
  {
   "cell_type": "code",
   "execution_count": 14,
   "metadata": {},
   "outputs": [
    {
     "data": {
      "image/png": "[encoded data removed]",
      "text/plain": [
       "<Figure size 432x288 with 1 Axes>"
      ]
     },
     "metadata": {
      "needs_background": "light"
     },
     "output_type": "display_data"
    }
   ],
   "source": [
    "plt.figure()\n",
    "plt.boxplot(x, notch=True)\n",
    "plt.show()"
   ]
  },
  {
   "cell_type": "markdown",
   "metadata": {},
   "source": [
    "For additional customization options, refer to Matplotlib's [boxplot documentation](https://matplotlib.org/3.3.2/api/_as_gen/matplotlib.pyplot.boxplot.html)."
   ]
  }
 ],
 "metadata": {
  "kernelspec": {
   "display_name": "Python 3",
   "language": "python",
   "name": "python3"
  },
  "language_info": {
   "codemirror_mode": {
    "name": "ipython",
    "version": 3
   },
   "file_extension": ".py",
   "mimetype": "text/x-python",
   "name": "python",
   "nbconvert_exporter": "python",
   "pygments_lexer": "ipython3",
   "version": "3.7.10"
  },
  "widgets": {
   "application/vnd.jupyter.widget-state+json": {
    "state": {},
    "version_major": 2,
    "version_minor": 0
   }
  }
 },
 "nbformat": 4,
 "nbformat_minor": 4
}
