{
 "cells": [
  {
   "cell_type": "markdown",
   "metadata": {},
   "source": [
    "# <span style=\"color:#54B1FF\">Parsing data:</span> &nbsp; <span style=\"color:#1B3EA9\"><b>HTML files</b></span>\n",
    "\n",
    "<br>\n",
    "\n",
    "[HTML](https://en.wikipedia.org/wiki/HTML) is a text-file format that is used widely as the main format for internet sites.\n",
    "\n",
    "This notebook demonstrates how to parse relatively simple HTML files.\n",
    "<br>\n",
    "\n",
    "⚠️ **NOTE!**  &nbsp; &nbsp; All data files are saved in the same directory as this notebook.\n"
   ]
  },
  {
   "cell_type": "markdown",
   "metadata": {},
   "source": [
    "___\n",
    "\n",
    "First let's import the modules we'll need for this lecture."
   ]
  },
  {
   "cell_type": "code",
   "execution_count": 1,
   "metadata": {},
   "outputs": [],
   "source": [
    "import lxml.html"
   ]
  },
  {
   "cell_type": "markdown",
   "metadata": {},
   "source": [
    "<a name=\"toc\"></a>\n",
    "# Table of Contents\n",
    "\n",
    "* [Simple HTML](#html-simple)\n",
    "* [HTML attributes](#html-attributes)\n"
   ]
  },
  {
   "cell_type": "markdown",
   "metadata": {},
   "source": [
    "___\n",
    "<a name=\"html\"></a>\n",
    "# HTML\n",
    "[Back to Table of Contents](#toc)\n",
    "<br>\n",
    "\n"
   ]
  },
  {
   "cell_type": "markdown",
   "metadata": {},
   "source": [
    "___\n",
    "<a name=\"html-simple\"></a>\n",
    "## `html` <span style=\"background-color:powderblue;\">Simple HTML</span>\n",
    "[Back to Table of Contents](#toc)\n",
    "<br>\n",
    "\n",
    "The file `data4.html` contains the following text:\n",
    "\n",
    "<br>\n",
    "\n",
    "```\n",
    "<html lang=\"en\">\n",
    "\t<head>\n",
    "\t\t<title>Example web page.</title>\n",
    "\t</head>\n",
    "\t<body>\n",
    "\t\t<p><b>This is an example HTML data file</b></p>\n",
    "\t\t<p>Mass = 65 kg</p>\n",
    "\t\t<p>Height = 170 cm</p>\n",
    "\t</body>\n",
    "</html>\n",
    "```\n",
    "\n",
    "<br>\n",
    "\n",
    "This file, when opened in a web browser, looks like this:\n",
    "\n",
    "\n",
    "<br>\n",
    "<br>\n",
    "\n",
    "<img alt=\"html_example\" width=600 src=\"html_screenshot1.png\"/>\n",
    "\n",
    "<br>\n",
    "<br>\n",
    "\n",
    "To view the underlying HTML code, open the HTML file in a text editor like Notepad or Wordpad.\n",
    "\n",
    "Let's use `lxml.html` to parse this HTML file and try to retrieve the mass and height data."
   ]
  },
  {
   "cell_type": "code",
   "execution_count": 2,
   "metadata": {},
   "outputs": [
    {
     "name": "stdout",
     "output_type": "stream",
     "text": [
      "<lxml.etree._ElementTree object at 0x7fd9f8372f80>\n"
     ]
    }
   ],
   "source": [
    "tree      = lxml.html.parse('data4.html')\n",
    "print(tree)"
   ]
  },
  {
   "cell_type": "markdown",
   "metadata": {},
   "source": [
    "All HTML contents are now saved as an `ElementTree` object in the `tree` variable.\n",
    "\n",
    "To retrieve a specific node from the element tree, use `find` like this:"
   ]
  },
  {
   "cell_type": "code",
   "execution_count": 3,
   "metadata": {},
   "outputs": [
    {
     "name": "stdout",
     "output_type": "stream",
     "text": [
      "<Element title at 0x7fd9f8443590>\n"
     ]
    }
   ],
   "source": [
    "head = tree.find('head')\n",
    "title = head.find('title')\n",
    "\n",
    "print(title)"
   ]
  },
  {
   "cell_type": "markdown",
   "metadata": {},
   "source": [
    "To access the text for this element, use the `text` attribute:"
   ]
  },
  {
   "cell_type": "code",
   "execution_count": 4,
   "metadata": {},
   "outputs": [
    {
     "name": "stdout",
     "output_type": "stream",
     "text": [
      "Example web page.\n"
     ]
    }
   ],
   "source": [
    "s = title.text\n",
    "print( s )"
   ]
  },
  {
   "cell_type": "markdown",
   "metadata": {},
   "source": [
    "Alternatively, you can access nested elements like this:"
   ]
  },
  {
   "cell_type": "code",
   "execution_count": 5,
   "metadata": {},
   "outputs": [
    {
     "name": "stdout",
     "output_type": "stream",
     "text": [
      "<Element title at 0x7fd9f8443590>\n",
      "<Element title at 0x7fd9f8443590>\n"
     ]
    }
   ],
   "source": [
    "print( tree.find('head').find('title') )\n",
    "print( tree.find('head/title') )\n"
   ]
  },
  {
   "cell_type": "markdown",
   "metadata": {},
   "source": [
    "Thus specific elemets' text can be retrieved using a single command line like this:"
   ]
  },
  {
   "cell_type": "code",
   "execution_count": 6,
   "metadata": {},
   "outputs": [
    {
     "name": "stdout",
     "output_type": "stream",
     "text": [
      "Example web page.\n"
     ]
    }
   ],
   "source": [
    "s = tree.find('head/title').text\n",
    "print(s)"
   ]
  },
  {
   "cell_type": "markdown",
   "metadata": {},
   "source": [
    "Next let's extract all of the text from the body paragraphs (i.e. all `<p>` elements).  For this, the `finall` function is convenient."
   ]
  },
  {
   "cell_type": "code",
   "execution_count": 7,
   "metadata": {},
   "outputs": [
    {
     "name": "stdout",
     "output_type": "stream",
     "text": [
      "[<Element p at 0x7fd9f8443bd0>, <Element p at 0x7fd9f8443770>, <Element p at 0x7fd9f8443f90>]\n"
     ]
    }
   ],
   "source": [
    "elements = tree.findall('body/p')\n",
    "\n",
    "print(elements)"
   ]
  },
  {
   "cell_type": "markdown",
   "metadata": {},
   "source": [
    "Note that three elements are found because there are three paragraphs. The text can be retrieved, similar to above, as follows:"
   ]
  },
  {
   "cell_type": "code",
   "execution_count": 8,
   "metadata": {},
   "outputs": [
    {
     "name": "stdout",
     "output_type": "stream",
     "text": [
      "[None, 'Mass = 65 kg', 'Height = 170 cm']\n"
     ]
    }
   ],
   "source": [
    "s = [e.text for e in tree.findall('body/p')]\n",
    "\n",
    "print(s)"
   ]
  },
  {
   "cell_type": "markdown",
   "metadata": {},
   "source": [
    "Note that no text appears for the first `<p>` element, because there is a `<b>` (bold) element inside the `<p>` element:"
   ]
  },
  {
   "cell_type": "code",
   "execution_count": 9,
   "metadata": {},
   "outputs": [
    {
     "name": "stdout",
     "output_type": "stream",
     "text": [
      "This is an example HTML data file\n"
     ]
    }
   ],
   "source": [
    "print( tree.findall('body/p/b')[0].text )"
   ]
  },
  {
   "cell_type": "markdown",
   "metadata": {},
   "source": [
    "For this example, we only want the mass and height data, so we can ignore the first `<p>` element. The second and third elements contain the following text:"
   ]
  },
  {
   "cell_type": "code",
   "execution_count": 10,
   "metadata": {},
   "outputs": [
    {
     "name": "stdout",
     "output_type": "stream",
     "text": [
      "Mass = 65 kg\n",
      "Height = 170 cm\n"
     ]
    }
   ],
   "source": [
    "s1 = s[1]\n",
    "s2 = s[2]\n",
    "\n",
    "print(s1)\n",
    "print(s2)"
   ]
  },
  {
   "cell_type": "markdown",
   "metadata": {},
   "source": [
    "One way to retrieve the values is to use the `split` function, as above for the simple [open](#open-simple-csv) function."
   ]
  },
  {
   "cell_type": "code",
   "execution_count": 11,
   "metadata": {},
   "outputs": [
    {
     "name": "stdout",
     "output_type": "stream",
     "text": [
      "['Mass', '=', '65', 'kg']\n",
      "['Height', '=', '170', 'cm']\n"
     ]
    }
   ],
   "source": [
    "print( s1.split(' ') )\n",
    "print( s2.split(' ') )"
   ]
  },
  {
   "cell_type": "markdown",
   "metadata": {},
   "source": [
    "The mass and height are the third items in these lists. We can retrieve them as integers, like this:"
   ]
  },
  {
   "cell_type": "code",
   "execution_count": 12,
   "metadata": {},
   "outputs": [
    {
     "name": "stdout",
     "output_type": "stream",
     "text": [
      "65 170\n"
     ]
    }
   ],
   "source": [
    "mass   = int( s1.split(' ')[2] )\n",
    "height = int( s2.split(' ')[2] )\n",
    "\n",
    "print( mass, height )"
   ]
  },
  {
   "cell_type": "markdown",
   "metadata": {},
   "source": [
    "Putting everything together, we have:"
   ]
  },
  {
   "cell_type": "code",
   "execution_count": 13,
   "metadata": {},
   "outputs": [
    {
     "name": "stdout",
     "output_type": "stream",
     "text": [
      "65 170\n"
     ]
    }
   ],
   "source": [
    "tree      = lxml.html.parse('data4.html')\n",
    "elements  = tree.findall('body/p')\n",
    "mass      = int( elements[1].text.split(' ')[2] )\n",
    "height    = int( elements[2].text.split(' ')[2] )\n",
    "\n",
    "print(mass, height)"
   ]
  },
  {
   "cell_type": "markdown",
   "metadata": {},
   "source": [
    "___\n",
    "<a name=\"html-attributes\"></a>\n",
    "## `html` <span style=\"background-color:powderblue;\">HTML attributes</span>\n",
    "[Back to Table of Contents](#toc)\n",
    "<br>\n",
    "\n",
    "\n",
    "Attributes are variables that are associated with specific elements, and which --- like elements --- are not visible in rendered HTML files (i.e. when viewing HTML files in a web browser).\n",
    "\n",
    "Although they cannot be seen in web browsers, they can be very useful for parsing HTML files, as we shall see in the example below.\n",
    "\n",
    "<br> \n",
    "\n",
    "The file `data5.html` contains the following text:\n",
    "\n",
    "<br>\n",
    "\n",
    "```\n",
    "<html>\n",
    "\t<head>\n",
    "\t\t<title>Example HTML file with attributes</title>\n",
    "\t</head>\n",
    "\t<body>\n",
    "\t\t<h2>HTML file with attributes</h2>\n",
    "\t\t<p>\n",
    "\t\t\t<button id=\"X Button\">X Button 1</button>\n",
    "\t\t\t<span>45</span>\n",
    "\t\t</p>\n",
    "\t\t<p>\n",
    "\t\t\t<button id=\"X Button\">X Button 2</button>\n",
    "\t\t\t<span>90</span>\n",
    "\t\t</p>\n",
    "\t\t<p>\n",
    "\t\t\t<button id=\"X Button\">X Button 3</button>\n",
    "\t\t\t<span>23</span>\n",
    "\t\t</p>\n",
    "\t\t<p>\n",
    "\t\t\t<button id=\"Y Button\">Y Button 1</button>\n",
    "\t\t\t<span>40</span>\n",
    "\t\t</p>\n",
    "\t\t<p>\n",
    "\t\t\t<button id=\"Y Button\">Y Button 2</button>\n",
    "\t\t\t<span>55</span>\n",
    "\t\t</p>\n",
    "\t\t<p>\n",
    "\t\t\t<button id=\"X Button\">X Button 4</button>\n",
    "\t\t\t<span>64</span>\n",
    "\t\t</p>\n",
    "\t</body>\n",
    "</html>\n",
    "```\n",
    "\n",
    "<br>\n",
    "\n",
    "This file, when opened in a web browser, looks like this:\n",
    "\n",
    "\n",
    "<br>\n",
    "<br>\n",
    "\n",
    "<img alt=\"html_example\" width=600 src=\"html_screenshot2.png\"/>\n",
    "\n",
    "\n",
    "<br>\n",
    "<br>\n",
    "\n",
    "\n",
    "The goal here will be to extract only the \"X Button\" values. We shall ignore the \"Y Button\" values."
   ]
  },
  {
   "cell_type": "code",
   "execution_count": 14,
   "metadata": {},
   "outputs": [
    {
     "name": "stdout",
     "output_type": "stream",
     "text": [
      "[<Element button at 0x7fd9f8456b80>, <Element button at 0x7fd9f8456c20>, <Element button at 0x7fd9f8456c70>, <Element button at 0x7fd9f8456bd0>, <Element button at 0x7fd9f8456b30>, <Element button at 0x7fd9f8456ae0>]\n"
     ]
    }
   ],
   "source": [
    "tree      = lxml.html.parse('data5.html')\n",
    "elements  = tree.findall('body/p/button')\n",
    "\n",
    "print(elements)"
   ]
  },
  {
   "cell_type": "markdown",
   "metadata": {},
   "source": [
    "All six buttons have been found, but we want only the four \"X Button\" values. We can check the button type using the `id` attribute:"
   ]
  },
  {
   "cell_type": "code",
   "execution_count": 15,
   "metadata": {},
   "outputs": [
    {
     "name": "stdout",
     "output_type": "stream",
     "text": [
      "X Button\n",
      "True\n"
     ]
    }
   ],
   "source": [
    "b = elements[0]\n",
    "print( b.attrib['id'] )\n",
    "print( b.attrib['id'] == 'X Button' )"
   ]
  },
  {
   "cell_type": "markdown",
   "metadata": {},
   "source": [
    "Thus we can retrieve the X buttons by checking the `id` attribute, like this: "
   ]
  },
  {
   "cell_type": "code",
   "execution_count": 16,
   "metadata": {},
   "outputs": [
    {
     "name": "stdout",
     "output_type": "stream",
     "text": [
      "[<Element button at 0x7fd9f8456b80>, <Element button at 0x7fd9f8456c20>, <Element button at 0x7fd9f8456c70>, <Element button at 0x7fd9f8456ae0>]\n"
     ]
    }
   ],
   "source": [
    "elements = [b for b in tree.findall('body/p/button') if b.attrib['id'] == 'X Button']\n",
    "\n",
    "print( elements )"
   ]
  },
  {
   "cell_type": "markdown",
   "metadata": {},
   "source": [
    "Now only the four X button elements are retrieved. Great!\n",
    "\n",
    "However, we want the values that lie in the `<span>` elements, not in the `<button>` elements, so we need to be a bit more clever in our parsing. Since both the `<button>` and `<span>` elements lie within `<p>` elements, we should parse all `<p>` elements, like this:"
   ]
  },
  {
   "cell_type": "code",
   "execution_count": 17,
   "metadata": {},
   "outputs": [
    {
     "name": "stdout",
     "output_type": "stream",
     "text": [
      "[45, 90, 23, 64]\n"
     ]
    }
   ],
   "source": [
    "data = []\n",
    "for p in tree.findall('body/p'):\n",
    "    b = p.find('button')\n",
    "    if b.attrib['id'] == 'X Button':\n",
    "        s = p.find('span').text\n",
    "        data.append( int(s) )\n",
    "        \n",
    "print(data)"
   ]
  }
 ],
 "metadata": {
  "kernelspec": {
   "display_name": "Python 3",
   "language": "python",
   "name": "python3"
  },
  "language_info": {
   "codemirror_mode": {
    "name": "ipython",
    "version": 3
   },
   "file_extension": ".py",
   "mimetype": "text/x-python",
   "name": "python",
   "nbconvert_exporter": "python",
   "pygments_lexer": "ipython3",
   "version": "3.8.3"
  }
 },
 "nbformat": 4,
 "nbformat_minor": 4
}
