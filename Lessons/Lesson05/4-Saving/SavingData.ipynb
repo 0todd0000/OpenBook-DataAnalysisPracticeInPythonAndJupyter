{
 "cells": [
  {
   "cell_type": "markdown",
   "metadata": {},
   "source": [
    "# <span style=\"color:#1B3EA9\"><b>Saving data to disk</b></span>\n",
    "\n",
    "<br>\n",
    "\n",
    "After parsing CSV, HTML, XML or other types of data, it is sometimes convenient to save the parsed data, so that the orginal data does not need to re-parsed, and thus so that future data processing can be done more efficiently. This is especially true when the original data files contain much more information (e.g. 1 GB) than the amount of information you intend to use (e.g. 1 MB).\n",
    "\n",
    "As a reminder:\n",
    "\n",
    "**parse** = \"to analyze or separate (input, for example) into more easily processed components\" (source: [wordnik.com](https://www.wordnik.com/words/parse))\n",
    "\n",
    "<br>\n",
    "\n",
    "⚠️ **WARNING!**  &nbsp; &nbsp; The directory in which this notebook is saved contains a number of CSV files (\"data*.csv\"). Running this notebook will opverwrite those files, so optionally copy the CSV files elsewhere as a backup.\n",
    "\n",
    "<br>"
   ]
  },
  {
   "cell_type": "markdown",
   "metadata": {},
   "source": [
    "___\n",
    "\n",
    "First let's import the modules we'll need for this lecture."
   ]
  },
  {
   "cell_type": "code",
   "execution_count": 1,
   "metadata": {},
   "outputs": [],
   "source": [
    "import os\n",
    "import csv\n",
    "import numpy as np"
   ]
  },
  {
   "cell_type": "markdown",
   "metadata": {},
   "source": [
    "<a name=\"toc\"></a>\n",
    "# Table of Contents\n",
    "\n",
    "* [np.savetxt](#np.savetxt)\n",
    "* [csv.writer](#csv.writer)\n",
    "* [csv.DictWriter](#csv.DictWriter)\n",
    "* [open](#open)"
   ]
  },
  {
   "cell_type": "markdown",
   "metadata": {},
   "source": [
    "___\n",
    "\n",
    "<a name=\"np.savetxt\"></a>\n",
    "## Using `np.savetxt` to save data\n",
    "[Back to Table of Contents](#toc)\n",
    "<br>\n",
    "\n",
    "The [np.savetxt](https://docs.scipy.org/doc/numpy/reference/generated/numpy.savetxt.html) function is the easiest way to read well-formatted text data.\n",
    "\n",
    "Let's first create an array of random numbers."
   ]
  },
  {
   "cell_type": "code",
   "execution_count": 2,
   "metadata": {},
   "outputs": [
    {
     "name": "stdout",
     "output_type": "stream",
     "text": [
      "[[ 1764   400   978]\n",
      " [ 2240  1867  -977]\n",
      " [  950  -151  -103]\n",
      " [  410   144  1454]\n",
      " [  761   121   443]\n",
      " [  333  1494  -205]\n",
      " [  313  -854 -2552]\n",
      " [  653   864  -742]\n",
      " [ 2269 -1454    45]\n",
      " [ -187  1532  1469]]\n"
     ]
    }
   ],
   "source": [
    "np.random.seed(0)\n",
    "a = np.random.randn(10, 3)\n",
    "a = np.asarray(1000 * a, dtype=int)   # convert to large integers (for easier reading)\n",
    "\n",
    "print(a)"
   ]
  },
  {
   "cell_type": "markdown",
   "metadata": {},
   "source": [
    "Next, let's save this array in a CSV file, in the *same folder* as this notebook:"
   ]
  },
  {
   "cell_type": "code",
   "execution_count": 3,
   "metadata": {},
   "outputs": [],
   "source": [
    "dir0     = os.path.abspath('')   # directory in which this notebook is saved\n",
    "fnameCSV = os.path.join( dir0, 'data-np.csv' )\n",
    "\n",
    "np.savetxt(fnameCSV, a, delimiter=',')"
   ]
  },
  {
   "cell_type": "markdown",
   "metadata": {},
   "source": [
    "If the cell above executed without errors, you should now see a file called \"data-np.csv\" in the same folder as this notebook. Verify that its contents are the same as the array above.\n",
    "\n",
    "`np.savetxt` is very useful for writing purely numerical data. If you would also like to save other kinds of data (like strings), it can sometimes be more convenient to work with another writing function, like `csv.writer` or `open` (see below)."
   ]
  },
  {
   "cell_type": "markdown",
   "metadata": {},
   "source": [
    "___\n",
    "\n",
    "<a name=\"csv.writer\"></a>\n",
    "## Using `csv.writer` to save data\n",
    "[Back to Table of Contents](#toc)\n",
    "<br>\n",
    "\n",
    "The [csv.writer](https://docs.python.org/2/library/csv.html) function can also be used to write data files.\n",
    "\n",
    "Let's use `csv.writer` to save the same array as above."
   ]
  },
  {
   "cell_type": "code",
   "execution_count": 4,
   "metadata": {},
   "outputs": [],
   "source": [
    "dir0     = os.path.abspath('')      # directory in which this notebook is saved\n",
    "fnameCSV = os.path.join( dir0, 'data-csv.csv' )\n",
    "\n",
    "with open(fnameCSV, 'w') as fid:    # open in write mode\n",
    "    writer = csv.writer(fid)        # create a writer object\n",
    "    for aa in a:                    # cycle through rows\n",
    "        writer.writerow(aa)         # write the current row to file"
   ]
  },
  {
   "cell_type": "markdown",
   "metadata": {},
   "source": [
    "This can be made even simpler with `writerows`:"
   ]
  },
  {
   "cell_type": "code",
   "execution_count": 5,
   "metadata": {},
   "outputs": [],
   "source": [
    "with open(fnameCSV, 'w') as fid:    # open in write mode\n",
    "    writer = csv.writer(fid)        # create a writer object\n",
    "    writer.writerows( a )           # write all rows"
   ]
  },
  {
   "cell_type": "markdown",
   "metadata": {},
   "source": [
    "If the cells above executed without errors, you should now see a file called \"data-csv.csv\" in the same folder as this notebook. Verify that its contents are the same as the array above.\n",
    "\n",
    "For a simple numerical array like above, `csv.writer` has no advantages over `np.savetxt`. Nevertheless, `csv.writer` can be more useful in some cases. One example is when using dictionaries to store data.\n",
    "\n",
    "Consider the following dictionaries which contain musical song information:"
   ]
  },
  {
   "cell_type": "code",
   "execution_count": 6,
   "metadata": {},
   "outputs": [],
   "source": [
    "song0 = dict(title='Peaceful Easy Feeling', artist='Eagles', album='Eagles')\n",
    "song1 = dict(artist='Michael Jackson', album='Thriller', title='Billie Jean')\n",
    "song2 = dict(album='Homework', artist='Daft Punk', title='Da Funk')\n",
    "song3 = dict(artist='Yagya', title='Snowflake 4', album='Rhythm Of Snow')\n",
    "song4 = dict(artist='Gigi Masin', title='Venice In Winter', album='Kite')"
   ]
  },
  {
   "cell_type": "markdown",
   "metadata": {},
   "source": [
    "Note that all songs contain the same information (artist, song and album), but that the data are entered in a different order in each dictionary definition.  This type of inconsistent ordering occurs often in real-world data files.\n",
    "\n",
    "Although the data could be organized into an array, with three columns representing artist, song and album, then written to file using `np.savetxt` or `csv.writer`, there is an easier way to write disctionary content, using `csv.DictWriter`."
   ]
  },
  {
   "cell_type": "markdown",
   "metadata": {},
   "source": [
    "___\n",
    "\n",
    "<a name=\"csv.DictWriter\"></a>\n",
    "## Using `csv.DictWriter` to save data\n",
    "[Back to Table of Contents](#toc)\n",
    "<br>\n",
    "\n",
    "The [csv.DictWriter](https://docs.python.org/2/library/csv.html) class can also be used to write data files.\n",
    "\n",
    "Let's use `csv.DictWriter` to write the five songs above to a CSV file."
   ]
  },
  {
   "cell_type": "code",
   "execution_count": 7,
   "metadata": {},
   "outputs": [],
   "source": [
    "dir0     = os.path.abspath('')      # directory in which this notebook is saved\n",
    "fnameCSV = os.path.join( dir0, 'data-csv-dict.csv' )\n",
    "\n",
    "songs    = [song0, song1, song2, song3, song4]\n",
    "\n",
    "with open(fnameCSV, 'w') as fid:\n",
    "    colnames = ['artist', 'title', 'album']  # column names\n",
    "    writer   = csv.DictWriter(fid, fieldnames=colnames)\n",
    "    writer.writeheader()\n",
    "    for song in songs:\n",
    "        writer.writerow( song )"
   ]
  },
  {
   "cell_type": "markdown",
   "metadata": {},
   "source": [
    "In the saved file (`data-csv-dict.csv`), you'll notice that `csv.DictWriter` has automatically re-ordered all song information, according to the `colnames` order."
   ]
  },
  {
   "cell_type": "markdown",
   "metadata": {},
   "source": [
    "___\n",
    "\n",
    "<a name=\"open\"></a>\n",
    "## Using `open` to save data\n",
    "[Back to Table of Contents](#toc)\n",
    "<br>\n",
    "\n",
    "Like reading data, the `open` function is the most flexible way to write data files.\n",
    "\n",
    "Let's use `open` to write the five songs above to a CSV file."
   ]
  },
  {
   "cell_type": "code",
   "execution_count": 8,
   "metadata": {},
   "outputs": [],
   "source": [
    "dir0     = os.path.abspath('')   # directory in which this notebook is saved\n",
    "fnameCSV = os.path.join( dir0, 'data-open.csv' )\n",
    "\n",
    "with open(fnameCSV, 'w') as fid:\n",
    "    fid.write( 'artist,title,album\\n' )  # write column names with a newline character\n",
    "    for song in songs:\n",
    "        a  = song['artist']\n",
    "        t  = song['title']\n",
    "        al = song['album']\n",
    "        fid.write( f'{a},{t},{al}\\n' )"
   ]
  }
 ],
 "metadata": {
  "kernelspec": {
   "display_name": "Python 3",
   "language": "python",
   "name": "python3"
  },
  "language_info": {
   "codemirror_mode": {
    "name": "ipython",
    "version": 3
   },
   "file_extension": ".py",
   "mimetype": "text/x-python",
   "name": "python",
   "nbconvert_exporter": "python",
   "pygments_lexer": "ipython3",
   "version": "3.7.10"
  }
 },
 "nbformat": 4,
 "nbformat_minor": 4
}
