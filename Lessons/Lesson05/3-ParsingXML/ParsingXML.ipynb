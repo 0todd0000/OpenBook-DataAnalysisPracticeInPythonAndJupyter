{
 "cells": [
  {
   "cell_type": "markdown",
   "metadata": {},
   "source": [
    "# <span style=\"color:#54B1FF\">Parsing data:</span> &nbsp; <span style=\"color:#1B3EA9\"><b>XML files</b></span>\n",
    "\n",
    "<br>\n",
    "\n",
    "[XML](https://en.wikipedia.org/wiki/XML) is a text-file format that is similar to HTML, but there are two important differences:\n",
    "\n",
    "* <span style=\"color:blue\">**HTML files are meant for web brosers.**</span> They have a rigid format, and only specific element types can be used to ensure that web browsers can interpret them.\n",
    "* <span style=\"color:blue\">**XML files store arbitrary data**</span>. They have a much freer format, and programmers develop a specific XML format for specifc needs. XML files are usually not renderable in web browsers.\n",
    "\n",
    "In other words, HTML files can be regarded as a specific type of XML file.\n",
    "\n",
    "Anyone can create any XML format for any purpose. The basic XML syntax is identical across files, making XML parsers able to read them, but the actual structure of the XML file varies substantially from dataset to dataset.\n",
    "\n",
    "Due to its flexibility, the XML format is more common than CSV for complex datasets. <span style=\"color:red\">XML is a very common data format</span>, in science, engineering, and many other applications. Many websites use XML to dynamically store and update data (e.g. retail websites).\n",
    "\n",
    "\n",
    "\n",
    "This notebook demonstrates how to parse relatively simple XML files.\n",
    "<br>\n",
    "\n",
    "⚠️ **NOTE!**  &nbsp; &nbsp; All data files are saved in the same directory as this notebook.\n",
    "\n"
   ]
  },
  {
   "cell_type": "markdown",
   "metadata": {},
   "source": [
    "___\n",
    "\n",
    "First let's import the modules we'll need for this lecture."
   ]
  },
  {
   "cell_type": "code",
   "execution_count": 1,
   "metadata": {},
   "outputs": [],
   "source": [
    "from lxml import etree"
   ]
  },
  {
   "cell_type": "markdown",
   "metadata": {},
   "source": [
    "<a name=\"toc\"></a>\n",
    "# Table of Contents\n",
    "\n",
    "* [Simple XML](#xml-simple)\n",
    "* [XML real world example](#xml-realworld)"
   ]
  },
  {
   "cell_type": "markdown",
   "metadata": {},
   "source": [
    "___\n",
    "<a name=\"xml-simple\"></a>\n",
    "## `xml` <span style=\"background-color:powderblue;\">Simple XML</span>\n",
    "[Back to Table of Contents](#toc)\n",
    "<br>\n",
    "\n",
    "This example (`data6.xml`) is an excerpt of three books from an example XML file at [microsoft.com](https://docs.microsoft.com/en-us/previous-versions/windows/desktop/ms762271(v=vs.85))\n",
    "\n",
    "The contents of the file are:\n",
    "\n",
    "<br>\n",
    "\n",
    "```\n",
    "<?xml version=\"1.0\"?>\n",
    "<catalog>\n",
    "   <book id=\"bk101\">\n",
    "      <author>Gambardella, Matthew</author>\n",
    "      <title>XML Developer's Guide</title>\n",
    "      <genre>Computer</genre>\n",
    "      <price>44.95</price>\n",
    "      <publish_date>2000-10-01</publish_date>\n",
    "      <description>An in-depth look at creating applications \n",
    "      with XML.</description>\n",
    "   </book>\n",
    "   <book id=\"bk102\">\n",
    "      <author>Ralls, Kim</author>\n",
    "      <title>Midnight Rain</title>\n",
    "      <genre>Fantasy</genre>\n",
    "      <price>5.95</price>\n",
    "      <publish_date>2000-12-16</publish_date>\n",
    "      <description>A former architect battles corporate zombies, \n",
    "      an evil sorceress, and her own childhood to become queen \n",
    "      of the world.</description>\n",
    "   </book>\n",
    "   <book id=\"bk103\">\n",
    "      <author>Corets, Eva</author>\n",
    "      <title>Maeve Ascendant</title>\n",
    "      <genre>Fantasy</genre>\n",
    "      <price>5.95</price>\n",
    "      <publish_date>2000-11-17</publish_date>\n",
    "      <description>After the collapse of a nanotechnology \n",
    "      society in England, the young survivors lay the \n",
    "      foundation for a new society.</description>\n",
    "   </book>\n",
    "</catalog>\n",
    "```\n",
    "\n",
    "<br>\n",
    "<br>\n",
    "\n",
    "Let's try to extract the titles from these books. Similar HTML file parsing, we can also use the `lxml` package to parse XML files."
   ]
  },
  {
   "cell_type": "code",
   "execution_count": 2,
   "metadata": {},
   "outputs": [
    {
     "name": "stdout",
     "output_type": "stream",
     "text": [
      "<lxml.etree._ElementTree object at 0x7ffc104c0280>\n"
     ]
    }
   ],
   "source": [
    "from lxml import etree\n",
    "\n",
    "tree      = etree.parse('data6.xml')\n",
    "\n",
    "print(tree)\n"
   ]
  },
  {
   "cell_type": "markdown",
   "metadata": {},
   "source": [
    "Now that the XML data are stored in an element tree, we can parse the data identical to HTML data."
   ]
  },
  {
   "cell_type": "code",
   "execution_count": 3,
   "metadata": {},
   "outputs": [
    {
     "name": "stdout",
     "output_type": "stream",
     "text": [
      "[\"XML Developer's Guide\", 'Midnight Rain', 'Maeve Ascendant']\n"
     ]
    }
   ],
   "source": [
    "titles    = [e.find('title').text for e in tree.findall('book')]\n",
    "\n",
    "print( titles )"
   ]
  },
  {
   "cell_type": "markdown",
   "metadata": {},
   "source": [
    "___\n",
    "<a name=\"xml-realworld\"></a>\n",
    "## `xml` <span style=\"background-color:powderblue;\">XML real-world example</span>\n",
    "[Back to Table of Contents](#toc)\n",
    "<br>\n",
    "\n",
    "\n",
    "<img alt=\"iTunes\" width=300 src=\"https://upload.wikimedia.org/wikipedia/commons/thumb/2/2a/ITunes_12.2_logo.png/600px-ITunes_12.2_logo.png\">\n",
    "\n",
    "Apple's popular [iTunes](https://www.apple.com/itunes/) software previously stored all music library details in an XML file.  <span style=\"color:blue\">(Apple now uses a different, similar file format.)</span>\n",
    "\n",
    "`data7.xml` is an example iTunes library file that uses Apple's previous format.\n",
    "\n",
    "This example file is from [stratify on GitHub](https://github.com/jasonrudolph/stratify/blob/master/spec/fixtures/iTunes%20Music%20Library.xml).\n",
    "\n",
    "<br>\n",
    "<br>\n",
    "\n",
    "The data file is about 2000 lines long, so for brevity it is not displayed in full here. The key structure (including the first two audio tracks) looks something like this <span style=\"color:blue\">(Note that many details are excluded)</span>:\n",
    "\n",
    "<br>\n",
    "<br>\n",
    "<br>\n",
    "<br>\n",
    "\n",
    "```\n",
    "<?xml version=\"1.0\" encoding=\"UTF-8\"?>\n",
    "<!DOCTYPE plist PUBLIC \"-//Apple Computer//DTD PLIST 1.0//EN\" \"http://www.apple.com/DTDs/PropertyList-1.0.dtd\">\n",
    "<plist version=\"1.0\">\n",
    "<dict>\n",
    "\t<key>Major Version</key><integer>1</integer>\n",
    "\t<key>Minor Version</key><integer>1</integer>\n",
    "\t<key>Music Folder</key><string>file://localhost/Users/z/Music/iTunes/iTunes%20Media/</string>\n",
    "\t<key>Tracks</key>\n",
    "\t<dict>\n",
    "\t\t<key>86</key>\n",
    "\t\t<dict>\n",
    "\t\t\t<key>Track ID</key><integer>86</integer>\n",
    "\t\t\t<key>Name</key><string>Play Your Part (Pt. 1)</string>\n",
    "\t\t\t<key>Artist</key><string>Girl Talk</string>\n",
    "\t\t\t<key>Album</key><string>Feed The Animals</string>\n",
    "\t\t\t<key>Genre</key><string>Mash-up</string>\n",
    "\t\t\t<key>Location</key><string>file://localhost/Users/z/Music/iTunes/iTunes%20Media/Music/Girl%20Talk/Feed%20The%20Animals/01%20Play%20Your%20Part%20(Pt.%201).mp3</string>\n",
    "\t\t</dict>\n",
    "\t\t<key>88</key>\n",
    "\t\t<dict>\n",
    "\t\t\t<key>Track ID</key><integer>88</integer>\n",
    "\t\t\t<key>Name</key><string>Shut The Club Down</string>\n",
    "\t\t\t<key>Artist</key><string>Girl Talk</string>\n",
    "\t\t\t<key>Album</key><string>Feed The Animals</string>\n",
    "\t\t\t<key>Genre</key><string>Mash-up</string>\n",
    "\t\t\t<key>Location</key><string>file://localhost/Users/z/Music/iTunes/iTunes%20Media/Music/Girl%20Talk/Feed%20The%20Animals/02%20Shut%20The%20Club%20Down.mp3</string>\n",
    "\t\t\t<key>File Folder Count</key><integer>5</integer>\n",
    "\t\t\t<key>Library Folder Count</key><integer>1</integer>\n",
    "\t\t</dict>\n",
    "</dict>\n",
    "</plist>\n",
    "```\n",
    "\n",
    "<br>\n",
    "<br>\n",
    "<br>\n",
    "<br>\n",
    "\n",
    "\n",
    "Notice that each track has `<key>` elements for both `Artist` and `Name` (i.e., song name).\n",
    "\n",
    "Suppose we wanted to retrieve all song names in our library for the artist: Nirvana. How could we do this?\n",
    "\n",
    "<br>\n",
    "\n",
    "First let's check that we can access the artist and song name for just the **first track**."
   ]
  },
  {
   "cell_type": "code",
   "execution_count": 5,
   "metadata": {},
   "outputs": [
    {
     "name": "stdout",
     "output_type": "stream",
     "text": [
      "Girl Talk\n",
      "Play Your Part (Pt. 1)\n"
     ]
    }
   ],
   "source": [
    "tree      = etree.parse('data7.xml')\n",
    "\n",
    "track     = tree.find('dict/dict/dict')  # track details stored in the third nested <dict> element\n",
    "\n",
    "\n",
    "for key in track.findall('key'):         # cycle through all <key> elements in the track\n",
    "    if key.text == 'Artist':             # check whether this is the Artist key\n",
    "        artist = key.getnext().text      # get the text from the next element (the <string> element)\n",
    "    elif key.text == 'Name':             # check whether this is the Name key\n",
    "        song_name = key.getnext().text   # get the text from the next element (the <string> element)\n",
    "\n",
    "print(artist)\n",
    "print(song_name)"
   ]
  },
  {
   "cell_type": "markdown",
   "metadata": {},
   "source": [
    "Great! We have successfully accessed the artist and song names.\n",
    "\n",
    "Next, let's try retrieving artist and song names for all tracks."
   ]
  },
  {
   "cell_type": "code",
   "execution_count": 6,
   "metadata": {},
   "outputs": [
    {
     "name": "stdout",
     "output_type": "stream",
     "text": [
      "Girl Talk - Play Your Part (Pt. 1)\n",
      "Girl Talk - Shut The Club Down\n",
      "Girl Talk - Still Here\n",
      "Girl Talk - What It's All About\n",
      "Girl Talk - Set It Off\n",
      "Girl Talk - No Pause\n",
      "Girl Talk - Like This\n",
      "Girl Talk - Give Me A Beat\n",
      "Girl Talk - Hands In The Air\n",
      "Girl Talk - In Step\n",
      "Girl Talk - Let Me See You\n",
      "Girl Talk - Here's The Thing\n",
      "Girl Talk - Don't Stop\n",
      "Girl Talk - Play Your Part (Pt. 2)\n",
      "Nirvana - Smells Like Teen Spirit\n",
      "Nirvana - In Bloom\n",
      "Nirvana - Come As You Are\n",
      "Nirvana - Breed\n",
      "Nirvana - Lithium\n",
      "Nirvana - Polly\n",
      "Nirvana - Territorial Pissings\n",
      "Nirvana - Drain You\n",
      "Nirvana - Lounge Act\n",
      "Nirvana - Stay Away\n",
      "Nirvana - On A Plain\n",
      "Nirvana - Something In The Way\n",
      "Bush - Everything Zen\n",
      "Bush - Swim\n",
      "Bush - Bomb\n",
      "Bush - Little Things\n",
      "Bush - Comedown\n",
      "Bush - Body\n",
      "Bush - Machinehead\n",
      "Bush - Testosterone\n",
      "Bush - Monkey\n",
      "Bush - Glycerine\n",
      "Bush - Alien\n",
      "Bush - X-Girlfriend\n",
      "Steve Martin - Born Standing Up: A Comic's Life (Unabridged)\n",
      "Tom Merritt, Becky Worley, Sarah Lane and Jason Howell - Tech News Today 187: To Xoom Or Not To Xoom\n",
      "Tom Merritt, Becky Worley, Sarah Lane and Jason Howell - Tech News Today 186: Who Are Yooodle?\n",
      "Onion News Network - Interview With the Onion News Network\n",
      "Ryan Bates - Episode 254: Pagination with Kaminari\n",
      "Breaking Bad - A No-Rough-Stuff Type Deal\n",
      "Ryan Bates - Episode 252: Metrics Metrics Metrics\n",
      "None - V for Vendetta\n",
      "None - Zombieland\n",
      "Dan Ariely, Duke University - Malcolm Gladwell & Dan Ariely: A Conversation\n",
      "Apple Developer - Session 512 - Using HTML5 Offline Storage\n"
     ]
    }
   ],
   "source": [
    "tracks    = tree.findall('dict/dict/dict')  # all tracks\n",
    "\n",
    "for track in tracks:\n",
    "    artist    = None                     # initialize the artist name for this track\n",
    "    song_name = None                     # initialize the artist name for this track\n",
    "    for key in track.findall('key'):     \n",
    "        if key.text == 'Artist':         \n",
    "            artist = key.getnext().text\n",
    "        elif key.text == 'Name':\n",
    "            song_name = key.getnext().text\n",
    "    print(artist, '-', song_name)"
   ]
  },
  {
   "cell_type": "markdown",
   "metadata": {},
   "source": [
    "Excellent!\n",
    "\n",
    "Now let's extract all song names for only the artist: Nirvana."
   ]
  },
  {
   "cell_type": "code",
   "execution_count": 7,
   "metadata": {},
   "outputs": [
    {
     "name": "stdout",
     "output_type": "stream",
     "text": [
      "Smells Like Teen Spirit\n",
      "In Bloom\n",
      "Come As You Are\n",
      "Breed\n",
      "Lithium\n",
      "Polly\n",
      "Territorial Pissings\n",
      "Drain You\n",
      "Lounge Act\n",
      "Stay Away\n",
      "On A Plain\n",
      "Something In The Way\n"
     ]
    }
   ],
   "source": [
    "\n",
    "tracks    = tree.findall('dict/dict/dict')\n",
    "\n",
    "song_names = []\n",
    "\n",
    "for track in tracks:\n",
    "    artist    = None                     # initialize the artist name for this track\n",
    "    song_name = None                     # initialize the artist name for this track\n",
    "\n",
    "    for key in track.findall('key'):\n",
    "\n",
    "        if key.text=='Artist':\n",
    "            artist = key.getnext().text\n",
    "            if artist == 'Nirvana':\n",
    "                artist_found = True\n",
    "            else:\n",
    "                artist_found = False\n",
    "        \n",
    "        elif key.text == 'Name':\n",
    "            song_name = key.getnext().text\n",
    "    \n",
    "    if artist_found:\n",
    "        song_names.append( song_name )\n",
    "    \n",
    "\n",
    "for name in song_names:\n",
    "    print(name)\n",
    "\n"
   ]
  },
  {
   "cell_type": "markdown",
   "metadata": {},
   "source": [
    "Stupendous!\n",
    "\n",
    "We have successfully achieved our goal of extracting all song names by the artist Nirvana."
   ]
  }
 ],
 "metadata": {
  "kernelspec": {
   "display_name": "Python 3",
   "language": "python",
   "name": "python3"
  },
  "language_info": {
   "codemirror_mode": {
    "name": "ipython",
    "version": 3
   },
   "file_extension": ".py",
   "mimetype": "text/x-python",
   "name": "python",
   "nbconvert_exporter": "python",
   "pygments_lexer": "ipython3",
   "version": "3.8.3"
  }
 },
 "nbformat": 4,
 "nbformat_minor": 4
}
