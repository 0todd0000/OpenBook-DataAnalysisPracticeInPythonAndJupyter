{
 "cells": [
  {
   "cell_type": "markdown",
   "metadata": {},
   "source": [
    "# <span style=\"color:#54B1FF\">Parsing data:</span> &nbsp; <span style=\"color:#1B3EA9\"><b>CSV files</b></span>\n",
    "\n",
    "<br>\n",
    "\n",
    "To **parse** means to read and interpret. Parsing a data file means that one reads the file and extracts relevant information from it.\n",
    "\n",
    "The CSV or commma-separated value format is one of the most common ways of saving data.\n",
    "\n",
    "While high-level packages like `numpy` and `pandas` are usually sufficient for parsing CSV files, occasionally CSV files have irregularities that require custom programming.\n",
    "\n",
    "This notebook demonstrates both easy CSV reading using `numpy` and `pandas`, and lower-level reading\n",
    "\n",
    "<br>\n",
    "\n",
    "⚠️ **NOTE!**  &nbsp; &nbsp; All data files are saved in the same directory as this notebook.\n",
    "\n",
    "<br>\n"
   ]
  },
  {
   "cell_type": "markdown",
   "metadata": {},
   "source": [
    "___\n",
    "\n",
    "First let's import the modules we'll need for this lecture."
   ]
  },
  {
   "cell_type": "code",
   "execution_count": 1,
   "metadata": {},
   "outputs": [],
   "source": [
    "import csv\n",
    "import numpy as np\n",
    "import pandas as pd"
   ]
  },
  {
   "cell_type": "markdown",
   "metadata": {},
   "source": [
    "<a name=\"toc\"></a>\n",
    "# Table of Contents\n",
    "\n",
    "* [pd.read_csv](#pd.read_csv)\n",
    "    * [Simple CSV](#pd-simple)\n",
    "    * [Headers](#pd-headers)\n",
    "    * [Comments](#pd-comments)\n",
    "* [np.loadtxt](#np.loadtxt)\n",
    "    * [Simple CSV](#np.loadtxt-simple-csv)\n",
    "    * [Getting rows & columns](#rows-columns)\n",
    "    * [Headers](#np.loadtxt-headers)\n",
    "    * [Comments](#np.loadtxt-comments)\n",
    "* [csv](#csv)\n",
    "    * [Simple CSV](#csv-simple-csv)\n",
    "    * [Headers](#csv-headers)\n",
    "    * [Comments](#csv-comments)\n",
    "* [open](#open)\n",
    "    * [Simple CSV](#open-simple-csv)\n",
    "    * [Headers](#open-headers)\n",
    "    * [Comments](#open-comments)\n",
    "    * [Complex structure](#open-complex)\n",
    "\n",
    "* [Summary](#summary)"
   ]
  },
  {
   "cell_type": "markdown",
   "metadata": {},
   "source": [
    "___\n",
    "\n",
    "<a name=\"pd.read_csv\"></a>\n",
    "# Using `pd.read_csv` to read text files\n",
    "[Back to Table of Contents](#toc)\n",
    "<br>\n",
    "\n",
    "The [pd.read_csv](https://pandas.pydata.org/pandas-docs/stable/reference/api/pandas.read_csv.html) function is the easiest way to read well-formatted text data."
   ]
  },
  {
   "cell_type": "markdown",
   "metadata": {},
   "source": [
    "___\n",
    "\n",
    "<a name=\"pd-simple\"></a>\n",
    "## `pd.read_csv` <span style=\"background-color:powderblue;\">Simple CSV file</span>\n",
    "[Back to Table of Contents](#toc)\n",
    "<br>\n",
    "\n",
    "The `data0.csv` file contains the following values:\n",
    "\n",
    "| | | |\n",
    "|-----|-----|-----|\n",
    "|1|10.1|10.5|\n",
    "|2|9.8|11.8|\n",
    "|3|12.1|15.1|\n",
    "|4|18.5|18.9|\n",
    "|5|12.8|14.1|\n",
    "\n",
    "The actual text looks like this:\n",
    "\n",
    "```\n",
    "1,10.1,10.5\n",
    "2,9.8,11.8\n",
    "3,12.1,15.1\n",
    "4,18.5,18.9\n",
    "5,12.8,14.1\n",
    "```\n",
    "\n",
    "Simple data files like this can be read using `pd.read_csv`, along with `header=None` to indicate that there are no header columns in this file.\n"
   ]
  },
  {
   "cell_type": "code",
   "execution_count": 2,
   "metadata": {},
   "outputs": [
    {
     "name": "stdout",
     "output_type": "stream",
     "text": [
      "   0     1     2\n",
      "0  1  10.1  10.5\n",
      "1  2   9.8  11.8\n",
      "2  3  12.1  15.1\n",
      "3  4  18.5  18.9\n",
      "4  5  12.8  14.1\n",
      "\n",
      "[[ 1.  10.1 10.5]\n",
      " [ 2.   9.8 11.8]\n",
      " [ 3.  12.1 15.1]\n",
      " [ 4.  18.5 18.9]\n",
      " [ 5.  12.8 14.1]]\n"
     ]
    }
   ],
   "source": [
    "df = pd.read_csv('data0.csv', header=None)\n",
    "a  = np.array( df )\n",
    "\n",
    "print( df )\n",
    "print()\n",
    "print( a )"
   ]
  },
  {
   "cell_type": "markdown",
   "metadata": {},
   "source": [
    "Note that **pandas** reads the data into a special data object called a **data frame** (i.e., `df`).  Data frames have a variety of advantages. The next section describes one key advantage, when there are header rows.\n",
    "\n",
    "Note also that **pandas** data frames can be easily converted to **numpy** arrays."
   ]
  },
  {
   "cell_type": "markdown",
   "metadata": {},
   "source": [
    "___\n",
    "<a name=\"pd-headers\"></a>\n",
    "## `pd.read_csv` <span style=\"background-color:powderblue;\">CSV file with header rows</span>\n",
    "[Back to Table of Contents](#toc)\n",
    "\n",
    "<br>\n",
    "\n",
    "The `data1.csv` file contains the following:\n",
    "\n",
    "|PersonID|Before|After|\n",
    "|-----|-----|-----|\n",
    "|1|10.1|10.5|\n",
    "|2|9.8|11.8|\n",
    "|3|12.1|15.1|\n",
    "|4|18.5|18.9|\n",
    "|5|12.8|14.1|\n",
    "\n",
    "The actual text looks like this:\n",
    "\n",
    "```\n",
    "PersonID,Before,After\n",
    "1,10.1,10.5\n",
    "2,9.8,11.8\n",
    "3,12.1,15.1\n",
    "4,18.5,18.9\n",
    "5,12.8,14.1\n",
    "```\n",
    "\n",
    "This file has one header row containing column labels. **pandas** deals with this type of data automatically:"
   ]
  },
  {
   "cell_type": "code",
   "execution_count": 3,
   "metadata": {},
   "outputs": [
    {
     "name": "stdout",
     "output_type": "stream",
     "text": [
      "   PersonID  Before  After\n",
      "0         1    10.1   10.5\n",
      "1         2     9.8   11.8\n",
      "2         3    12.1   15.1\n",
      "3         4    18.5   18.9\n",
      "4         5    12.8   14.1\n",
      "\n",
      "[[ 1.  10.1 10.5]\n",
      " [ 2.   9.8 11.8]\n",
      " [ 3.  12.1 15.1]\n",
      " [ 4.  18.5 18.9]\n",
      " [ 5.  12.8 14.1]]\n"
     ]
    }
   ],
   "source": [
    "df = pd.read_csv('data1.csv')\n",
    "a  = np.array( df )\n",
    "\n",
    "print( df )\n",
    "print()\n",
    "print( a )"
   ]
  },
  {
   "cell_type": "markdown",
   "metadata": {},
   "source": [
    "Note that the data frame is printed along with the column headers. This can make it quite convenient to understand the meanings of individual columns. Note also that individual columns can be accessed using their names, like this:"
   ]
  },
  {
   "cell_type": "code",
   "execution_count": 4,
   "metadata": {},
   "outputs": [
    {
     "name": "stdout",
     "output_type": "stream",
     "text": [
      "0    10.1\n",
      "1     9.8\n",
      "2    12.1\n",
      "3    18.5\n",
      "4    12.8\n",
      "Name: Before, dtype: float64\n",
      "\n",
      "[10.1  9.8 12.1 18.5 12.8]\n"
     ]
    }
   ],
   "source": [
    "c0 = df['Before']\n",
    "\n",
    "print(c0)\n",
    "print()\n",
    "print( np.array(c0) )"
   ]
  },
  {
   "cell_type": "markdown",
   "metadata": {},
   "source": [
    "___\n",
    "<a name=\"pd-comments\"></a>\n",
    "## `pd.read_csv` <span style=\"background-color:powderblue;\">CSV file with comments</span>\n",
    "[Back to Table of Contents](#toc)\n",
    "<br>\n",
    "\n",
    "The `data2.csv` file contains the following text:\n",
    "\n",
    "\n",
    "<br>\n",
    "\n",
    "\n",
    "```\n",
    "%% This is a header comment. Skip it using \" skiprows=2 \".\n",
    "PersonID,Before,After\n",
    "1,10.1,10.5\n",
    "2,9.8,11.8\n",
    "%% This is a general comment. Skip it using \" comments='%%' \"\n",
    "3,12.1,15.1\n",
    "4,18.5,18.9\n",
    "5,12.8,14.1\n",
    "%% This is a footer comment. Skip it using \" comments='%%' \"\n",
    "```\n",
    "\n",
    "<br>\n",
    "\n",
    "\n",
    "⚠️ When comments exist in CSV files, it is usually difficult to display the file contents in a simple table, so only a text display is shown above.\n",
    "\n",
    "Comments can be ignored with the `comment` keyword, like this:"
   ]
  },
  {
   "cell_type": "code",
   "execution_count": 5,
   "metadata": {},
   "outputs": [
    {
     "name": "stdout",
     "output_type": "stream",
     "text": [
      "   PersonID  Before  After\n",
      "0         1    10.1   10.5\n",
      "1         2     9.8   11.8\n",
      "2         3    12.1   15.1\n",
      "3         4    18.5   18.9\n",
      "4         5    12.8   14.1\n"
     ]
    }
   ],
   "source": [
    "df = pd.read_csv('data2.csv', comment='%')\n",
    "\n",
    "print(df)"
   ]
  },
  {
   "cell_type": "markdown",
   "metadata": {},
   "source": [
    "___\n",
    "\n",
    "<a name=\"np.loadtxt\"></a>\n",
    "# Using `np.loadtxt` to read text files\n",
    "[Back to Table of Contents](#toc)\n",
    "<br>\n",
    "\n",
    "The [np.loadtxt](https://docs.scipy.org/doc/numpy/reference/generated/numpy.loadtxt.html) function is the second-easiest way to read well-formatted text data."
   ]
  },
  {
   "cell_type": "markdown",
   "metadata": {},
   "source": [
    "___\n",
    "\n",
    "<a name=\"np.loadtxt-simple-csv\"></a>\n",
    "## `np.loadtxt` <span style=\"background-color:powderblue;\">Simple CSV file</span>\n",
    "[Back to Table of Contents](#toc)\n",
    "<br>\n",
    "\n",
    "The `data0.csv` file contains the following values:\n",
    "\n",
    "| | | |\n",
    "|-----|-----|-----|\n",
    "|1|10.1|10.5|\n",
    "|2|9.8|11.8|\n",
    "|3|12.1|15.1|\n",
    "|4|18.5|18.9|\n",
    "|5|12.8|14.1|\n",
    "\n",
    "The actual text looks like this:\n",
    "\n",
    "```\n",
    "1,10.1,10.5\n",
    "2,9.8,11.8\n",
    "3,12.1,15.1\n",
    "4,18.5,18.9\n",
    "5,12.8,14.1\n",
    "```\n",
    "\n",
    "Simple data files like this can be read using `np.loadtxt`, along with `delimiter=','` to indicate that values are separated by comma characters.\n"
   ]
  },
  {
   "cell_type": "code",
   "execution_count": 6,
   "metadata": {},
   "outputs": [
    {
     "name": "stdout",
     "output_type": "stream",
     "text": [
      "[[ 1.  10.1 10.5]\n",
      " [ 2.   9.8 11.8]\n",
      " [ 3.  12.1 15.1]\n",
      " [ 4.  18.5 18.9]\n",
      " [ 5.  12.8 14.1]]\n"
     ]
    }
   ],
   "source": [
    "a = np.loadtxt('data0.csv', delimiter=',')\n",
    "print(a)"
   ]
  },
  {
   "cell_type": "markdown",
   "metadata": {},
   "source": [
    "<a name=\"rows-columns\"></a>\n",
    "## <span style=\"background-color:powderblue;\">Getting rows / columns from imported data:</span>\n",
    "[Back to Table of Contents](#toc)\n",
    "<br>"
   ]
  },
  {
   "cell_type": "code",
   "execution_count": 7,
   "metadata": {},
   "outputs": [
    {
     "name": "stdout",
     "output_type": "stream",
     "text": [
      "First row:  [ 1.  10.1 10.5]\n",
      "Second row:  [ 2.   9.8 11.8]\n",
      "Third column:  [10.5 11.8 15.1 18.9 14.1]\n"
     ]
    }
   ],
   "source": [
    "row0 = a[0,:]   # first row, same as \"row0 = A[0]\"\n",
    "row1 = a[1,:]   # second row, same as \"row1 = A[1]\"\n",
    "\n",
    "col2 = a[:,2]   # third column\n",
    "\n",
    "print('First row: ', row0)\n",
    "print('Second row: ', row1)\n",
    "print('Third column: ', col2)"
   ]
  },
  {
   "cell_type": "markdown",
   "metadata": {},
   "source": [
    "___\n",
    "<a name=\"np.loadtxt-headers\"></a>\n",
    "## `np.loadtxt` <span style=\"background-color:powderblue;\">CSV file with header rows</span>\n",
    "[Back to Table of Contents](#toc)\n",
    "\n",
    "<br>\n",
    "\n",
    "The `data1.csv` file contains the following:\n",
    "\n",
    "|PersonID|Before|After|\n",
    "|-----|-----|-----|\n",
    "|1|10.1|10.5|\n",
    "|2|9.8|11.8|\n",
    "|3|12.1|15.1|\n",
    "|4|18.5|18.9|\n",
    "|5|12.8|14.1|\n",
    "\n",
    "The actual text looks like this:\n",
    "\n",
    "```\n",
    "PersonID,Before,After\n",
    "1,10.1,10.5\n",
    "2,9.8,11.8\n",
    "3,12.1,15.1\n",
    "4,18.5,18.9\n",
    "5,12.8,14.1\n",
    "```\n",
    "\n",
    "This file has one header row containing column labels. When header rows like this are present, use the `skiprows` keyword argument to skip these lines:"
   ]
  },
  {
   "cell_type": "code",
   "execution_count": 8,
   "metadata": {},
   "outputs": [
    {
     "name": "stdout",
     "output_type": "stream",
     "text": [
      "[[ 1.  10.1 10.5]\n",
      " [ 2.   9.8 11.8]\n",
      " [ 3.  12.1 15.1]\n",
      " [ 4.  18.5 18.9]\n",
      " [ 5.  12.8 14.1]]\n"
     ]
    }
   ],
   "source": [
    "a = np.loadtxt('data1.csv', delimiter=',', skiprows=1)\n",
    "print(a)"
   ]
  },
  {
   "cell_type": "markdown",
   "metadata": {},
   "source": [
    "___\n",
    "<a name=\"np.loadtxt-comments\"></a>\n",
    "## `np.loadtxt` <span style=\"background-color:powderblue;\">CSV file with comments</span>\n",
    "[Back to Table of Contents](#toc)\n",
    "<br>\n",
    "\n",
    "The `data2.csv` file contains the following text:\n",
    "\n",
    "\n",
    "<br>\n",
    "\n",
    "\n",
    "```\n",
    "%% This is a header comment. Skip it using \" skiprows=2 \".\n",
    "PersonID,Before,After\n",
    "1,10.1,10.5\n",
    "2,9.8,11.8\n",
    "%% This is a general comment. Skip it using \" comments='%%' \"\n",
    "3,12.1,15.1\n",
    "4,18.5,18.9\n",
    "5,12.8,14.1\n",
    "%% This is a footer comment. Skip it using \" comments='%%' \"\n",
    "```\n",
    "\n",
    "<br>\n",
    "\n",
    "\n",
    "⚠️ When comments exist in CSV files, it is usually difficult to display the file contents in a simple table, so only a text display is shown above.\n",
    "\n",
    "Comments can be ignored with the `comments` keyword, like this:"
   ]
  },
  {
   "cell_type": "code",
   "execution_count": 9,
   "metadata": {},
   "outputs": [
    {
     "name": "stdout",
     "output_type": "stream",
     "text": [
      "[[ 1.  10.1 10.5]\n",
      " [ 2.   9.8 11.8]\n",
      " [ 3.  12.1 15.1]\n",
      " [ 4.  18.5 18.9]\n",
      " [ 5.  12.8 14.1]]\n"
     ]
    }
   ],
   "source": [
    "a = np.loadtxt('data2.csv', delimiter=',', skiprows=2, comments='%%')\n",
    "print(a)"
   ]
  },
  {
   "cell_type": "markdown",
   "metadata": {},
   "source": [
    "___\n",
    "<a name=\"csv\"></a>\n",
    "# csv\n",
    "[Back to Table of Contents](#toc)\n",
    "<br>\n",
    "\n",
    "Python's native [csv](https://docs.python.org/2/library/csv.html) package offers a more comprehensive, albeit more complex, way to deal with CSV files."
   ]
  },
  {
   "cell_type": "markdown",
   "metadata": {},
   "source": [
    "___\n",
    "<a name=\"csv-simple-csv\"></a>\n",
    "## `csv` <span style=\"background-color:powderblue;\">Simple CSV</span>\n",
    "[Back to Table of Contents](#toc)\n",
    "<br>\n",
    "\n",
    "\n",
    "Let's reconsider the `data0.csv` file:\n",
    "\n",
    "||||\n",
    "|-----|-----|-----|\n",
    "|1|10.1|10.5|\n",
    "|2|9.8|11.8|\n",
    "|3|12.1|15.1|\n",
    "|4|18.5|18.9|\n",
    "|5|12.8|14.1|\n",
    "\n",
    "The `csv` package can be used to read these data as follows."
   ]
  },
  {
   "cell_type": "code",
   "execution_count": 10,
   "metadata": {},
   "outputs": [
    {
     "name": "stdout",
     "output_type": "stream",
     "text": [
      "[[ 1.  10.1 10.5]\n",
      " [ 2.   9.8 11.8]\n",
      " [ 3.  12.1 15.1]\n",
      " [ 4.  18.5 18.9]\n",
      " [ 5.  12.8 14.1]]\n"
     ]
    }
   ],
   "source": [
    "\n",
    "with open('data0.csv', 'r') as csvfile:             # open the file (\"with\" automatically closes the file)\n",
    "    reader = csv.reader(csvfile, delimiter=',')  # a CSV reader objects\n",
    "    rows   = [row for row in reader]             # all text rows\n",
    "    a      = np.array( rows, dtype=float )       # convert rows of text to an array of float numbers\n",
    "\n",
    "print(a)"
   ]
  },
  {
   "cell_type": "markdown",
   "metadata": {},
   "source": [
    "___\n",
    "<a name=\"csv-headers\"></a>\n",
    "## `csv` <span style=\"background-color:powderblue;\">CSV with header rows</span>\n",
    "[Back to Table of Contents](#toc)\n",
    "<br>\n",
    "\n",
    "\n",
    "Let's reconsider the `data1.csv` file:\n",
    "\n",
    "|PersonID|Before|After|\n",
    "|-----|-----|-----|\n",
    "|1|10.1|10.5|\n",
    "|2|9.8|11.8|\n",
    "|3|12.1|15.1|\n",
    "|4|18.5|18.9|\n",
    "|5|12.8|14.1|\n",
    "\n",
    "The headers can be ignored by skipping the first row. "
   ]
  },
  {
   "cell_type": "code",
   "execution_count": 11,
   "metadata": {},
   "outputs": [
    {
     "name": "stdout",
     "output_type": "stream",
     "text": [
      "[[ 1.  10.1 10.5]\n",
      " [ 2.   9.8 11.8]\n",
      " [ 3.  12.1 15.1]\n",
      " [ 4.  18.5 18.9]\n",
      " [ 5.  12.8 14.1]]\n"
     ]
    }
   ],
   "source": [
    "with open('data1.csv', 'r') as csvfile:             # open the file (\"with\" automatically closes the file)\n",
    "    reader = csv.reader(csvfile, delimiter=',')  # a CSV reader objects\n",
    "    rows   = [row for row in reader]             # all text rows\n",
    "    a      = np.array( rows[1:], dtype=float )   # ignore first row\n",
    "\n",
    "print(a)"
   ]
  },
  {
   "cell_type": "markdown",
   "metadata": {},
   "source": [
    "___\n",
    "<a name=\"csv-comments\"></a>\n",
    "## `csv` <span style=\"background-color:powderblue;\">CSV with comments</span>\n",
    "[Back to Table of Contents](#toc)\n",
    "<br>\n",
    "\n",
    "\n",
    "The `data2.csv` file contains the following text:\n",
    "\n",
    "\n",
    "<br>\n",
    "\n",
    "\n",
    "```\n",
    "%% This is a header comment. Skip it using \" skiprows=2 \".\n",
    "PersonID,Before,After\n",
    "1,10.1,10.5\n",
    "2,9.8,11.8\n",
    "%% This is a general comment. Skip it using \" comments='%%' \"\n",
    "3,12.1,15.1\n",
    "4,18.5,18.9\n",
    "5,12.8,14.1\n",
    "%% This is a footer comment. Skip it using \" comments='%%' \"\n",
    "```\n",
    "\n",
    "<br>\n",
    "\n",
    "\n",
    "Comments can be ignored using the `startswith` function on the first row entry like this:"
   ]
  },
  {
   "cell_type": "code",
   "execution_count": 12,
   "metadata": {},
   "outputs": [
    {
     "name": "stdout",
     "output_type": "stream",
     "text": [
      "[[ 1.  10.1 10.5]\n",
      " [ 2.   9.8 11.8]\n",
      " [ 3.  12.1 15.1]\n",
      " [ 4.  18.5 18.9]\n",
      " [ 5.  12.8 14.1]]\n"
     ]
    }
   ],
   "source": [
    "with open('data2.csv', 'r') as csvfile:             # open the file (\"with\" automatically closes the file)\n",
    "    reader = csv.reader(csvfile, delimiter=',')  # a CSV reader objects\n",
    "    rows   = []\n",
    "    for row in reader:\n",
    "        if not row[0].startswith('%%'):\n",
    "            rows.append(row)\n",
    "    a      = np.array( rows[1:], dtype=float )   # ignore first row\n",
    "\n",
    "print(a)"
   ]
  },
  {
   "cell_type": "markdown",
   "metadata": {},
   "source": [
    "___\n",
    "<a name=\"open\"></a>\n",
    "# open\n",
    "[Back to Table of Contents](#toc)\n",
    "<br>\n",
    "\n",
    "The `open` command provides the most flexible way to read data from text files.\n",
    "\n",
    "The `open` command was used above to create a file object `csvfile`, and then `csvfile` was read using `csv.reader`. However, `csv.reader` is not necessary. Instead the data can be read as strings as shown below."
   ]
  },
  {
   "cell_type": "markdown",
   "metadata": {},
   "source": [
    "___\n",
    "<a name=\"open-simple-csv\"></a>\n",
    "## `open` <span style=\"background-color:powderblue;\">Simple CSV</span>\n",
    "[Back to Table of Contents](#toc)\n",
    "<br>\n",
    "\n",
    "The easiest way to read data is to read all of the lines at once, then parse the lines afterwards, as shown below.\n",
    "\n",
    "⚠️  This is usually only possible when the data file is not very large (e.g. less than 2 MB).\n",
    "\n",
    "<br>\n",
    "\n",
    "`data0.csv` contents:\n",
    "\n",
    "||||\n",
    "|-----|-----|-----|\n",
    "|1|10.1|10.5|\n",
    "|2|9.8|11.8|\n",
    "|3|12.1|15.1|\n",
    "|4|18.5|18.9|\n",
    "|5|12.8|14.1|"
   ]
  },
  {
   "cell_type": "code",
   "execution_count": 13,
   "metadata": {},
   "outputs": [
    {
     "name": "stdout",
     "output_type": "stream",
     "text": [
      "['1,10.1,10.5\\n', '2,9.8,11.8\\n', '3,12.1,15.1\\n', '4,18.5,18.9\\n', '5,12.8,14.1']\n"
     ]
    }
   ],
   "source": [
    "with open('data0.csv', 'r') as fid:             # open the file (\"with\" automatically closes the file)\n",
    "    lines  = fid.readlines()\n",
    "\n",
    "print(lines)\n"
   ]
  },
  {
   "cell_type": "markdown",
   "metadata": {},
   "source": [
    "Each line can be parsed using the `strip` and `split` functions like this:"
   ]
  },
  {
   "cell_type": "code",
   "execution_count": 14,
   "metadata": {},
   "outputs": [
    {
     "name": "stdout",
     "output_type": "stream",
     "text": [
      "1,10.1,10.5\n",
      "['1', '10.1', '10.5\\n']\n"
     ]
    }
   ],
   "source": [
    "s = lines[0]\n",
    "print( s.strip() )     # removes unneeded characters like \"newline\" (/n)\n",
    "print( s.split(',') )  # separates the values into a list"
   ]
  },
  {
   "cell_type": "markdown",
   "metadata": {},
   "source": [
    "Thus a single line can be parsed as follows:"
   ]
  },
  {
   "cell_type": "code",
   "execution_count": 15,
   "metadata": {},
   "outputs": [
    {
     "name": "stdout",
     "output_type": "stream",
     "text": [
      "['1', '10.1', '10.5']\n"
     ]
    }
   ],
   "source": [
    "print( s.strip().split(',') )"
   ]
  },
  {
   "cell_type": "markdown",
   "metadata": {},
   "source": [
    "And this parsed line can be converted to an array as follows:"
   ]
  },
  {
   "cell_type": "code",
   "execution_count": 16,
   "metadata": {},
   "outputs": [
    {
     "name": "stdout",
     "output_type": "stream",
     "text": [
      "[ 1.  10.1 10.5]\n"
     ]
    }
   ],
   "source": [
    "a = np.array( s.strip().split(','), dtype=float )\n",
    "print(a)"
   ]
  },
  {
   "cell_type": "markdown",
   "metadata": {},
   "source": [
    "Putting it all together:"
   ]
  },
  {
   "cell_type": "code",
   "execution_count": 17,
   "metadata": {},
   "outputs": [
    {
     "name": "stdout",
     "output_type": "stream",
     "text": [
      "[[ 1.  10.1 10.5]\n",
      " [ 2.   9.8 11.8]\n",
      " [ 3.  12.1 15.1]\n",
      " [ 4.  18.5 18.9]\n",
      " [ 5.  12.8 14.1]]\n"
     ]
    }
   ],
   "source": [
    "with open('data0.csv', 'r') as fid:\n",
    "    lines  = fid.readlines()\n",
    "    rows   = [line.strip().split(',') for line in lines]\n",
    "    a      = np.array(rows, dtype=float)\n",
    "\n",
    "print(a)"
   ]
  },
  {
   "cell_type": "markdown",
   "metadata": {},
   "source": [
    "___\n",
    "<a name=\"open-headers\"></a>\n",
    "## `open` <span style=\"background-color:powderblue;\">Headers</span>\n",
    "[Back to Table of Contents](#toc)\n",
    "<br>\n",
    "\n",
    "When there are `n` header rows, skip them using `lines[n:]` as follows:"
   ]
  },
  {
   "cell_type": "code",
   "execution_count": 18,
   "metadata": {},
   "outputs": [
    {
     "name": "stdout",
     "output_type": "stream",
     "text": [
      "[[ 1.  10.1 10.5]\n",
      " [ 2.   9.8 11.8]\n",
      " [ 3.  12.1 15.1]\n",
      " [ 4.  18.5 18.9]\n",
      " [ 5.  12.8 14.1]]\n"
     ]
    }
   ],
   "source": [
    "with open('data1.csv', 'r') as fid:\n",
    "    lines  = fid.readlines()\n",
    "    rows   = [line.strip().split(',') for line in lines[1:]]  # skip the first row\n",
    "    a      = np.array(rows, dtype=float)\n",
    "\n",
    "print(a)"
   ]
  },
  {
   "cell_type": "markdown",
   "metadata": {},
   "source": [
    "___\n",
    "<a name=\"open-comments\"></a>\n",
    "## `open` <span style=\"background-color:powderblue;\">Comments</span>\n",
    "[Back to Table of Contents](#toc)\n",
    "<br>\n",
    "\n",
    "When there are comments, use `startwith` to ignore unneeded lines."
   ]
  },
  {
   "cell_type": "code",
   "execution_count": 19,
   "metadata": {},
   "outputs": [
    {
     "name": "stdout",
     "output_type": "stream",
     "text": [
      "[[ 1.  10.1 10.5]\n",
      " [ 2.   9.8 11.8]\n",
      " [ 3.  12.1 15.1]\n",
      " [ 4.  18.5 18.9]\n",
      " [ 5.  12.8 14.1]]\n"
     ]
    }
   ],
   "source": [
    "with open('data2.csv', 'r') as fid:\n",
    "    lines   = fid.readlines()\n",
    "    rows    = []\n",
    "    for line in lines[2:]:    # skip the first two rows\n",
    "        if line.startswith('%%'):\n",
    "            continue\n",
    "        row = line.strip().split(',')\n",
    "        rows.append( row )\n",
    "    a      = np.array(rows, dtype=float)\n",
    "\n",
    "print(a)"
   ]
  },
  {
   "cell_type": "markdown",
   "metadata": {},
   "source": [
    "Once you have a working function like this, it may be useful to create your own custom loading function, like this:"
   ]
  },
  {
   "cell_type": "code",
   "execution_count": 20,
   "metadata": {},
   "outputs": [
    {
     "name": "stdout",
     "output_type": "stream",
     "text": [
      "[[ 1.  10.1 10.5]\n",
      " [ 2.   9.8 11.8]\n",
      " [ 3.  12.1 15.1]\n",
      " [ 4.  18.5 18.9]\n",
      " [ 5.  12.8 14.1]]\n",
      "\n",
      "[[ 1.  10.1 10.5]\n",
      " [ 2.   9.8 11.8]\n",
      " [ 3.  12.1 15.1]\n",
      " [ 4.  18.5 18.9]\n",
      " [ 5.  12.8 14.1]]\n",
      "\n",
      "[[ 1.  10.1 10.5]\n",
      " [ 2.   9.8 11.8]\n",
      " [ 3.  12.1 15.1]\n",
      " [ 4.  18.5 18.9]\n",
      " [ 5.  12.8 14.1]]\n"
     ]
    }
   ],
   "source": [
    "\n",
    "def myload(fname, skiprows=0, comments=None):\n",
    "    with open(fname, 'r') as fid:\n",
    "        lines   = fid.readlines()\n",
    "    rows    = []\n",
    "    for line in lines[skiprows:]:\n",
    "        if comments is not None:\n",
    "            if line.startswith(comments):\n",
    "                continue\n",
    "        row = line.strip().split(',')\n",
    "        rows.append( row )\n",
    "    a      = np.array(rows, dtype=float)\n",
    "    return a\n",
    "\n",
    "\n",
    "\n",
    "a0        = myload('data0.csv')\n",
    "a1        = myload('data1.csv', skiprows=1)\n",
    "a2        = myload('data2.csv', skiprows=2, comments='%%')\n",
    "\n",
    "\n",
    "print(a0)\n",
    "print()\n",
    "print(a1)\n",
    "print()\n",
    "print(a2)\n",
    "\n"
   ]
  },
  {
   "cell_type": "markdown",
   "metadata": {},
   "source": [
    "___\n",
    "<a name=\"open-complex\"></a>\n",
    "## `open` <span style=\"background-color:powderblue;\">Complex text file</span>\n",
    "[Back to Table of Contents](#toc)\n",
    "<br>\n",
    "\n",
    "Occasionally data files can be very poorly formatted, making it difficult to use `np.loadtxt` and `csv.reader`.  For such cases, `open` is usually the only option.\n",
    "\n",
    "Here is an example of a poorly formatted text file (`data3.csv`):\n",
    "\n",
    "```\n",
    "% First line\n",
    "\n",
    "PersonID,Before,After\n",
    "1,10.1,,10.5\n",
    "\n",
    "2,,11.8\n",
    "\n",
    "3,12.1,15.1\n",
    "4,18.5,18.9\n",
    "5,12.8,14.1\n",
    "\n",
    "\n",
    "\n",
    "\n",
    "# Last line\n",
    "```\n",
    "\n",
    "<br>\n",
    "\n",
    "**Notes**:\n",
    "\n",
    "* There are a variety of empty lines\n",
    "* The first data row contains too many commas\n",
    "* The second data row contains an empty value\n",
    "* Different comment symbols are used on the first (`%`) and last (`#`) lines\n",
    "\n",
    "<br>\n",
    "\n",
    "In these cases, it is usually only possible to create a custom reader.\n",
    "\n",
    "Here is one way to read the data in `data3.csv`:"
   ]
  },
  {
   "cell_type": "code",
   "execution_count": 21,
   "metadata": {},
   "outputs": [
    {
     "name": "stdout",
     "output_type": "stream",
     "text": [
      "[[ 1.  10.1 10.5]\n",
      " [ 2.   nan 11.8]\n",
      " [ 3.  12.1 15.1]\n",
      " [ 4.  18.5 18.9]\n",
      " [ 5.  12.8 14.1]]\n"
     ]
    }
   ],
   "source": [
    "with open('data3.csv', 'r') as fid:\n",
    "    lines   = fid.readlines()\n",
    "\n",
    "rows    = []\n",
    "for line in lines[3:]:\n",
    "    if line.startswith('%') or line.startswith('#'):\n",
    "        continue\n",
    "    row = line.strip().split(',')\n",
    "    if len(row) < 3:   # row has fewer than 3 columns\n",
    "        continue\n",
    "    if len(row) > 3:   # row has more than 3 columns\n",
    "        row.pop( row.index('') )   # remove the empty entry\n",
    "    rows.append( row )\n",
    "\n",
    "a        = np.array(rows, dtype=str)  # string array\n",
    "a[a==''] = 'nan'   # set empty entries to \"nan\"  (not a number)\n",
    "a        = np.array(a, dtype=float)\n",
    "\n",
    "print(a)"
   ]
  },
  {
   "cell_type": "markdown",
   "metadata": {},
   "source": [
    "___\n",
    "<a name=\"summary\"></a>\n",
    "# Summary\n",
    "[Back to Table of Contents](#toc)\n",
    "\n",
    "* This notebook has demonstrated how to **parse** (i.e., read and interpret) a variety of relatively simple CSV files.\n",
    "\n",
    "* Real-world data are stored in a variety of text formats. CSV is one of the most common formats.\n",
    "\n",
    "* As a data scientist, you must be able to deal with a variety of file formats, as well as problems within specific files.\n",
    "\n",
    "* Useful Python functions for reading CSV files are listed below, in the general order in which they should be applied. If the data are formatted well, then `pd.read_csv` and / or `np.loadtxt` should be sufficient. With data formatting imperfections you may need to use `csv.reader` or even `open` to comprehensively deal with those problems.\n",
    "\n",
    "    * `pd.read_csv`\n",
    "    * `np.loadtxt`\n",
    "    * `csv.reader`\n",
    "    * `open`\n"
   ]
  }
 ],
 "metadata": {
  "kernelspec": {
   "display_name": "Python 3",
   "language": "python",
   "name": "python3"
  },
  "language_info": {
   "codemirror_mode": {
    "name": "ipython",
    "version": 3
   },
   "file_extension": ".py",
   "mimetype": "text/x-python",
   "name": "python",
   "nbconvert_exporter": "python",
   "pygments_lexer": "ipython3",
   "version": "3.8.3"
  }
 },
 "nbformat": 4,
 "nbformat_minor": 4
}
