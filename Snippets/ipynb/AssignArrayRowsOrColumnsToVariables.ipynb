{
 "cells": [
  {
   "cell_type": "markdown",
   "metadata": {},
   "source": [
    "# Assigning array rows / columns to variables\n",
    "\n",
    "Array rows and columns can be assigned to variable names like this:"
   ]
  },
  {
   "cell_type": "code",
   "execution_count": 1,
   "metadata": {},
   "outputs": [],
   "source": [
    "import numpy as np\n",
    "\n",
    "np.random.seed(0)\n",
    "a         = np.random.randn(5, 2)   # 5 x 2 array of random numbers\n",
    "b,c       = a.T  # each column assigned to a different variable\n",
    "d,e,f,g,h = a    # each row assinged to a different variable\n"
   ]
  },
  {
   "cell_type": "markdown",
   "metadata": {},
   "source": [
    "___\n",
    "\n",
    "## Explanation:\n",
    "\n",
    "Consider the following code:"
   ]
  },
  {
   "cell_type": "code",
   "execution_count": 2,
   "metadata": {},
   "outputs": [
    {
     "name": "stdout",
     "output_type": "stream",
     "text": [
      "[[ 0.14404357  1.45427351]\n",
      " [ 0.76103773  0.12167502]\n",
      " [ 0.44386323  0.33367433]\n",
      " [ 1.49407907 -0.20515826]\n",
      " [ 0.3130677  -0.85409574]]\n",
      "\n",
      "[0.14404357 1.45427351]\n",
      "\n",
      "[0.76103773 0.12167502]\n"
     ]
    }
   ],
   "source": [
    "a = np.random.randn(5, 2)   # 5 x 2 array of random numbers\n",
    "b = a[0,:]   # the 1st row of a\n",
    "b = a[0]     # also the 1st row of a\n",
    "c = a[1]     # the 2nd row of a\n",
    "\n",
    "print( a )\n",
    "print()\n",
    "print(b)\n",
    "print()\n",
    "print(c)"
   ]
  },
  {
   "cell_type": "markdown",
   "metadata": {},
   "source": [
    "<br>\n",
    "\n",
    "Now consider the transpose of \"a\":"
   ]
  },
  {
   "cell_type": "code",
   "execution_count": 3,
   "metadata": {},
   "outputs": [
    {
     "name": "stdout",
     "output_type": "stream",
     "text": [
      "[[ 0.14404357  0.76103773  0.44386323  1.49407907  0.3130677 ]\n",
      " [ 1.45427351  0.12167502  0.33367433 -0.20515826 -0.85409574]]\n",
      "\n",
      "[0.14404357 0.76103773 0.44386323 1.49407907 0.3130677 ]\n",
      "\n",
      "[ 1.45427351  0.12167502  0.33367433 -0.20515826 -0.85409574]\n"
     ]
    }
   ],
   "source": [
    "aa = a.T     # 2 x 5 array (transpose of a)\n",
    "b  = aa[0]   # the 1st row of aa, equivalent to the 1st column of a\n",
    "c  = aa[1]   # the 2nd row of aa, equivalent to the 2nd column of a\n",
    "\n",
    "print( aa )\n",
    "print()\n",
    "print( b )\n",
    "print()\n",
    "print( c )"
   ]
  },
  {
   "cell_type": "markdown",
   "metadata": {},
   "source": [
    "<br>\n",
    "\n",
    "Now consider assigning values to multiple variable in a single line:"
   ]
  },
  {
   "cell_type": "code",
   "execution_count": 4,
   "metadata": {},
   "outputs": [],
   "source": [
    "b,c = 10, 20        # assign values of 10 and 20 to variables b and c, respectively\n",
    "b,c = aa[0], aa[1]  # assign rows of aa to variables b and c\n",
    "b,c = aa            # (same as above) assign rows of aa to variables b and c"
   ]
  },
  {
   "cell_type": "markdown",
   "metadata": {},
   "source": [
    "<br>\n",
    "\n",
    "Now put everything together, to assign the columns of a to variables `b` and `c`:"
   ]
  },
  {
   "cell_type": "code",
   "execution_count": 5,
   "metadata": {},
   "outputs": [
    {
     "name": "stdout",
     "output_type": "stream",
     "text": [
      "[[-2.55298982  0.6536186 ]\n",
      " [ 0.8644362  -0.74216502]\n",
      " [ 2.26975462 -1.45436567]\n",
      " [ 0.04575852 -0.18718385]\n",
      " [ 1.53277921  1.46935877]]\n",
      "\n",
      "[-2.55298982  0.8644362   2.26975462  0.04575852  1.53277921]\n",
      "\n",
      "[ 0.6536186  -0.74216502 -1.45436567 -0.18718385  1.46935877]\n"
     ]
    }
   ],
   "source": [
    "a   = np.random.randn(5, 2)   # 5 x 2 array of random numbers\n",
    "b,c = a.T                     # assign columns of aa to variables b and c\n",
    "\n",
    "print(a)\n",
    "print()\n",
    "print(b)\n",
    "print()\n",
    "print(c)"
   ]
  }
 ],
 "metadata": {
  "kernelspec": {
   "display_name": "Python 3",
   "language": "python",
   "name": "python3"
  },
  "language_info": {
   "codemirror_mode": {
    "name": "ipython",
    "version": 3
   },
   "file_extension": ".py",
   "mimetype": "text/x-python",
   "name": "python",
   "nbconvert_exporter": "python",
   "pygments_lexer": "ipython3",
   "version": "3.8.3"
  }
 },
 "nbformat": 4,
 "nbformat_minor": 4
}
